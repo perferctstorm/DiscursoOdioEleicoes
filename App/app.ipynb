{
 "cells": [
  {
   "cell_type": "code",
   "execution_count": 61,
   "id": "0d32546e-53c0-4c95-baa5-e4fdf7b4c042",
   "metadata": {},
   "outputs": [],
   "source": [
    "import streamlit as st\n",
    "import altair as alt\n",
    "import polars as pl\n",
    "import numpy as np\n",
    "import sys"
   ]
  },
  {
   "cell_type": "code",
   "execution_count": 62,
   "id": "22cf34c2-be39-4a15-a118-2a48a0acf153",
   "metadata": {},
   "outputs": [],
   "source": [
    "sys.path.insert(0, '../Eleicoes/')"
   ]
  },
  {
   "cell_type": "code",
   "execution_count": 63,
   "id": "6e3e8f4a-59cd-4eec-a91b-3968dec44fcd",
   "metadata": {},
   "outputs": [],
   "source": [
    "import standards as sdt_f"
   ]
  },
  {
   "cell_type": "code",
   "execution_count": 59,
   "id": "1bd0a7c8-ecff-4c55-9754-de75129e2a3f",
   "metadata": {},
   "outputs": [],
   "source": [
    "poll_18:str = \"eleicao18_turno_01.parquet\"\n",
    "poll_22:str = \"eleicao22_turno_01.parquet\"\n",
    "parties:str = \"partidos_br.parquet\""
   ]
  },
  {
   "cell_type": "code",
   "execution_count": 2,
   "id": "3ca39d36-e4f5-4dd2-a9df-490b960d2902",
   "metadata": {},
   "outputs": [],
   "source": [
    "def get_df(url):\n",
    "    return pl.read_parquet(source=url)"
   ]
  },
  {
   "cell_type": "code",
   "execution_count": 26,
   "id": "2749d77b-514e-4fc4-a226-52952e0ded60",
   "metadata": {},
   "outputs": [],
   "source": [
    "def get_regioes():\n",
    "    return get_df(\"https://raw.githubusercontent.com/perferctstorm/DiscursoOdioEleicoes/main/Dados/Eleicoes/regioes.parquet\")     "
   ]
  },
  {
   "cell_type": "code",
   "execution_count": 27,
   "id": "5f90b01c-3e9b-4b72-af9f-a6a12532407d",
   "metadata": {},
   "outputs": [],
   "source": [
    "def get_eleicao_18():\n",
    "    return get_df(f\"https://raw.githubusercontent.com/perferctstorm/DiscursoOdioEleicoes/main/Dados/Eleicoes/{poll_18}\")     "
   ]
  },
  {
   "cell_type": "code",
   "execution_count": 28,
   "id": "85521b58-4959-4975-804e-c2b0c0786eae",
   "metadata": {},
   "outputs": [],
   "source": [
    "def get_eleicao_22():\n",
    "    return get_df(f\"https://raw.githubusercontent.com/perferctstorm/DiscursoOdioEleicoes/main/Dados/Eleicoes/{poll_22}\")     "
   ]
  },
  {
   "cell_type": "code",
   "execution_count": 56,
   "id": "1f416d29-6822-4f18-8eac-4db489aecaa4",
   "metadata": {},
   "outputs": [],
   "source": [
    "def get_partidos():\n",
    "    return get_df(f\"https://raw.githubusercontent.com/perferctstorm/DiscursoOdioEleicoes/main/Dados/Eleicoes/{parties}\")     "
   ]
  },
  {
   "cell_type": "code",
   "execution_count": 29,
   "id": "b3cec077-2a3b-40f2-85be-092debe887ee",
   "metadata": {},
   "outputs": [
    {
     "data": {
      "text/html": [
       "<div><style>\n",
       ".dataframe > thead > tr,\n",
       ".dataframe > tbody > tr {\n",
       "  text-align: right;\n",
       "  white-space: pre-wrap;\n",
       "}\n",
       "</style>\n",
       "<small>shape: (1, 3)</small><table border=\"1\" class=\"dataframe\"><thead><tr><th>UF</th><th>SG_REGIAO</th><th>NM_REGIAO</th></tr><tr><td>str</td><td>str</td><td>str</td></tr></thead><tbody><tr><td>&quot;AM&quot;</td><td>&quot;N&quot;</td><td>&quot;Norte&quot;</td></tr></tbody></table></div>"
      ],
      "text/plain": [
       "shape: (1, 3)\n",
       "┌─────┬───────────┬───────────┐\n",
       "│ UF  ┆ SG_REGIAO ┆ NM_REGIAO │\n",
       "│ --- ┆ ---       ┆ ---       │\n",
       "│ str ┆ str       ┆ str       │\n",
       "╞═════╪═══════════╪═══════════╡\n",
       "│ AM  ┆ N         ┆ Norte     │\n",
       "└─────┴───────────┴───────────┘"
      ]
     },
     "execution_count": 29,
     "metadata": {},
     "output_type": "execute_result"
    }
   ],
   "source": [
    "df_regioes = get_regioes()\n",
    "df_regioes.limit(1)"
   ]
  },
  {
   "cell_type": "code",
   "execution_count": 31,
   "id": "9ab48ce6-2ac4-40e5-8f54-444ec876464a",
   "metadata": {},
   "outputs": [
    {
     "data": {
      "text/html": [
       "<div><style>\n",
       ".dataframe > thead > tr,\n",
       ".dataframe > tbody > tr {\n",
       "  text-align: right;\n",
       "  white-space: pre-wrap;\n",
       "}\n",
       "</style>\n",
       "<small>shape: (1, 19)</small><table border=\"1\" class=\"dataframe\"><thead><tr><th>ANO_ELEICAO</th><th>TP_ABRANGENCIA</th><th>SG_UF</th><th>SG_UE</th><th>NM_UE</th><th>CD_MUNICIPIO</th><th>NM_MUNICIPIO</th><th>NR_ZONA</th><th>CD_CARGO</th><th>DS_CARGO</th><th>NR_PARTIDO</th><th>SG_PARTIDO</th><th>NM_PARTIDO</th><th>QT_VOTOS_VALIDOS</th><th>SIGLA_2022</th><th>POSIC_IDEOLOGICO</th><th>SG_POSIC_IDEOLOGICO</th><th>SG_REGIAO</th><th>NM_REGIAO</th></tr><tr><td>i64</td><td>str</td><td>str</td><td>str</td><td>str</td><td>i64</td><td>str</td><td>i64</td><td>i64</td><td>str</td><td>i64</td><td>str</td><td>str</td><td>i64</td><td>str</td><td>str</td><td>str</td><td>str</td><td>str</td></tr></thead><tbody><tr><td>2018</td><td>&quot;E&quot;</td><td>&quot;PE&quot;</td><td>&quot;PE&quot;</td><td>&quot;PERNAMBUCO&quot;</td><td>23132</td><td>&quot;ALIANÇA&quot;</td><td>125</td><td>7</td><td>&quot;Deputado Estadual&quot;</td><td>77</td><td>&quot;SOLIDARIEDADE&quot;</td><td>&quot;Solidariedade&quot;</td><td>148</td><td>&quot;SOLIDARIEDADE&quot;</td><td>&quot;Centro Direita&quot;</td><td>&quot;CD&quot;</td><td>&quot;NE&quot;</td><td>&quot;Nordeste&quot;</td></tr></tbody></table></div>"
      ],
      "text/plain": [
       "shape: (1, 19)\n",
       "┌─────────────┬────────────────┬───────┬───────┬───┬──────────────────┬─────────────────────┬───────────┬───────────┐\n",
       "│ ANO_ELEICAO ┆ TP_ABRANGENCIA ┆ SG_UF ┆ SG_UE ┆ … ┆ POSIC_IDEOLOGICO ┆ SG_POSIC_IDEOLOGICO ┆ SG_REGIAO ┆ NM_REGIAO │\n",
       "│ ---         ┆ ---            ┆ ---   ┆ ---   ┆   ┆ ---              ┆ ---                 ┆ ---       ┆ ---       │\n",
       "│ i64         ┆ str            ┆ str   ┆ str   ┆   ┆ str              ┆ str                 ┆ str       ┆ str       │\n",
       "╞═════════════╪════════════════╪═══════╪═══════╪═══╪══════════════════╪═════════════════════╪═══════════╪═══════════╡\n",
       "│ 2018        ┆ E              ┆ PE    ┆ PE    ┆ … ┆ Centro Direita   ┆ CD                  ┆ NE        ┆ Nordeste  │\n",
       "└─────────────┴────────────────┴───────┴───────┴───┴──────────────────┴─────────────────────┴───────────┴───────────┘"
      ]
     },
     "execution_count": 31,
     "metadata": {},
     "output_type": "execute_result"
    }
   ],
   "source": [
    "df_poll_18:pl.DataFrame = get_eleicao_18()\n",
    "df_poll_18.limit(1)"
   ]
  },
  {
   "cell_type": "code",
   "execution_count": 32,
   "id": "36c8d4bb-bd1b-4b97-8165-0270739ca755",
   "metadata": {},
   "outputs": [
    {
     "data": {
      "text/html": [
       "<div><style>\n",
       ".dataframe > thead > tr,\n",
       ".dataframe > tbody > tr {\n",
       "  text-align: right;\n",
       "  white-space: pre-wrap;\n",
       "}\n",
       "</style>\n",
       "<small>shape: (1, 19)</small><table border=\"1\" class=\"dataframe\"><thead><tr><th>ANO_ELEICAO</th><th>TP_ABRANGENCIA</th><th>SG_UF</th><th>SG_UE</th><th>NM_UE</th><th>CD_MUNICIPIO</th><th>NM_MUNICIPIO</th><th>NR_ZONA</th><th>CD_CARGO</th><th>DS_CARGO</th><th>NR_PARTIDO</th><th>SG_PARTIDO</th><th>NM_PARTIDO</th><th>QT_VOTOS_VALIDOS</th><th>SIGLA_2022</th><th>POSIC_IDEOLOGICO</th><th>SG_POSIC_IDEOLOGICO</th><th>SG_REGIAO</th><th>NM_REGIAO</th></tr><tr><td>i64</td><td>str</td><td>str</td><td>str</td><td>str</td><td>i64</td><td>str</td><td>i64</td><td>i64</td><td>str</td><td>i64</td><td>str</td><td>str</td><td>i64</td><td>str</td><td>str</td><td>str</td><td>str</td><td>str</td></tr></thead><tbody><tr><td>2022</td><td>&quot;E&quot;</td><td>&quot;RS&quot;</td><td>&quot;RS&quot;</td><td>&quot;RIO GRANDE DO SUL&quot;</td><td>89699</td><td>&quot;VICTOR GRAEFF&quot;</td><td>117</td><td>6</td><td>&quot;Deputado Federal&quot;</td><td>30</td><td>&quot;NOVO&quot;</td><td>&quot;Partido Novo&quot;</td><td>69</td><td>&quot;NOVO&quot;</td><td>&quot;Direita&quot;</td><td>&quot;D&quot;</td><td>&quot;S&quot;</td><td>&quot;Sul&quot;</td></tr></tbody></table></div>"
      ],
      "text/plain": [
       "shape: (1, 19)\n",
       "┌─────────────┬────────────────┬───────┬───────┬───┬──────────────────┬─────────────────────┬───────────┬───────────┐\n",
       "│ ANO_ELEICAO ┆ TP_ABRANGENCIA ┆ SG_UF ┆ SG_UE ┆ … ┆ POSIC_IDEOLOGICO ┆ SG_POSIC_IDEOLOGICO ┆ SG_REGIAO ┆ NM_REGIAO │\n",
       "│ ---         ┆ ---            ┆ ---   ┆ ---   ┆   ┆ ---              ┆ ---                 ┆ ---       ┆ ---       │\n",
       "│ i64         ┆ str            ┆ str   ┆ str   ┆   ┆ str              ┆ str                 ┆ str       ┆ str       │\n",
       "╞═════════════╪════════════════╪═══════╪═══════╪═══╪══════════════════╪═════════════════════╪═══════════╪═══════════╡\n",
       "│ 2022        ┆ E              ┆ RS    ┆ RS    ┆ … ┆ Direita          ┆ D                   ┆ S         ┆ Sul       │\n",
       "└─────────────┴────────────────┴───────┴───────┴───┴──────────────────┴─────────────────────┴───────────┴───────────┘"
      ]
     },
     "execution_count": 32,
     "metadata": {},
     "output_type": "execute_result"
    }
   ],
   "source": [
    "df_poll_22:pl.DataFrame = get_eleicao_22()\n",
    "df_poll_22.limit(1)"
   ]
  },
  {
   "cell_type": "code",
   "execution_count": 44,
   "id": "beb7a3b7-633c-49e6-80d3-915f6645a901",
   "metadata": {},
   "outputs": [],
   "source": [
    "total_votos_pres_18:np.int32 = (\n",
    "    df_poll_18\n",
    "    .filter(pl.col(\"CD_CARGO\")==1)\n",
    "    .get_column(\"QT_VOTOS_VALIDOS\").sum()\n",
    ")\n"
   ]
  },
  {
   "cell_type": "code",
   "execution_count": 55,
   "id": "3816fba1-3c4a-4cc4-950c-fe2efa25149b",
   "metadata": {},
   "outputs": [
    {
     "name": "stdout",
     "output_type": "stream",
     "text": [
      "107.050.749\n"
     ]
    }
   ],
   "source": [
    "print(\"{:,}\".format(total_votos_pres_18).replace(\",\",\".\"))"
   ]
  },
  {
   "cell_type": "code",
   "execution_count": 64,
   "id": "8b890034-53fc-4967-bdac-b19eb3630448",
   "metadata": {},
   "outputs": [],
   "source": [
    "df_partidos = get_partidos()"
   ]
  },
  {
   "cell_type": "code",
   "execution_count": 65,
   "id": "b68fb621-3b42-44f2-9052-47bd97083b07",
   "metadata": {},
   "outputs": [],
   "source": [
    "df_colors = sdt_f.parties_colors(df_partidos) #define uma cor para cada partido político baseado na sua ideologia"
   ]
  },
  {
   "cell_type": "code",
   "execution_count": 68,
   "id": "0c31d7c5-63ef-45e9-b34b-1cea210ca458",
   "metadata": {},
   "outputs": [
    {
     "data": {
      "text/html": [
       "\n",
       "<style>\n",
       "  #altair-viz-00c3bb68112b44aca3cc4ee1a9e6be2e.vega-embed {\n",
       "    width: 100%;\n",
       "    display: flex;\n",
       "  }\n",
       "\n",
       "  #altair-viz-00c3bb68112b44aca3cc4ee1a9e6be2e.vega-embed details,\n",
       "  #altair-viz-00c3bb68112b44aca3cc4ee1a9e6be2e.vega-embed details summary {\n",
       "    position: relative;\n",
       "  }\n",
       "</style>\n",
       "<div id=\"altair-viz-00c3bb68112b44aca3cc4ee1a9e6be2e\"></div>\n",
       "<script type=\"text/javascript\">\n",
       "  var VEGA_DEBUG = (typeof VEGA_DEBUG == \"undefined\") ? {} : VEGA_DEBUG;\n",
       "  (function(spec, embedOpt){\n",
       "    let outputDiv = document.currentScript.previousElementSibling;\n",
       "    if (outputDiv.id !== \"altair-viz-00c3bb68112b44aca3cc4ee1a9e6be2e\") {\n",
       "      outputDiv = document.getElementById(\"altair-viz-00c3bb68112b44aca3cc4ee1a9e6be2e\");\n",
       "    }\n",
       "    const paths = {\n",
       "      \"vega\": \"https://cdn.jsdelivr.net/npm/vega@5?noext\",\n",
       "      \"vega-lib\": \"https://cdn.jsdelivr.net/npm/vega-lib?noext\",\n",
       "      \"vega-lite\": \"https://cdn.jsdelivr.net/npm/vega-lite@5.20.1?noext\",\n",
       "      \"vega-embed\": \"https://cdn.jsdelivr.net/npm/vega-embed@6?noext\",\n",
       "    };\n",
       "\n",
       "    function maybeLoadScript(lib, version) {\n",
       "      var key = `${lib.replace(\"-\", \"\")}_version`;\n",
       "      return (VEGA_DEBUG[key] == version) ?\n",
       "        Promise.resolve(paths[lib]) :\n",
       "        new Promise(function(resolve, reject) {\n",
       "          var s = document.createElement('script');\n",
       "          document.getElementsByTagName(\"head\")[0].appendChild(s);\n",
       "          s.async = true;\n",
       "          s.onload = () => {\n",
       "            VEGA_DEBUG[key] = version;\n",
       "            return resolve(paths[lib]);\n",
       "          };\n",
       "          s.onerror = () => reject(`Error loading script: ${paths[lib]}`);\n",
       "          s.src = paths[lib];\n",
       "        });\n",
       "    }\n",
       "\n",
       "    function showError(err) {\n",
       "      outputDiv.innerHTML = `<div class=\"error\" style=\"color:red;\">${err}</div>`;\n",
       "      throw err;\n",
       "    }\n",
       "\n",
       "    function displayChart(vegaEmbed) {\n",
       "      vegaEmbed(outputDiv, spec, embedOpt)\n",
       "        .catch(err => showError(`Javascript Error: ${err.message}<br>This usually means there's a typo in your chart specification. See the javascript console for the full traceback.`));\n",
       "    }\n",
       "\n",
       "    if(typeof define === \"function\" && define.amd) {\n",
       "      requirejs.config({paths});\n",
       "      require([\"vega-embed\"], displayChart, err => showError(`Error loading script: ${err.message}`));\n",
       "    } else {\n",
       "      maybeLoadScript(\"vega\", \"5\")\n",
       "        .then(() => maybeLoadScript(\"vega-lite\", \"5.20.1\"))\n",
       "        .then(() => maybeLoadScript(\"vega-embed\", \"6\"))\n",
       "        .catch(showError)\n",
       "        .then(() => displayChart(vegaEmbed));\n",
       "    }\n",
       "  })({\"config\": {\"view\": {\"continuousWidth\": 300, \"continuousHeight\": 300, \"strokeWidth\": 0}, \"title\": {\"fontSize\": 14}}, \"layer\": [{\"mark\": {\"type\": \"point\", \"filled\": true, \"opacity\": 0.9, \"size\": 100}, \"encoding\": {\"color\": {\"field\": \"SG_POSIC_IDEOLOGICO\", \"legend\": {\"labelBaseline\": \"middle\", \"orient\": \"bottom\", \"symbolType\": \"square\"}, \"scale\": {\"domain\": [\"EE\", \"E\", \"CE\", \"C\", \"CD\", \"D\", \"ED\"], \"range\": [\"#7F0000\", \"#FF0000\", \"#C54B53\", \"#FFD966\", \"#97A3FF\", \"#262DDA\", \"#030886\"]}, \"title\": \"Ideologia\", \"type\": \"ordinal\"}, \"shape\": {\"value\": \"M1.7 -1.7h-0.8c0.3 -0.2 0.6 -0.5 0.6 -0.9c0 -0.6 -0.4 -1 -1 -1c-0.6 0 -1 0.4 -1 1c0 0.4 0.2 0.7 0.6 0.9h-0.8c-0.4 0 -0.7 0.3 -0.7 0.6v1.9c0 0.3 0.3 0.6 0.6 0.6h0.2c0 0 0 0.1 0 0.1v1.9c0 0.3 0.2 0.6 0.3 0.6h1.3c0.2 0 0.3 -0.3 0.3 -0.6v-1.8c0 0 0 -0.1 0 -0.1h0.2c0.3 0 0.6 -0.3 0.6 -0.6v-2c0.2 -0.3 -0.1 -0.6 -0.4 -0.6z\"}, \"tooltip\": [{\"field\": \"SG_PARTIDO\", \"title\": \"Partido\", \"type\": \"ordinal\"}, {\"field\": \"MEDIA_IDEOL\", \"format\": \".2f\", \"title\": \"M\\u00e9dia Ideol\\u00f3gica\", \"type\": \"quantitative\"}], \"x\": {\"field\": \"MEDIA_IDEOL\", \"scale\": {\"nice\": true}, \"title\": \"M\\u00e9dia Ideol\\u00f3gica\", \"type\": \"quantitative\"}}}, {\"mark\": {\"type\": \"text\", \"align\": \"left\", \"angle\": 270, \"baseline\": \"top\", \"dx\": {\"expr\": \"if((datum.SG_PARTIDO === 'PMB'),-70,if((datum.SG_PARTIDO === 'PSD'),-70,if((datum.SG_PARTIDO === 'PRD'),-70,if((datum.SG_PARTIDO === 'PODE'),-70,if((datum.SG_PARTIDO === 'AGIR'),-70,if((datum.SG_PARTIDO === 'NOVO'),-70,30))))))\"}, \"dy\": 0, \"fontSize\": 8.5, \"fontWeight\": \"bold\", \"opacity\": 1}, \"encoding\": {\"color\": {\"value\": \"#000\"}, \"shape\": {\"value\": \"M1.7 -1.7h-0.8c0.3 -0.2 0.6 -0.5 0.6 -0.9c0 -0.6 -0.4 -1 -1 -1c-0.6 0 -1 0.4 -1 1c0 0.4 0.2 0.7 0.6 0.9h-0.8c-0.4 0 -0.7 0.3 -0.7 0.6v1.9c0 0.3 0.3 0.6 0.6 0.6h0.2c0 0 0 0.1 0 0.1v1.9c0 0.3 0.2 0.6 0.3 0.6h1.3c0.2 0 0.3 -0.3 0.3 -0.6v-1.8c0 0 0 -0.1 0 -0.1h0.2c0.3 0 0.6 -0.3 0.6 -0.6v-2c0.2 -0.3 -0.1 -0.6 -0.4 -0.6z\"}, \"text\": {\"field\": \"SG_PARTIDO\", \"type\": \"ordinal\"}, \"tooltip\": [{\"field\": \"SG_PARTIDO\", \"title\": \"Partido\", \"type\": \"ordinal\"}, {\"field\": \"MEDIA_IDEOL\", \"format\": \".2f\", \"title\": \"M\\u00e9dia Ideol\\u00f3gica\", \"type\": \"quantitative\"}], \"x\": {\"field\": \"MEDIA_IDEOL\", \"scale\": {\"nice\": true}, \"title\": \"M\\u00e9dia Ideol\\u00f3gica\", \"type\": \"quantitative\"}}}], \"data\": {\"name\": \"data-218035c7576e144d0528b0a8a85a4262\"}, \"height\": 45, \"width\": 1000, \"$schema\": \"https://vega.github.io/schema/vega-lite/v5.20.1.json\", \"datasets\": {\"data-218035c7576e144d0528b0a8a85a4262\": [{\"SG_PARTIDO\": \"PSDB\", \"SG_POSIC_IDEOLOGICO\": \"CD\", \"MEDIA_IDEOL\": 7.110000133514404, \"cor\": \"#97A3FF\"}, {\"SG_PARTIDO\": \"SOLIDARIEDADE\", \"SG_POSIC_IDEOLOGICO\": \"CD\", \"MEDIA_IDEOL\": 6.5, \"cor\": \"#97A3FF\"}, {\"SG_PARTIDO\": \"PL\", \"SG_POSIC_IDEOLOGICO\": \"D\", \"MEDIA_IDEOL\": 7.78000020980835, \"cor\": \"#262DDA\"}, {\"SG_PARTIDO\": \"MOBILIZA\", \"SG_POSIC_IDEOLOGICO\": \"CD\", \"MEDIA_IDEOL\": 6.880000114440918, \"cor\": \"#97A3FF\"}, {\"SG_PARTIDO\": \"PCO\", \"SG_POSIC_IDEOLOGICO\": \"EE\", \"MEDIA_IDEOL\": 0.6100000143051147, \"cor\": \"#7F0000\"}, {\"SG_PARTIDO\": \"PCB\", \"SG_POSIC_IDEOLOGICO\": \"EE\", \"MEDIA_IDEOL\": 0.9100000262260437, \"cor\": \"#7F0000\"}, {\"SG_PARTIDO\": \"PSB\", \"SG_POSIC_IDEOLOGICO\": \"CE\", \"MEDIA_IDEOL\": 4.050000190734863, \"cor\": \"#C54B53\"}, {\"SG_PARTIDO\": \"PRD\", \"SG_POSIC_IDEOLOGICO\": \"D\", \"MEDIA_IDEOL\": 7.329999923706055, \"cor\": \"#262DDA\"}, {\"SG_PARTIDO\": \"NOVO\", \"SG_POSIC_IDEOLOGICO\": \"D\", \"MEDIA_IDEOL\": 8.130000114440918, \"cor\": \"#262DDA\"}, {\"SG_PARTIDO\": \"REDE\", \"SG_POSIC_IDEOLOGICO\": \"C\", \"MEDIA_IDEOL\": 4.769999980926514, \"cor\": \"#FFD966\"}, {\"SG_PARTIDO\": \"PRTB\", \"SG_POSIC_IDEOLOGICO\": \"D\", \"MEDIA_IDEOL\": 7.449999809265137, \"cor\": \"#262DDA\"}, {\"SG_PARTIDO\": \"PSTU\", \"SG_POSIC_IDEOLOGICO\": \"EE\", \"MEDIA_IDEOL\": 0.5099999904632568, \"cor\": \"#7F0000\"}, {\"SG_PARTIDO\": \"MDB\", \"SG_POSIC_IDEOLOGICO\": \"CD\", \"MEDIA_IDEOL\": 7.010000228881836, \"cor\": \"#97A3FF\"}, {\"SG_PARTIDO\": \"PMB\", \"SG_POSIC_IDEOLOGICO\": \"CD\", \"MEDIA_IDEOL\": 6.900000095367432, \"cor\": \"#97A3FF\"}, {\"SG_PARTIDO\": \"PSOL\", \"SG_POSIC_IDEOLOGICO\": \"EE\", \"MEDIA_IDEOL\": 1.2799999713897705, \"cor\": \"#7F0000\"}, {\"SG_PARTIDO\": \"PT\", \"SG_POSIC_IDEOLOGICO\": \"CE\", \"MEDIA_IDEOL\": 2.9700000286102295, \"cor\": \"#C54B53\"}, {\"SG_PARTIDO\": \"PPL\", \"SG_POSIC_IDEOLOGICO\": \"D\", \"MEDIA_IDEOL\": 7.269999980926514, \"cor\": \"#262DDA\"}, {\"SG_PARTIDO\": \"REPUBLICANOS\", \"SG_POSIC_IDEOLOGICO\": \"D\", \"MEDIA_IDEOL\": 7.78000020980835, \"cor\": \"#262DDA\"}, {\"SG_PARTIDO\": \"PP\", \"SG_POSIC_IDEOLOGICO\": \"D\", \"MEDIA_IDEOL\": 8.199999809265137, \"cor\": \"#262DDA\"}, {\"SG_PARTIDO\": \"PODE\", \"SG_POSIC_IDEOLOGICO\": \"D\", \"MEDIA_IDEOL\": 7.239999771118164, \"cor\": \"#262DDA\"}, {\"SG_PARTIDO\": \"PCdoB\", \"SG_POSIC_IDEOLOGICO\": \"E\", \"MEDIA_IDEOL\": 1.9199999570846558, \"cor\": \"#FF0000\"}, {\"SG_PARTIDO\": \"PV\", \"SG_POSIC_IDEOLOGICO\": \"C\", \"MEDIA_IDEOL\": 5.289999961853027, \"cor\": \"#FFD966\"}, {\"SG_PARTIDO\": \"PSD\", \"SG_POSIC_IDEOLOGICO\": \"CD\", \"MEDIA_IDEOL\": 7.090000152587891, \"cor\": \"#97A3FF\"}, {\"SG_PARTIDO\": \"AGIR\", \"SG_POSIC_IDEOLOGICO\": \"D\", \"MEDIA_IDEOL\": 7.860000133514404, \"cor\": \"#262DDA\"}, {\"SG_PARTIDO\": \"UP\", \"SG_POSIC_IDEOLOGICO\": \"EE\", \"MEDIA_IDEOL\": 0.7599999904632568, \"cor\": \"#7F0000\"}, {\"SG_PARTIDO\": \"CIDADANIA\", \"SG_POSIC_IDEOLOGICO\": \"C\", \"MEDIA_IDEOL\": 4.920000076293945, \"cor\": \"#FFD966\"}, {\"SG_PARTIDO\": \"AVANTE\", \"SG_POSIC_IDEOLOGICO\": \"CD\", \"MEDIA_IDEOL\": 6.320000171661377, \"cor\": \"#97A3FF\"}, {\"SG_PARTIDO\": \"PDT\", \"SG_POSIC_IDEOLOGICO\": \"CE\", \"MEDIA_IDEOL\": 3.9200000762939453, \"cor\": \"#C54B53\"}, {\"SG_PARTIDO\": \"UNI\\u00c3O\", \"SG_POSIC_IDEOLOGICO\": \"ED\", \"MEDIA_IDEOL\": 8.569999694824219, \"cor\": \"#030886\"}, {\"SG_PARTIDO\": \"DC\", \"SG_POSIC_IDEOLOGICO\": \"D\", \"MEDIA_IDEOL\": 8.109999656677246, \"cor\": \"#262DDA\"}]}}, {\"mode\": \"vega-lite\"});\n",
       "</script>"
      ],
      "text/plain": [
       "alt.LayerChart(...)"
      ]
     },
     "execution_count": 68,
     "metadata": {},
     "output_type": "execute_result"
    }
   ],
   "source": [
    "title=\"Classificação ideológica dos partidos políticos brasileiros\"\n",
    "sdt_f.class_ideologica_chart(df_partidos, df_colors)"
   ]
  }
 ],
 "metadata": {
  "kernelspec": {
   "display_name": "Python 3 (ipykernel)",
   "language": "python",
   "name": "python3"
  },
  "language_info": {
   "codemirror_mode": {
    "name": "ipython",
    "version": 3
   },
   "file_extension": ".py",
   "mimetype": "text/x-python",
   "name": "python",
   "nbconvert_exporter": "python",
   "pygments_lexer": "ipython3",
   "version": "3.10.13"
  }
 },
 "nbformat": 4,
 "nbformat_minor": 5
}
