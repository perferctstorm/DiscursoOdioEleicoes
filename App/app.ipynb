{
 "cells": [
  {
   "cell_type": "code",
   "execution_count": 5,
   "id": "0d32546e-53c0-4c95-baa5-e4fdf7b4c042",
   "metadata": {},
   "outputs": [],
   "source": [
    "import streamlit as st\n",
    "import altair as alt\n",
    "import polars as pl\n",
    "import numpy as np\n",
    "import sys\n",
    "import plotly.express as px\n",
    "import pandas as pd"
   ]
  },
  {
   "cell_type": "code",
   "execution_count": null,
   "id": "22cf34c2-be39-4a15-a118-2a48a0acf153",
   "metadata": {},
   "outputs": [],
   "source": [
    "sys.path.insert(0, '../Eleicoes/')"
   ]
  },
  {
   "cell_type": "code",
   "execution_count": 6,
   "id": "0ebe589e-f060-43d0-9657-dc6b150b109c",
   "metadata": {},
   "outputs": [
    {
     "data": {
      "text/plain": [
       "'2.1.1'"
      ]
     },
     "execution_count": 6,
     "metadata": {},
     "output_type": "execute_result"
    }
   ],
   "source": [
    "pd.__version__"
   ]
  },
  {
   "cell_type": "code",
   "execution_count": null,
   "id": "6e3e8f4a-59cd-4eec-a91b-3968dec44fcd",
   "metadata": {},
   "outputs": [],
   "source": [
    "import standards as sdt_f"
   ]
  },
  {
   "cell_type": "code",
   "execution_count": null,
   "id": "1bd0a7c8-ecff-4c55-9754-de75129e2a3f",
   "metadata": {},
   "outputs": [],
   "source": [
    "poll_18:str = \"eleicao18_turno_01.parquet\"\n",
    "poll_22:str = \"eleicao22_turno_01.parquet\"\n",
    "parties:str = \"partidos_br.parquet\""
   ]
  },
  {
   "cell_type": "code",
   "execution_count": null,
   "id": "3ca39d36-e4f5-4dd2-a9df-490b960d2902",
   "metadata": {},
   "outputs": [],
   "source": [
    "def get_df(url):\n",
    "    return pl.read_parquet(source=url)"
   ]
  },
  {
   "cell_type": "code",
   "execution_count": null,
   "id": "2749d77b-514e-4fc4-a226-52952e0ded60",
   "metadata": {},
   "outputs": [],
   "source": [
    "def get_regioes():\n",
    "    return get_df(\"https://raw.githubusercontent.com/perferctstorm/DiscursoOdioEleicoes/main/Dados/Eleicoes/regioes.parquet\")     "
   ]
  },
  {
   "cell_type": "code",
   "execution_count": null,
   "id": "5f90b01c-3e9b-4b72-af9f-a6a12532407d",
   "metadata": {},
   "outputs": [],
   "source": [
    "def get_eleicao_18():\n",
    "    return get_df(f\"https://raw.githubusercontent.com/perferctstorm/DiscursoOdioEleicoes/main/Dados/Eleicoes/{poll_18}\")     "
   ]
  },
  {
   "cell_type": "code",
   "execution_count": null,
   "id": "85521b58-4959-4975-804e-c2b0c0786eae",
   "metadata": {},
   "outputs": [],
   "source": [
    "def get_eleicao_22():\n",
    "    return get_df(f\"https://raw.githubusercontent.com/perferctstorm/DiscursoOdioEleicoes/main/Dados/Eleicoes/{poll_22}\")     "
   ]
  },
  {
   "cell_type": "code",
   "execution_count": null,
   "id": "1f416d29-6822-4f18-8eac-4db489aecaa4",
   "metadata": {},
   "outputs": [],
   "source": [
    "def get_partidos():\n",
    "    return get_df(f\"https://raw.githubusercontent.com/perferctstorm/DiscursoOdioEleicoes/main/Dados/Eleicoes/{parties}\")     "
   ]
  },
  {
   "cell_type": "code",
   "execution_count": null,
   "id": "ad1815f8-bd5d-48e5-9276-0973c484c979",
   "metadata": {},
   "outputs": [],
   "source": [
    "def get_municipios():\n",
    "    return get_df(f\"https://raw.githubusercontent.com/perferctstorm/DiscursoOdioEleicoes/main/Dados/Eleicoes/municipios.parquet\")     "
   ]
  },
  {
   "cell_type": "code",
   "execution_count": null,
   "id": "aa4ffb67-197f-4bf0-b9da-cf7a1361c363",
   "metadata": {},
   "outputs": [],
   "source": [
    "def get_capitais():\n",
    "    return get_df(f\"https://raw.githubusercontent.com/perferctstorm/DiscursoOdioEleicoes/main/Dados/Eleicoes/capitais.parquet\")     \n"
   ]
  },
  {
   "cell_type": "code",
   "execution_count": null,
   "id": "f316cf0f-26d2-4a4a-ac2c-4605f92b12a0",
   "metadata": {},
   "outputs": [],
   "source": [
    "#disabilita o limite de 5.000 para processamento imposto pelo altair\n",
    "alt.data_transformers.disable_max_rows()"
   ]
  },
  {
   "cell_type": "code",
   "execution_count": null,
   "id": "b3cec077-2a3b-40f2-85be-092debe887ee",
   "metadata": {},
   "outputs": [],
   "source": [
    "df_regioes = get_regioes()\n",
    "df_regioes.limit(1)"
   ]
  },
  {
   "cell_type": "code",
   "execution_count": null,
   "id": "9ab48ce6-2ac4-40e5-8f54-444ec876464a",
   "metadata": {},
   "outputs": [],
   "source": [
    "df_poll_18:pl.DataFrame = get_eleicao_18()\n",
    "df_poll_18 = df_poll_18.filter(pl.col(\"CD_CARGO\")==1)\n",
    "df_poll_18 = df_poll_18.drop(\"NR_ZONA\")\n",
    "df_poll_18.limit(1)"
   ]
  },
  {
   "cell_type": "code",
   "execution_count": null,
   "id": "36c8d4bb-bd1b-4b97-8165-0270739ca755",
   "metadata": {},
   "outputs": [],
   "source": [
    "df_poll_22:pl.DataFrame = get_eleicao_22()\n",
    "df_poll_22 = df_poll_22.filter(pl.col(\"CD_CARGO\")==1)\n",
    "df_poll_22 = df_poll_22.drop(\"NR_ZONA\")\n",
    "df_poll_22.limit(1)"
   ]
  },
  {
   "cell_type": "code",
   "execution_count": null,
   "id": "532c0201-8085-4811-9335-5f4fffa15cab",
   "metadata": {},
   "outputs": [],
   "source": [
    "df_municipios = get_municipios()\n",
    "df_capitais = get_capitais()"
   ]
  },
  {
   "cell_type": "code",
   "execution_count": null,
   "id": "8b890034-53fc-4967-bdac-b19eb3630448",
   "metadata": {},
   "outputs": [],
   "source": [
    "df_partidos = get_partidos()"
   ]
  },
  {
   "cell_type": "code",
   "execution_count": null,
   "id": "b68fb621-3b42-44f2-9052-47bd97083b07",
   "metadata": {},
   "outputs": [],
   "source": [
    "df_colors = sdt_f.parties_colors(df_partidos) #define uma cor para cada partido político baseado na sua ideologia"
   ]
  },
  {
   "cell_type": "code",
   "execution_count": null,
   "id": "beb7a3b7-633c-49e6-80d3-915f6645a901",
   "metadata": {},
   "outputs": [],
   "source": [
    "total_votos_pres_18:np.int32 = (\n",
    "    df_poll_18\n",
    "    .filter(pl.col(\"CD_CARGO\")==1)\n",
    "    .get_column(\"QT_VOTOS_VALIDOS\").sum()\n",
    ")\n",
    "total_votos_pres_18"
   ]
  },
  {
   "cell_type": "code",
   "execution_count": null,
   "id": "a32edbbb-75ba-4240-9403-b8d86451f65b",
   "metadata": {},
   "outputs": [],
   "source": [
    "cruzamento:list[str] = [\"PT 2022 x PL 2022\", \"PT 2022 x PSL 2018\", \"PT 2022 x PT 2018\", \n",
    "                        \"PL 2022 x PSL 2018\", \"PL 2022 x PT 2018\"]"
   ]
  },
  {
   "cell_type": "code",
   "execution_count": null,
   "id": "5c947e1b-cc58-4c79-b4f9-3cd032a9bf42",
   "metadata": {},
   "outputs": [],
   "source": [
    "cols_list:list[str] = df_poll_18.columns\n",
    "cols_list.remove(\"QT_VOTOS_VALIDOS\")"
   ]
  },
  {
   "cell_type": "code",
   "execution_count": null,
   "id": "ade2dfcc-fdc2-41b5-b787-4e8c0be7355c",
   "metadata": {},
   "outputs": [],
   "source": [
    "df_poll_18 = df_poll_18.group_by(cols_list).sum()\n",
    "df_poll_22 = df_poll_22.group_by(cols_list).sum()"
   ]
  },
  {
   "cell_type": "code",
   "execution_count": null,
   "id": "db06f5e5-015d-4440-874c-0ab95139d343",
   "metadata": {},
   "outputs": [],
   "source": [
    "df_poll_18.filter( (pl.col(\"NM_MUNICIPIO\")==\"FORTALEZA\") & (pl.col(\"SG_UF\")==\"CE\")).get_column(\"SG_PARTIDO\").value_counts().filter(pl.col(\"count\")>1)"
   ]
  },
  {
   "cell_type": "code",
   "execution_count": null,
   "id": "c9b8ef73-0c57-49c7-8dd5-86516f35ed5e",
   "metadata": {},
   "outputs": [],
   "source": [
    "df_poll_18 = df_poll_18.with_columns(\n",
    "    pl.col(\"QT_VOTOS_VALIDOS\").sum().over(\"CD_MUNICIPIO\").alias(\"TOTAL_VOTOS_MUNIC\"),\n",
    "    (pl.col(\"QT_VOTOS_VALIDOS\")/ pl.col(\"QT_VOTOS_VALIDOS\").sum().over(\"CD_MUNICIPIO\")).alias(\"PCT_VOTOS_MUNIC\"),\n",
    ")"
   ]
  },
  {
   "cell_type": "code",
   "execution_count": null,
   "id": "4542bdf9-eaa3-44f4-96fa-2d6764795d3f",
   "metadata": {},
   "outputs": [],
   "source": [
    "df_poll_22 = df_poll_22.with_columns(\n",
    "    pl.col(\"QT_VOTOS_VALIDOS\").sum().over(\"CD_MUNICIPIO\").alias(\"TOTAL_VOTOS_MUNIC\"),\n",
    "    (pl.col(\"QT_VOTOS_VALIDOS\")/ pl.col(\"QT_VOTOS_VALIDOS\").sum().over(\"CD_MUNICIPIO\")).alias(\"PCT_VOTOS_MUNIC\"),\n",
    ")"
   ]
  },
  {
   "cell_type": "code",
   "execution_count": null,
   "id": "8de0ab91-929b-408f-9c00-ba4872c02769",
   "metadata": {},
   "outputs": [],
   "source": [
    "def votting_by_region(\n",
    "  df:pl.DataFrame, \n",
    "  df_municipios:pl.DataFrame,\n",
    "  cargo:list[str]=[],\n",
    "  partidos:list[str]=[],\n",
    "  group_by_cols:list[str]=[\"ANO_ELEICAO\", \"NM_REGIAO\"])->pl.DataFrame:\n",
    "    \n",
    "    if partidos:\n",
    "        df = df.filter((pl.col(\"SG_PARTIDO\").is_in(partidos)))\n",
    "        \n",
    "    df = (df\n",
    "            .filter( pl.col(\"CD_CARGO\").is_in( cargo ) )\n",
    "            .group_by(group_by_cols)\n",
    "            .agg(pl.col(\"QT_VOTOS_VALIDOS\").sum())           \n",
    "        )\n",
    "    df = df.with_columns(pl.lit(\"B\").alias(\"TIPO\")) if partidos else df.with_columns(pl.lit(\"A\").alias(\"TIPO\"))\n",
    "        \n",
    "    return df"
   ]
  },
  {
   "cell_type": "code",
   "execution_count": null,
   "id": "589c0943-b2cb-468b-ae9b-e4a3ce06fe26",
   "metadata": {},
   "outputs": [],
   "source": [
    "df_res_part_reg = votting_by_region(\n",
    "    df=df_poll_22, \n",
    "    df_municipios=df_municipios,\n",
    "    cargo=list([1]),\n",
    "    partidos=[\"PT\"]\n",
    ")"
   ]
  },
  {
   "cell_type": "code",
   "execution_count": null,
   "id": "db7c5c37-897b-41ba-88e0-d87463d2d9c9",
   "metadata": {},
   "outputs": [],
   "source": [
    "df_res_reg = votting_by_region(\n",
    "    df=df_poll_22, \n",
    "    df_municipios=df_municipios,\n",
    "    cargo=list([1]),\n",
    "    partidos=[]\n",
    ")"
   ]
  },
  {
   "cell_type": "code",
   "execution_count": null,
   "id": "a57ca2a0-f760-4043-8437-85741be8719b",
   "metadata": {},
   "outputs": [],
   "source": [
    "df_resume = pl.concat([df_res_reg, df_res_part_reg])"
   ]
  },
  {
   "cell_type": "code",
   "execution_count": null,
   "id": "3c2e2fc4-9a71-496b-92d0-0f3116fcfcbf",
   "metadata": {},
   "outputs": [],
   "source": [
    "'''\n",
    "  Resumo dos mapas \n",
    "\n",
    "  df_totais:pl.DataFrame -> votos totais por região\n",
    "  year:int -> ano da eleição\n",
    "'''\n",
    "def map_resume(\n",
    "  df_totais:pl.DataFrame, \n",
    "  color:str=\"\"\n",
    ")->alt.vegalite.v5.api.Chart:\n",
    "  color = alt.condition(\n",
    "    alt.datum.TIPO == 'A',\n",
    "      alt.value('#FCC053'),\n",
    "      alt.value(color)\n",
    "  )\n",
    "  ##########################\n",
    "  ## Barras valore totais ##\n",
    "  ##########################\n",
    "  base = (\n",
    "      alt.Chart(df_totais)\n",
    "      .mark_bar(strokeWidth=.5, stroke=\"#fff\", cornerRadius=4, size=8)\n",
    "      .encode(\n",
    "        x=alt.X('NM_REGIAO:N', title=\"\", axis=alt.Axis(labelAngle=-90)),\n",
    "        y=alt.Y('QT_VOTOS_VALIDOS:Q', title=\"Votação\", axis=alt.Axis(format=\"s\")),\n",
    "        xOffset=\"TIPO:N\",\n",
    "        color=color,\n",
    "        tooltip=[\n",
    "            alt.Tooltip('NM_REGIAO:N', title=\"Região\"),\n",
    "            alt.Tooltip('QT_VOTOS_VALIDOS:Q', format=\",d\", title=\"Votação\"),\n",
    "        ],\n",
    "        text=alt.Text('sum(QT_VOTOS_VALIDOS):Q', format=\",d\"),\n",
    "      )\n",
    "  )\n",
    "\n",
    "  return alt.layer(\n",
    "      base,\n",
    "      (\n",
    "          base\n",
    "          .mark_text(fontSize=10, yOffset=-25, angle=270)\n",
    "          .encode(color=alt.value(\"#000\"))\n",
    "      )\n",
    "  )"
   ]
  },
  {
   "cell_type": "code",
   "execution_count": null,
   "id": "b75f3737-47a7-4ced-ab8c-86ff00b2b4c8",
   "metadata": {},
   "outputs": [],
   "source": [
    "#[\"#C54B53\", \"#347DB6\"]\n",
    "map_resume(\n",
    "    df_totais=df_resume, color=\"#C54B53\"\n",
    ").configure_title(\n",
    "    anchor=\"middle\"\n",
    ").configure_axis(\n",
    "    grid=False\n",
    ").configure_view(\n",
    "    strokeWidth=0\n",
    ").properties(width=200, height=120)"
   ]
  },
  {
   "cell_type": "code",
   "execution_count": null,
   "id": "0f37140c-ead0-4307-905e-17586abd5ee7",
   "metadata": {},
   "outputs": [],
   "source": [
    "#https://plotly.com/python/choropleth-maps/#geojson-with-featureid\n",
    "#https://www.reddit.com/r/gis/comments/kt50l0/python_gis_how_to_reduce_memory_size_of_geojson/?rdt=56521"
   ]
  },
  {
   "cell_type": "code",
   "execution_count": null,
   "id": "331944a0-1231-44f8-bacf-ddf3bac0d94b",
   "metadata": {},
   "outputs": [],
   "source": [
    "def make_choropleth(\n",
    "    input_df, input_id, input_column, input_color_theme\n",
    "):\n",
    "    choropleth = px.choropleth(input_df, locations=input_id, color=input_column, locationmode=\"USA-states\",\n",
    "                               color_continuous_scale=input_color_theme,\n",
    "                               range_color=(0, max(df_selected_year.population)),\n",
    "                               scope=\"usa\",\n",
    "                               labels={'population':'Population'}\n",
    "                              )\n",
    "    choropleth.update_layout(\n",
    "        template='plotly_dark',\n",
    "        plot_bgcolor='rgba(0, 0, 0, 0)',\n",
    "        paper_bgcolor='rgba(0, 0, 0, 0)',\n",
    "        margin=dict(l=0, r=0, t=0, b=0),\n",
    "        height=350\n",
    "    )\n",
    "    return choropleth"
   ]
  },
  {
   "cell_type": "code",
   "execution_count": null,
   "id": "338d1d94-5d17-4715-bab6-9828bf66335c",
   "metadata": {},
   "outputs": [],
   "source": [
    "#df_poll_18"
   ]
  },
  {
   "cell_type": "code",
   "execution_count": null,
   "id": "1951fc8e-887b-493f-b096-bc3ed1ea308e",
   "metadata": {},
   "outputs": [],
   "source": [
    "from urllib.request import urlopen\n",
    "import json\n",
    "with urlopen('https://raw.githubusercontent.com/plotly/datasets/master/geojson-counties-fips.json') as response:\n",
    "    counties = json.load(response)\n",
    "\n",
    "import pandas as pd\n",
    "df = pd.read_csv(\"https://raw.githubusercontent.com/plotly/datasets/master/fips-unemp-16.csv\",\n",
    "                   dtype={\"fips\": str})\n",
    "\n",
    "import plotly.express as px\n",
    "\n",
    "fig = px.choropleth(df, geojson=counties, locations='fips', color='unemp',\n",
    "                           color_continuous_scale=\"Viridis\",\n",
    "                           range_color=(0, 12),\n",
    "                           #scope=\"brazil\",\n",
    "                           labels={'unemp':'unemployment rate'}\n",
    "                          )\n",
    "fig.update_layout(margin={\"r\":0,\"t\":0,\"l\":0,\"b\":0})\n",
    "fig.show()"
   ]
  },
  {
   "cell_type": "code",
   "execution_count": null,
   "id": "6202f7fb-789b-49b3-836e-e110598ebdb8",
   "metadata": {},
   "outputs": [],
   "source": [
    "import plotly as plt\n",
    "import plotly.express as px\n",
    "import json\n",
    "from urllib.request import urlopen\n",
    "import pandas as pd\n",
    "\n",
    "with urlopen('https://raw.githubusercontent.com/codeforamerica/click_that_hood/master/public/data/brazil-states.geojson') as response:\n",
    "    Brazil = json.load(response) # Javascrip object notation \n",
    "\n",
    "state_id_map = {}\n",
    "for feature in Brazil ['features']:\n",
    "    feature['id'] = feature['properties']['name']\n",
    "    state_id_map[feature['properties']['sigla']] = feature['id']\n",
    "\n",
    "soybean = pd.read_csv('https://raw.githubusercontent.com/nayanemaia/Dataset_Soja/main/soja%20sidra.csv')\n",
    "\n",
    "fig = px.choropleth(\n",
    " soybean, #soybean database\n",
    " locations = 'Estado', #define the limits on the map/geography\n",
    " geojson = Brazil, #shape information\n",
    " color = 'Produção', #defining the color of the scale through the database\n",
    " hover_name = 'Estado', #the information in the box\n",
    " hover_data =[\"Produção\",\"Longitude\",\"Latitude\"],\n",
    " title = \"Produtivida da soja (Toneladas)\", #title of the map\n",
    " animation_frame = 'ano' #creating the application based on the year\n",
    ")\n",
    "fig.update_geos(fitbounds = \"locations\", visible = False)\n",
    "fig.show()"
   ]
  },
  {
   "cell_type": "code",
   "execution_count": null,
   "id": "b3d710de-5d6e-4c21-89ea-482bf9658353",
   "metadata": {},
   "outputs": [],
   "source": [
    "fig = px.choropleth_mapbox(\n",
    " soybean, #soybean database\n",
    " locations = \"Estado\", #define the limits on the map/geography\n",
    " geojson = Brazil, #shape information\n",
    " color = \"Produção\", #defining the color of the scale through the database\n",
    " hover_name = \"Estado\", #the information in the box\n",
    " hover_data =[\"Produção\",\"Longitude\",\"Latitude\"],\n",
    " title = \"Produtivida da soja (Toneladas)\", #title of the map\n",
    " mapbox_style = \"carto-positron\", #defining a new map style \n",
    " center={\"lat\":-14, \"lon\": -55},#define the limits that will be plotted\n",
    " zoom = 3, #map view size\n",
    " opacity = 0.5, #opacity of the map color, to appear the background\n",
    " animation_frame = \"ano\" #creating the application based on the year\n",
    ")\n",
    "fig.show()"
   ]
  }
 ],
 "metadata": {
  "kernelspec": {
   "display_name": "Python 3 (ipykernel)",
   "language": "python",
   "name": "python3"
  },
  "language_info": {
   "codemirror_mode": {
    "name": "ipython",
    "version": 3
   },
   "file_extension": ".py",
   "mimetype": "text/x-python",
   "name": "python",
   "nbconvert_exporter": "python",
   "pygments_lexer": "ipython3",
   "version": "3.10.13"
  }
 },
 "nbformat": 4,
 "nbformat_minor": 5
}
