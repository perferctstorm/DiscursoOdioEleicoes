{
 "cells": [
  {
   "cell_type": "code",
   "execution_count": 1,
   "id": "53d7224c-e407-4924-9b76-55e5ce702f92",
   "metadata": {},
   "outputs": [],
   "source": [
    "import polars as pl"
   ]
  },
  {
   "cell_type": "code",
   "execution_count": 2,
   "id": "e79e72e5-693f-4968-bb10-2d0105eb1020",
   "metadata": {},
   "outputs": [],
   "source": [
    "def get_df(url):\n",
    "    return pl.read_parquet(source=url)"
   ]
  },
  {
   "cell_type": "code",
   "execution_count": 3,
   "id": "e117d9e6-c1dd-49fc-9d80-fb44dec58917",
   "metadata": {},
   "outputs": [],
   "source": [
    "def get_eleicao_18():\n",
    "    return get_df(f\"https://raw.githubusercontent.com/perferctstorm/DiscursoOdioEleicoes/main/Dados/Eleicoes/eleicao18_turno_01.parquet\")"
   ]
  },
  {
   "cell_type": "code",
   "execution_count": 4,
   "id": "b533e1a1-77f8-412b-8325-d3bf3a473330",
   "metadata": {},
   "outputs": [],
   "source": [
    "def get_municipios():\n",
    "    return get_df(f\"https://raw.githubusercontent.com/perferctstorm/DiscursoOdioEleicoes/main/Dados/Eleicoes/municipios.parquet\") "
   ]
  },
  {
   "cell_type": "code",
   "execution_count": 5,
   "id": "f385af2f-ba22-49f4-adaa-882a2dd4f0c0",
   "metadata": {},
   "outputs": [],
   "source": [
    "df_municipios = get_municipios()"
   ]
  },
  {
   "cell_type": "code",
   "execution_count": 6,
   "id": "9d2ce92c-88fd-4901-88b1-b6cb4ad70568",
   "metadata": {},
   "outputs": [
    {
     "data": {
      "text/html": [
       "<div><style>\n",
       ".dataframe > thead > tr,\n",
       ".dataframe > tbody > tr {\n",
       "  text-align: right;\n",
       "  white-space: pre-wrap;\n",
       "}\n",
       "</style>\n",
       "<small>shape: (1, 8)</small><table border=\"1\" class=\"dataframe\"><thead><tr><th>codigo_tse</th><th>codigo_ibge</th><th>nome</th><th>uf</th><th>capital</th><th>latitude</th><th>longitude</th><th>ddd</th></tr><tr><td>i64</td><td>i64</td><td>str</td><td>str</td><td>i64</td><td>f64</td><td>f64</td><td>i64</td></tr></thead><tbody><tr><td>93360</td><td>5200050</td><td>&quot;Abadia de Goiás&quot;</td><td>&quot;GO&quot;</td><td>0</td><td>-16.7573</td><td>-49.4412</td><td>62</td></tr></tbody></table></div>"
      ],
      "text/plain": [
       "shape: (1, 8)\n",
       "┌────────────┬─────────────┬─────────────────┬─────┬─────────┬──────────┬───────────┬─────┐\n",
       "│ codigo_tse ┆ codigo_ibge ┆ nome            ┆ uf  ┆ capital ┆ latitude ┆ longitude ┆ ddd │\n",
       "│ ---        ┆ ---         ┆ ---             ┆ --- ┆ ---     ┆ ---      ┆ ---       ┆ --- │\n",
       "│ i64        ┆ i64         ┆ str             ┆ str ┆ i64     ┆ f64      ┆ f64       ┆ i64 │\n",
       "╞════════════╪═════════════╪═════════════════╪═════╪═════════╪══════════╪═══════════╪═════╡\n",
       "│ 93360      ┆ 5200050     ┆ Abadia de Goiás ┆ GO  ┆ 0       ┆ -16.7573 ┆ -49.4412  ┆ 62  │\n",
       "└────────────┴─────────────┴─────────────────┴─────┴─────────┴──────────┴───────────┴─────┘"
      ]
     },
     "execution_count": 6,
     "metadata": {},
     "output_type": "execute_result"
    }
   ],
   "source": [
    "df_municipios.limit(1)"
   ]
  },
  {
   "cell_type": "code",
   "execution_count": 7,
   "id": "fdd3e4c1-db15-43e3-8664-1b96c9841b56",
   "metadata": {},
   "outputs": [
    {
     "data": {
      "text/html": [
       "<div><style>\n",
       ".dataframe > thead > tr,\n",
       ".dataframe > tbody > tr {\n",
       "  text-align: right;\n",
       "  white-space: pre-wrap;\n",
       "}\n",
       "</style>\n",
       "<small>shape: (1, 18)</small><table border=\"1\" class=\"dataframe\"><thead><tr><th>ANO_ELEICAO</th><th>TP_ABRANGENCIA</th><th>SG_UF</th><th>SG_UE</th><th>NM_UE</th><th>CD_MUNICIPIO</th><th>NM_MUNICIPIO</th><th>CD_CARGO</th><th>DS_CARGO</th><th>NR_PARTIDO</th><th>SG_PARTIDO</th><th>NM_PARTIDO</th><th>QT_VOTOS_VALIDOS</th><th>SIGLA_2022</th><th>POSIC_IDEOLOGICO</th><th>SG_POSIC_IDEOLOGICO</th><th>SG_REGIAO</th><th>NM_REGIAO</th></tr><tr><td>i64</td><td>str</td><td>str</td><td>str</td><td>str</td><td>i64</td><td>str</td><td>i64</td><td>str</td><td>i64</td><td>str</td><td>str</td><td>i64</td><td>str</td><td>str</td><td>str</td><td>str</td><td>str</td></tr></thead><tbody><tr><td>2018</td><td>&quot;F&quot;</td><td>&quot;SP&quot;</td><td>&quot;BR&quot;</td><td>&quot;BRASIL&quot;</td><td>61948</td><td>&quot;ITAPIRAPUÃ PAULISTA&quot;</td><td>1</td><td>&quot;Presidente&quot;</td><td>45</td><td>&quot;PSDB&quot;</td><td>&quot;Partido da Social Democracia B…</td><td>394</td><td>&quot;PSDB&quot;</td><td>&quot;Centro Direita&quot;</td><td>&quot;CD&quot;</td><td>&quot;SE&quot;</td><td>&quot;Sudeste&quot;</td></tr></tbody></table></div>"
      ],
      "text/plain": [
       "shape: (1, 18)\n",
       "┌─────────────┬────────────────┬───────┬───────┬───┬──────────────────┬─────────────────────┬───────────┬───────────┐\n",
       "│ ANO_ELEICAO ┆ TP_ABRANGENCIA ┆ SG_UF ┆ SG_UE ┆ … ┆ POSIC_IDEOLOGICO ┆ SG_POSIC_IDEOLOGICO ┆ SG_REGIAO ┆ NM_REGIAO │\n",
       "│ ---         ┆ ---            ┆ ---   ┆ ---   ┆   ┆ ---              ┆ ---                 ┆ ---       ┆ ---       │\n",
       "│ i64         ┆ str            ┆ str   ┆ str   ┆   ┆ str              ┆ str                 ┆ str       ┆ str       │\n",
       "╞═════════════╪════════════════╪═══════╪═══════╪═══╪══════════════════╪═════════════════════╪═══════════╪═══════════╡\n",
       "│ 2018        ┆ F              ┆ SP    ┆ BR    ┆ … ┆ Centro Direita   ┆ CD                  ┆ SE        ┆ Sudeste   │\n",
       "└─────────────┴────────────────┴───────┴───────┴───┴──────────────────┴─────────────────────┴───────────┴───────────┘"
      ]
     },
     "execution_count": 7,
     "metadata": {},
     "output_type": "execute_result"
    }
   ],
   "source": [
    "df_poll_18:pl.DataFrame = get_eleicao_18()\n",
    "df_poll_18 = df_poll_18.filter(pl.col(\"CD_CARGO\")==1)\n",
    "df_poll_18 = df_poll_18.drop(\"NR_ZONA\")\n",
    "df_poll_18.limit(1)"
   ]
  },
  {
   "cell_type": "code",
   "execution_count": 8,
   "id": "9db41ead-75a2-46d6-9866-7fc502ef3cac",
   "metadata": {},
   "outputs": [],
   "source": [
    "cols_list:list[str] = df_poll_18.columns\n",
    "cols_list.remove(\"QT_VOTOS_VALIDOS\")"
   ]
  },
  {
   "cell_type": "code",
   "execution_count": 9,
   "id": "df654833-6d53-4376-99b3-f5a07ee71375",
   "metadata": {},
   "outputs": [],
   "source": [
    "df_poll_18 = df_poll_18.group_by(cols_list).sum()"
   ]
  },
  {
   "cell_type": "code",
   "execution_count": 10,
   "id": "63200110-a3d9-4f3c-977e-42350f686a08",
   "metadata": {},
   "outputs": [],
   "source": [
    "df_poll_18 = df_poll_18.with_columns(\n",
    "    pl.col(\"QT_VOTOS_VALIDOS\").sum().over(\"CD_MUNICIPIO\").alias(\"TOTAL_VOTOS_MUNIC\"),\n",
    "    (pl.col(\"QT_VOTOS_VALIDOS\")/ pl.col(\"QT_VOTOS_VALIDOS\").sum().over(\"CD_MUNICIPIO\")).alias(\"PCT_VOTOS_MUNIC\"),\n",
    ")"
   ]
  },
  {
   "cell_type": "code",
   "execution_count": 11,
   "id": "e6bd292e-4c40-48cf-8187-61360270817f",
   "metadata": {},
   "outputs": [
    {
     "data": {
      "text/html": [
       "<div><style>\n",
       ".dataframe > thead > tr,\n",
       ".dataframe > tbody > tr {\n",
       "  text-align: right;\n",
       "  white-space: pre-wrap;\n",
       "}\n",
       "</style>\n",
       "<small>shape: (68_683, 20)</small><table border=\"1\" class=\"dataframe\"><thead><tr><th>ANO_ELEICAO</th><th>TP_ABRANGENCIA</th><th>SG_UF</th><th>SG_UE</th><th>NM_UE</th><th>CD_MUNICIPIO</th><th>NM_MUNICIPIO</th><th>CD_CARGO</th><th>DS_CARGO</th><th>NR_PARTIDO</th><th>SG_PARTIDO</th><th>NM_PARTIDO</th><th>SIGLA_2022</th><th>POSIC_IDEOLOGICO</th><th>SG_POSIC_IDEOLOGICO</th><th>SG_REGIAO</th><th>NM_REGIAO</th><th>QT_VOTOS_VALIDOS</th><th>TOTAL_VOTOS_MUNIC</th><th>PCT_VOTOS_MUNIC</th></tr><tr><td>i64</td><td>str</td><td>str</td><td>str</td><td>str</td><td>i64</td><td>str</td><td>i64</td><td>str</td><td>i64</td><td>str</td><td>str</td><td>str</td><td>str</td><td>str</td><td>str</td><td>str</td><td>i64</td><td>i64</td><td>f64</td></tr></thead><tbody><tr><td>2018</td><td>&quot;F&quot;</td><td>&quot;MG&quot;</td><td>&quot;BR&quot;</td><td>&quot;BRASIL&quot;</td><td>46094</td><td>&quot;ILICÍNEA&quot;</td><td>1</td><td>&quot;Presidente&quot;</td><td>45</td><td>&quot;PSDB&quot;</td><td>&quot;Partido da Social Democracia B…</td><td>&quot;PSDB&quot;</td><td>&quot;Centro Direita&quot;</td><td>&quot;CD&quot;</td><td>&quot;SE&quot;</td><td>&quot;Sudeste&quot;</td><td>404</td><td>7050</td><td>0.057305</td></tr><tr><td>2018</td><td>&quot;F&quot;</td><td>&quot;MG&quot;</td><td>&quot;BR&quot;</td><td>&quot;BRASIL&quot;</td><td>46256</td><td>&quot;IPATINGA&quot;</td><td>1</td><td>&quot;Presidente&quot;</td><td>15</td><td>&quot;MDB&quot;</td><td>&quot;Movimento Democrático Brasilei…</td><td>&quot;MDB&quot;</td><td>&quot;Centro Direita&quot;</td><td>&quot;CD&quot;</td><td>&quot;SE&quot;</td><td>&quot;Sudeste&quot;</td><td>992</td><td>128936</td><td>0.007694</td></tr><tr><td>2018</td><td>&quot;F&quot;</td><td>&quot;BA&quot;</td><td>&quot;BR&quot;</td><td>&quot;BRASIL&quot;</td><td>35491</td><td>&quot;SANTA RITA DE CÁSSIA&quot;</td><td>1</td><td>&quot;Presidente&quot;</td><td>17</td><td>&quot;PSL&quot;</td><td>&quot;Partido Social Liberal&quot;</td><td>&quot;UNIÃO&quot;</td><td>&quot;Extrema Direita&quot;</td><td>&quot;ED&quot;</td><td>&quot;NE&quot;</td><td>&quot;Nordeste&quot;</td><td>2386</td><td>14513</td><td>0.164404</td></tr><tr><td>2018</td><td>&quot;F&quot;</td><td>&quot;MG&quot;</td><td>&quot;BR&quot;</td><td>&quot;BRASIL&quot;</td><td>48712</td><td>&quot;MORRO DA GARÇA&quot;</td><td>1</td><td>&quot;Presidente&quot;</td><td>15</td><td>&quot;MDB&quot;</td><td>&quot;Movimento Democrático Brasilei…</td><td>&quot;MDB&quot;</td><td>&quot;Centro Direita&quot;</td><td>&quot;CD&quot;</td><td>&quot;SE&quot;</td><td>&quot;Sudeste&quot;</td><td>32</td><td>1861</td><td>0.017195</td></tr><tr><td>2018</td><td>&quot;F&quot;</td><td>&quot;RS&quot;</td><td>&quot;BR&quot;</td><td>&quot;BRASIL&quot;</td><td>86568</td><td>&quot;CHARRUA&quot;</td><td>1</td><td>&quot;Presidente&quot;</td><td>45</td><td>&quot;PSDB&quot;</td><td>&quot;Partido da Social Democracia B…</td><td>&quot;PSDB&quot;</td><td>&quot;Centro Direita&quot;</td><td>&quot;CD&quot;</td><td>&quot;S&quot;</td><td>&quot;Sul&quot;</td><td>97</td><td>1834</td><td>0.05289</td></tr><tr><td>&hellip;</td><td>&hellip;</td><td>&hellip;</td><td>&hellip;</td><td>&hellip;</td><td>&hellip;</td><td>&hellip;</td><td>&hellip;</td><td>&hellip;</td><td>&hellip;</td><td>&hellip;</td><td>&hellip;</td><td>&hellip;</td><td>&hellip;</td><td>&hellip;</td><td>&hellip;</td><td>&hellip;</td><td>&hellip;</td><td>&hellip;</td><td>&hellip;</td></tr><tr><td>2018</td><td>&quot;F&quot;</td><td>&quot;GO&quot;</td><td>&quot;BR&quot;</td><td>&quot;BRASIL&quot;</td><td>93718</td><td>&quot;GOIANÉSIA&quot;</td><td>1</td><td>&quot;Presidente&quot;</td><td>50</td><td>&quot;PSOL&quot;</td><td>&quot;Partido Socialismo e Liberdade&quot;</td><td>&quot;PSOL&quot;</td><td>&quot;Extrema Esquerda&quot;</td><td>&quot;EE&quot;</td><td>&quot;CO&quot;</td><td>&quot;Centro-Oeste&quot;</td><td>114</td><td>36343</td><td>0.003137</td></tr><tr><td>2018</td><td>&quot;F&quot;</td><td>&quot;CE&quot;</td><td>&quot;BR&quot;</td><td>&quot;BRASIL&quot;</td><td>14770</td><td>&quot;MORAÚJO&quot;</td><td>1</td><td>&quot;Presidente&quot;</td><td>30</td><td>&quot;NOVO&quot;</td><td>&quot;Partido Novo&quot;</td><td>&quot;NOVO&quot;</td><td>&quot;Direita&quot;</td><td>&quot;D&quot;</td><td>&quot;NE&quot;</td><td>&quot;Nordeste&quot;</td><td>14</td><td>5540</td><td>0.002527</td></tr><tr><td>2018</td><td>&quot;F&quot;</td><td>&quot;RN&quot;</td><td>&quot;BR&quot;</td><td>&quot;BRASIL&quot;</td><td>18473</td><td>&quot;SÃO MIGUEL&quot;</td><td>1</td><td>&quot;Presidente&quot;</td><td>18</td><td>&quot;REDE&quot;</td><td>&quot;Rede Sustentabilidade&quot;</td><td>&quot;REDE&quot;</td><td>&quot;Centro&quot;</td><td>&quot;C&quot;</td><td>&quot;NE&quot;</td><td>&quot;Nordeste&quot;</td><td>24</td><td>11489</td><td>0.002089</td></tr><tr><td>2018</td><td>&quot;F&quot;</td><td>&quot;MG&quot;</td><td>&quot;BR&quot;</td><td>&quot;BRASIL&quot;</td><td>51853</td><td>&quot;SANTA RITA DE JACUTINGA&quot;</td><td>1</td><td>&quot;Presidente&quot;</td><td>27</td><td>&quot;DC&quot;</td><td>&quot;Democracia Cristã&quot;</td><td>&quot;DC&quot;</td><td>&quot;Direita&quot;</td><td>&quot;D&quot;</td><td>&quot;SE&quot;</td><td>&quot;Sudeste&quot;</td><td>2</td><td>3077</td><td>0.00065</td></tr><tr><td>2018</td><td>&quot;F&quot;</td><td>&quot;SP&quot;</td><td>&quot;BR&quot;</td><td>&quot;BRASIL&quot;</td><td>61530</td><td>&quot;APIAÍ&quot;</td><td>1</td><td>&quot;Presidente&quot;</td><td>54</td><td>&quot;PPL&quot;</td><td>&quot;Partido Pátria Livre&quot;</td><td>&quot;PPL&quot;</td><td>&quot;Direita&quot;</td><td>&quot;D&quot;</td><td>&quot;SE&quot;</td><td>&quot;Sudeste&quot;</td><td>8</td><td>13379</td><td>0.000598</td></tr></tbody></table></div>"
      ],
      "text/plain": [
       "shape: (68_683, 20)\n",
       "┌─────────────┬────────────────┬───────┬───────┬───┬──────────────┬─────────────────┬─────────────────┬────────────────┐\n",
       "│ ANO_ELEICAO ┆ TP_ABRANGENCIA ┆ SG_UF ┆ SG_UE ┆ … ┆ NM_REGIAO    ┆ QT_VOTOS_VALIDO ┆ TOTAL_VOTOS_MUN ┆ PCT_VOTOS_MUNI │\n",
       "│ ---         ┆ ---            ┆ ---   ┆ ---   ┆   ┆ ---          ┆ S               ┆ IC              ┆ C              │\n",
       "│ i64         ┆ str            ┆ str   ┆ str   ┆   ┆ str          ┆ ---             ┆ ---             ┆ ---            │\n",
       "│             ┆                ┆       ┆       ┆   ┆              ┆ i64             ┆ i64             ┆ f64            │\n",
       "╞═════════════╪════════════════╪═══════╪═══════╪═══╪══════════════╪═════════════════╪═════════════════╪════════════════╡\n",
       "│ 2018        ┆ F              ┆ MG    ┆ BR    ┆ … ┆ Sudeste      ┆ 404             ┆ 7050            ┆ 0.057305       │\n",
       "│ 2018        ┆ F              ┆ MG    ┆ BR    ┆ … ┆ Sudeste      ┆ 992             ┆ 128936          ┆ 0.007694       │\n",
       "│ 2018        ┆ F              ┆ BA    ┆ BR    ┆ … ┆ Nordeste     ┆ 2386            ┆ 14513           ┆ 0.164404       │\n",
       "│ 2018        ┆ F              ┆ MG    ┆ BR    ┆ … ┆ Sudeste      ┆ 32              ┆ 1861            ┆ 0.017195       │\n",
       "│ 2018        ┆ F              ┆ RS    ┆ BR    ┆ … ┆ Sul          ┆ 97              ┆ 1834            ┆ 0.05289        │\n",
       "│ …           ┆ …              ┆ …     ┆ …     ┆ … ┆ …            ┆ …               ┆ …               ┆ …              │\n",
       "│ 2018        ┆ F              ┆ GO    ┆ BR    ┆ … ┆ Centro-Oeste ┆ 114             ┆ 36343           ┆ 0.003137       │\n",
       "│ 2018        ┆ F              ┆ CE    ┆ BR    ┆ … ┆ Nordeste     ┆ 14              ┆ 5540            ┆ 0.002527       │\n",
       "│ 2018        ┆ F              ┆ RN    ┆ BR    ┆ … ┆ Nordeste     ┆ 24              ┆ 11489           ┆ 0.002089       │\n",
       "│ 2018        ┆ F              ┆ MG    ┆ BR    ┆ … ┆ Sudeste      ┆ 2               ┆ 3077            ┆ 0.00065        │\n",
       "│ 2018        ┆ F              ┆ SP    ┆ BR    ┆ … ┆ Sudeste      ┆ 8               ┆ 13379           ┆ 0.000598       │\n",
       "└─────────────┴────────────────┴───────┴───────┴───┴──────────────┴─────────────────┴─────────────────┴────────────────┘"
      ]
     },
     "execution_count": 11,
     "metadata": {},
     "output_type": "execute_result"
    }
   ],
   "source": [
    "df_poll_18"
   ]
  },
  {
   "cell_type": "code",
   "execution_count": 12,
   "id": "bf56dc0e-b3bd-400e-bd16-741ae695add1",
   "metadata": {},
   "outputs": [
    {
     "data": {
      "text/html": [
       "<div><style>\n",
       ".dataframe > thead > tr,\n",
       ".dataframe > tbody > tr {\n",
       "  text-align: right;\n",
       "  white-space: pre-wrap;\n",
       "}\n",
       "</style>\n",
       "<small>shape: (1, 20)</small><table border=\"1\" class=\"dataframe\"><thead><tr><th>ANO_ELEICAO</th><th>TP_ABRANGENCIA</th><th>SG_UF</th><th>SG_UE</th><th>NM_UE</th><th>CD_MUNICIPIO</th><th>NM_MUNICIPIO</th><th>CD_CARGO</th><th>DS_CARGO</th><th>NR_PARTIDO</th><th>SG_PARTIDO</th><th>NM_PARTIDO</th><th>SIGLA_2022</th><th>POSIC_IDEOLOGICO</th><th>SG_POSIC_IDEOLOGICO</th><th>SG_REGIAO</th><th>NM_REGIAO</th><th>QT_VOTOS_VALIDOS</th><th>TOTAL_VOTOS_MUNIC</th><th>PCT_VOTOS_MUNIC</th></tr><tr><td>i64</td><td>str</td><td>str</td><td>str</td><td>str</td><td>i64</td><td>str</td><td>i64</td><td>str</td><td>i64</td><td>str</td><td>str</td><td>str</td><td>str</td><td>str</td><td>str</td><td>str</td><td>i64</td><td>i64</td><td>f64</td></tr></thead><tbody><tr><td>2018</td><td>&quot;F&quot;</td><td>&quot;CE&quot;</td><td>&quot;BR&quot;</td><td>&quot;BRASIL&quot;</td><td>13897</td><td>&quot;FORTALEZA&quot;</td><td>1</td><td>&quot;Presidente&quot;</td><td>27</td><td>&quot;DC&quot;</td><td>&quot;Democracia Cristã&quot;</td><td>&quot;DC&quot;</td><td>&quot;Direita&quot;</td><td>&quot;D&quot;</td><td>&quot;NE&quot;</td><td>&quot;Nordeste&quot;</td><td>515</td><td>1361788</td><td>0.000378</td></tr></tbody></table></div>"
      ],
      "text/plain": [
       "shape: (1, 20)\n",
       "┌─────────────┬────────────────┬───────┬───────┬───┬───────────┬──────────────────┬──────────────────┬─────────────────┐\n",
       "│ ANO_ELEICAO ┆ TP_ABRANGENCIA ┆ SG_UF ┆ SG_UE ┆ … ┆ NM_REGIAO ┆ QT_VOTOS_VALIDOS ┆ TOTAL_VOTOS_MUNI ┆ PCT_VOTOS_MUNIC │\n",
       "│ ---         ┆ ---            ┆ ---   ┆ ---   ┆   ┆ ---       ┆ ---              ┆ C                ┆ ---             │\n",
       "│ i64         ┆ str            ┆ str   ┆ str   ┆   ┆ str       ┆ i64              ┆ ---              ┆ f64             │\n",
       "│             ┆                ┆       ┆       ┆   ┆           ┆                  ┆ i64              ┆                 │\n",
       "╞═════════════╪════════════════╪═══════╪═══════╪═══╪═══════════╪══════════════════╪══════════════════╪═════════════════╡\n",
       "│ 2018        ┆ F              ┆ CE    ┆ BR    ┆ … ┆ Nordeste  ┆ 515              ┆ 1361788          ┆ 0.000378        │\n",
       "└─────────────┴────────────────┴───────┴───────┴───┴───────────┴──────────────────┴──────────────────┴─────────────────┘"
      ]
     },
     "execution_count": 12,
     "metadata": {},
     "output_type": "execute_result"
    }
   ],
   "source": [
    "df_poll_18.filter( (pl.col(\"NM_MUNICIPIO\")==\"FORTALEZA\") & (pl.col(\"SG_UF\")==\"CE\")).limit(1)"
   ]
  },
  {
   "cell_type": "code",
   "execution_count": 13,
   "id": "35a5e177-55bf-44c4-b0b0-eb42e568ed45",
   "metadata": {},
   "outputs": [
    {
     "data": {
      "text/html": [
       "<div><style>\n",
       ".dataframe > thead > tr,\n",
       ".dataframe > tbody > tr {\n",
       "  text-align: right;\n",
       "  white-space: pre-wrap;\n",
       "}\n",
       "</style>\n",
       "<small>shape: (67_419, 10)</small><table border=\"1\" class=\"dataframe\"><thead><tr><th>CD_MUNICIPIO</th><th>TOTAL_VOTOS_MUNIC</th><th>QT_VOTOS_VALIDOS</th><th>PCT_VOTOS_MUNIC</th><th>PCT_VOTOS_LIMIT</th><th>codigo_ibge</th><th>nome</th><th>uf</th><th>latitude</th><th>longitude</th></tr><tr><td>i64</td><td>i64</td><td>i64</td><td>f64</td><td>cat</td><td>i64</td><td>str</td><td>str</td><td>f64</td><td>f64</td></tr></thead><tbody><tr><td>46094</td><td>7050</td><td>404</td><td>0.057305</td><td>&quot;&lt;=25%&quot;</td><td>3130507</td><td>&quot;Ilicínea&quot;</td><td>&quot;MG&quot;</td><td>-20.9402</td><td>-45.8308</td></tr><tr><td>46256</td><td>128936</td><td>992</td><td>0.007694</td><td>&quot;&lt;=25%&quot;</td><td>3131307</td><td>&quot;Ipatinga&quot;</td><td>&quot;MG&quot;</td><td>-19.4703</td><td>-42.5476</td></tr><tr><td>35491</td><td>14513</td><td>2386</td><td>0.164404</td><td>&quot;&lt;=25%&quot;</td><td>2928406</td><td>&quot;Santa Rita de Cássia&quot;</td><td>&quot;BA&quot;</td><td>-11.0063</td><td>-44.5255</td></tr><tr><td>48712</td><td>1861</td><td>32</td><td>0.017195</td><td>&quot;&lt;=25%&quot;</td><td>3143609</td><td>&quot;Morro da Garça&quot;</td><td>&quot;MG&quot;</td><td>-18.5356</td><td>-44.601</td></tr><tr><td>86568</td><td>1834</td><td>97</td><td>0.05289</td><td>&quot;&lt;=25%&quot;</td><td>4305371</td><td>&quot;Charrua&quot;</td><td>&quot;RS&quot;</td><td>-27.9493</td><td>-52.015</td></tr><tr><td>&hellip;</td><td>&hellip;</td><td>&hellip;</td><td>&hellip;</td><td>&hellip;</td><td>&hellip;</td><td>&hellip;</td><td>&hellip;</td><td>&hellip;</td><td>&hellip;</td></tr><tr><td>93718</td><td>36343</td><td>114</td><td>0.003137</td><td>&quot;&lt;=25%&quot;</td><td>5208608</td><td>&quot;Goianésia&quot;</td><td>&quot;GO&quot;</td><td>-15.3118</td><td>-49.1162</td></tr><tr><td>14770</td><td>5540</td><td>14</td><td>0.002527</td><td>&quot;&lt;=25%&quot;</td><td>2308807</td><td>&quot;Moraújo&quot;</td><td>&quot;CE&quot;</td><td>-3.46311</td><td>-40.6776</td></tr><tr><td>18473</td><td>11489</td><td>24</td><td>0.002089</td><td>&quot;&lt;=25%&quot;</td><td>2412500</td><td>&quot;São Miguel&quot;</td><td>&quot;RN&quot;</td><td>-6.20283</td><td>-38.4947</td></tr><tr><td>51853</td><td>3077</td><td>2</td><td>0.00065</td><td>&quot;&lt;=25%&quot;</td><td>3159308</td><td>&quot;Santa Rita de Jacutinga&quot;</td><td>&quot;MG&quot;</td><td>-22.1474</td><td>-44.0977</td></tr><tr><td>61530</td><td>13379</td><td>8</td><td>0.000598</td><td>&quot;&lt;=25%&quot;</td><td>3502705</td><td>&quot;Apiaí&quot;</td><td>&quot;SP&quot;</td><td>-24.5108</td><td>-48.8443</td></tr></tbody></table></div>"
      ],
      "text/plain": [
       "shape: (67_419, 10)\n",
       "┌──────────────┬─────────────────┬─────────────────┬─────────────────┬───┬────────────────┬─────┬──────────┬───────────┐\n",
       "│ CD_MUNICIPIO ┆ TOTAL_VOTOS_MUN ┆ QT_VOTOS_VALIDO ┆ PCT_VOTOS_MUNIC ┆ … ┆ nome           ┆ uf  ┆ latitude ┆ longitude │\n",
       "│ ---          ┆ IC              ┆ S               ┆ ---             ┆   ┆ ---            ┆ --- ┆ ---      ┆ ---       │\n",
       "│ i64          ┆ ---             ┆ ---             ┆ f64             ┆   ┆ str            ┆ str ┆ f64      ┆ f64       │\n",
       "│              ┆ i64             ┆ i64             ┆                 ┆   ┆                ┆     ┆          ┆           │\n",
       "╞══════════════╪═════════════════╪═════════════════╪═════════════════╪═══╪════════════════╪═════╪══════════╪═══════════╡\n",
       "│ 46094        ┆ 7050            ┆ 404             ┆ 0.057305        ┆ … ┆ Ilicínea       ┆ MG  ┆ -20.9402 ┆ -45.8308  │\n",
       "│ 46256        ┆ 128936          ┆ 992             ┆ 0.007694        ┆ … ┆ Ipatinga       ┆ MG  ┆ -19.4703 ┆ -42.5476  │\n",
       "│ 35491        ┆ 14513           ┆ 2386            ┆ 0.164404        ┆ … ┆ Santa Rita de  ┆ BA  ┆ -11.0063 ┆ -44.5255  │\n",
       "│              ┆                 ┆                 ┆                 ┆   ┆ Cássia         ┆     ┆          ┆           │\n",
       "│ 48712        ┆ 1861            ┆ 32              ┆ 0.017195        ┆ … ┆ Morro da Garça ┆ MG  ┆ -18.5356 ┆ -44.601   │\n",
       "│ 86568        ┆ 1834            ┆ 97              ┆ 0.05289         ┆ … ┆ Charrua        ┆ RS  ┆ -27.9493 ┆ -52.015   │\n",
       "│ …            ┆ …               ┆ …               ┆ …               ┆ … ┆ …              ┆ …   ┆ …        ┆ …         │\n",
       "│ 93718        ┆ 36343           ┆ 114             ┆ 0.003137        ┆ … ┆ Goianésia      ┆ GO  ┆ -15.3118 ┆ -49.1162  │\n",
       "│ 14770        ┆ 5540            ┆ 14              ┆ 0.002527        ┆ … ┆ Moraújo        ┆ CE  ┆ -3.46311 ┆ -40.6776  │\n",
       "│ 18473        ┆ 11489           ┆ 24              ┆ 0.002089        ┆ … ┆ São Miguel     ┆ RN  ┆ -6.20283 ┆ -38.4947  │\n",
       "│ 51853        ┆ 3077            ┆ 2               ┆ 0.00065         ┆ … ┆ Santa Rita de  ┆ MG  ┆ -22.1474 ┆ -44.0977  │\n",
       "│              ┆                 ┆                 ┆                 ┆   ┆ Jacutinga      ┆     ┆          ┆           │\n",
       "│ 61530        ┆ 13379           ┆ 8               ┆ 0.000598        ┆ … ┆ Apiaí          ┆ SP  ┆ -24.5108 ┆ -48.8443  │\n",
       "└──────────────┴─────────────────┴─────────────────┴─────────────────┴───┴────────────────┴─────┴──────────┴───────────┘"
      ]
     },
     "execution_count": 13,
     "metadata": {},
     "output_type": "execute_result"
    }
   ],
   "source": [
    "breaks = [.25, .4, .55]\n",
    "domain=[\"<=25%\", \">25%,<=40%\", \">40%,<=55%\",\">55%\"]\n",
    "\n",
    "df_choropleth = df_poll_18.select([\"CD_MUNICIPIO\",\"TOTAL_VOTOS_MUNIC\",\"QT_VOTOS_VALIDOS\",\"PCT_VOTOS_MUNIC\"])\n",
    "df_choropleth = (\n",
    "    df_choropleth\n",
    "    .with_columns(\n",
    "        pl.col(\"PCT_VOTOS_MUNIC\").cut(breaks, labels=domain).alias(\"PCT_VOTOS_LIMIT\")\n",
    "    )\n",
    ")\n",
    "df_choropleth = (\n",
    "    df_choropleth\n",
    "    .join(df_municipios, left_on=\"CD_MUNICIPIO\", right_on=\"codigo_tse\", how=\"inner\")\n",
    "    .drop(pl.col([\"capital\",\"ddd\"])) \n",
    ")\n",
    "\n",
    "df_choropleth"
   ]
  },
  {
   "cell_type": "code",
   "execution_count": 18,
   "id": "7286a4bc-6214-4ab8-9905-0287f23602e3",
   "metadata": {},
   "outputs": [],
   "source": [
    "from urllib.request import urlopen\n",
    "import json\n",
    "import plotly.express as px\n",
    "\n",
    "with urlopen('https://raw.githubusercontent.com/perferctstorm/DiscursoOdioEleicoes/refs/heads/main/Dados/Eleicoes/geojs-100-mun_minifier_reduc.json') as response:\n",
    "    municipios = json.load(response)"
   ]
  },
  {
   "cell_type": "code",
   "execution_count": 28,
   "id": "ebb56f75-7088-4ec6-ae7e-e47be2feecf9",
   "metadata": {},
   "outputs": [],
   "source": [
    "#fig = px.choropleth(df_choropleth, geojson=municipios, locations='codigo_ibge', color='PCT_VOTOS_LIMIT',\n",
    "#                           color_continuous_scale=\"Viridis\",\n",
    "#                           range_color=(0, 4),\n",
    "#                           #scope=\"usa\",\n",
    "#                           labels={'uf':'UF'}\n",
    "#                          )"
   ]
  },
  {
   "cell_type": "code",
   "execution_count": 27,
   "id": "dd49cfec-589f-4e24-8f2b-85853b75bf6b",
   "metadata": {},
   "outputs": [],
   "source": [
    "#import plotly.express as px\n",
    "\n",
    "#df = px.data.election()\n",
    "#geojson = px.data.election_geojson()\n",
    "\n",
    "#fig = px.choropleth(df, geojson=geojson, color=\"Bergeron\",\n",
    "#                    locations=\"district\", featureidkey=\"properties.district\",\n",
    "#                    projection=\"mercator\"\n",
    "#                   )\n",
    "#fig.update_geos(fitbounds=\"locations\", visible=False)\n",
    "#fig.update_layout(margin={\"r\":0,\"t\":0,\"l\":0,\"b\":0})\n",
    "#fig.show()\n"
   ]
  },
  {
   "cell_type": "code",
   "execution_count": null,
   "id": "044505cb-02c0-438b-b09f-5bcd3a82bad2",
   "metadata": {},
   "outputs": [],
   "source": [
    "#\n"
   ]
  },
  {
   "cell_type": "code",
   "execution_count": 25,
   "id": "ddcd35cb-c040-4152-9daa-22dde4ec3e78",
   "metadata": {},
   "outputs": [
    {
     "data": {
      "text/plain": [
       "'1100015'"
      ]
     },
     "execution_count": 25,
     "metadata": {},
     "output_type": "execute_result"
    }
   ],
   "source": [
    "municipios[\"features\"][0][\"properties\"][\"id\"]"
   ]
  },
  {
   "cell_type": "code",
   "execution_count": 20,
   "id": "24d45674-93a3-4569-9e01-f4f64e3e457b",
   "metadata": {},
   "outputs": [],
   "source": [
    "df_choropleth = df_choropleth.to_pandas()"
   ]
  },
  {
   "cell_type": "code",
   "execution_count": 29,
   "id": "fcd3f000-a7ab-46ad-9f94-46f9caf08b9e",
   "metadata": {},
   "outputs": [
    {
     "name": "stderr",
     "output_type": "stream",
     "text": [
      "C:\\Users\\s788865623\\AppData\\Local\\anaconda3\\lib\\site-packages\\plotly\\express\\_core.py:1958: FutureWarning:\n",
      "\n",
      "The default of observed=False is deprecated and will be changed to True in a future version of pandas. Pass observed=False to retain current behavior or observed=True to adopt the future default and silence this warning.\n",
      "\n"
     ]
    },
    {
     "ename": "ValueError",
     "evalue": "Invalid property specified for object of type plotly.graph_objs.layout.Geo: 'observed'\n\nDid you mean \"center\"?\n\n    Valid properties:\n        bgcolor\n            Set the background color of the map\n        center\n            :class:`plotly.graph_objects.layout.geo.Center`\n            instance or dict with compatible properties\n        coastlinecolor\n            Sets the coastline color.\n        coastlinewidth\n            Sets the coastline stroke width (in px).\n        countrycolor\n            Sets line color of the country boundaries.\n        countrywidth\n            Sets line width (in px) of the country boundaries.\n        domain\n            :class:`plotly.graph_objects.layout.geo.Domain`\n            instance or dict with compatible properties\n        fitbounds\n            Determines if this subplot's view settings are auto-\n            computed to fit trace data. On scoped maps, setting\n            `fitbounds` leads to `center.lon` and `center.lat`\n            getting auto-filled. On maps with a non-clipped\n            projection, setting `fitbounds` leads to `center.lon`,\n            `center.lat`, and `projection.rotation.lon` getting\n            auto-filled. On maps with a clipped projection, setting\n            `fitbounds` leads to `center.lon`, `center.lat`,\n            `projection.rotation.lon`, `projection.rotation.lat`,\n            `lonaxis.range` and `lonaxis.range` getting auto-\n            filled. If \"locations\", only the trace's visible\n            locations are considered in the `fitbounds`\n            computations. If \"geojson\", the entire trace input\n            `geojson` (if provided) is considered in the\n            `fitbounds` computations, Defaults to False.\n        framecolor\n            Sets the color the frame.\n        framewidth\n            Sets the stroke width (in px) of the frame.\n        lakecolor\n            Sets the color of the lakes.\n        landcolor\n            Sets the land mass color.\n        lataxis\n            :class:`plotly.graph_objects.layout.geo.Lataxis`\n            instance or dict with compatible properties\n        lonaxis\n            :class:`plotly.graph_objects.layout.geo.Lonaxis`\n            instance or dict with compatible properties\n        oceancolor\n            Sets the ocean color\n        projection\n            :class:`plotly.graph_objects.layout.geo.Projection`\n            instance or dict with compatible properties\n        resolution\n            Sets the resolution of the base layers. The values have\n            units of km/mm e.g. 110 corresponds to a scale ratio of\n            1:110,000,000.\n        rivercolor\n            Sets color of the rivers.\n        riverwidth\n            Sets the stroke width (in px) of the rivers.\n        scope\n            Set the scope of the map.\n        showcoastlines\n            Sets whether or not the coastlines are drawn.\n        showcountries\n            Sets whether or not country boundaries are drawn.\n        showframe\n            Sets whether or not a frame is drawn around the map.\n        showlakes\n            Sets whether or not lakes are drawn.\n        showland\n            Sets whether or not land masses are filled in color.\n        showocean\n            Sets whether or not oceans are filled in color.\n        showrivers\n            Sets whether or not rivers are drawn.\n        showsubunits\n            Sets whether or not boundaries of subunits within\n            countries (e.g. states, provinces) are drawn.\n        subunitcolor\n            Sets the color of the subunits boundaries.\n        subunitwidth\n            Sets the stroke width (in px) of the subunits\n            boundaries.\n        uirevision\n            Controls persistence of user-driven changes in the view\n            (projection and center). Defaults to\n            `layout.uirevision`.\n        visible\n            Sets the default visibility of the base layers.\n        \nDid you mean \"center\"?\n\nBad property path:\nobserved\n^^^^^^^^",
     "output_type": "error",
     "traceback": [
      "\u001b[1;31m---------------------------------------------------------------------------\u001b[0m",
      "\u001b[1;31mValueError\u001b[0m                                Traceback (most recent call last)",
      "Cell \u001b[1;32mIn[29], line 13\u001b[0m\n\u001b[0;32m      8\u001b[0m \u001b[38;5;28;01mimport\u001b[39;00m \u001b[38;5;21;01mplotly\u001b[39;00m\u001b[38;5;21;01m.\u001b[39;00m\u001b[38;5;21;01mexpress\u001b[39;00m \u001b[38;5;28;01mas\u001b[39;00m \u001b[38;5;21;01mpx\u001b[39;00m\n\u001b[0;32m      9\u001b[0m fig \u001b[38;5;241m=\u001b[39m px\u001b[38;5;241m.\u001b[39mchoropleth(df_choropleth, geojson\u001b[38;5;241m=\u001b[39mmunicipios, color\u001b[38;5;241m=\u001b[39m\u001b[38;5;124m\"\u001b[39m\u001b[38;5;124mPCT_VOTOS_LIMIT\u001b[39m\u001b[38;5;124m\"\u001b[39m,\n\u001b[0;32m     10\u001b[0m                     locations\u001b[38;5;241m=\u001b[39m\u001b[38;5;124m\"\u001b[39m\u001b[38;5;124mcodigo_ibge\u001b[39m\u001b[38;5;124m\"\u001b[39m, featureidkey\u001b[38;5;241m=\u001b[39m\u001b[38;5;124m\"\u001b[39m\u001b[38;5;124mproperties.id\u001b[39m\u001b[38;5;124m\"\u001b[39m,\n\u001b[0;32m     11\u001b[0m                     projection\u001b[38;5;241m=\u001b[39m\u001b[38;5;124m\"\u001b[39m\u001b[38;5;124mmercator\u001b[39m\u001b[38;5;124m\"\u001b[39m\n\u001b[0;32m     12\u001b[0m                    )\n\u001b[1;32m---> 13\u001b[0m \u001b[43mfig\u001b[49m\u001b[38;5;241;43m.\u001b[39;49m\u001b[43mupdate_geos\u001b[49m\u001b[43m(\u001b[49m\u001b[43mfitbounds\u001b[49m\u001b[38;5;241;43m=\u001b[39;49m\u001b[38;5;124;43m\"\u001b[39;49m\u001b[38;5;124;43mlocations\u001b[39;49m\u001b[38;5;124;43m\"\u001b[39;49m\u001b[43m,\u001b[49m\u001b[43m \u001b[49m\u001b[43mobserved\u001b[49m\u001b[38;5;241;43m=\u001b[39;49m\u001b[38;5;28;43;01mFalse\u001b[39;49;00m\u001b[43m)\u001b[49m\n\u001b[0;32m     14\u001b[0m fig\u001b[38;5;241m.\u001b[39mupdate_layout(margin\u001b[38;5;241m=\u001b[39m{\u001b[38;5;124m\"\u001b[39m\u001b[38;5;124mr\u001b[39m\u001b[38;5;124m\"\u001b[39m:\u001b[38;5;241m0\u001b[39m,\u001b[38;5;124m\"\u001b[39m\u001b[38;5;124mt\u001b[39m\u001b[38;5;124m\"\u001b[39m:\u001b[38;5;241m0\u001b[39m,\u001b[38;5;124m\"\u001b[39m\u001b[38;5;124ml\u001b[39m\u001b[38;5;124m\"\u001b[39m:\u001b[38;5;241m0\u001b[39m,\u001b[38;5;124m\"\u001b[39m\u001b[38;5;124mb\u001b[39m\u001b[38;5;124m\"\u001b[39m:\u001b[38;5;241m0\u001b[39m})\n\u001b[0;32m     15\u001b[0m fig\u001b[38;5;241m.\u001b[39mshow()\n",
      "File \u001b[1;32m~\\AppData\\Local\\anaconda3\\lib\\site-packages\\plotly\\graph_objs\\_figure.py:20734\u001b[0m, in \u001b[0;36mFigure.update_geos\u001b[1;34m(self, patch, selector, overwrite, row, col, **kwargs)\u001b[0m\n\u001b[0;32m  20695\u001b[0m \u001b[38;5;250m\u001b[39m\u001b[38;5;124;03m\"\"\"\u001b[39;00m\n\u001b[0;32m  20696\u001b[0m \u001b[38;5;124;03mPerform a property update operation on all geo objects\u001b[39;00m\n\u001b[0;32m  20697\u001b[0m \u001b[38;5;124;03mthat satisfy the specified selection criteria\u001b[39;00m\n\u001b[1;32m   (...)\u001b[0m\n\u001b[0;32m  20731\u001b[0m \u001b[38;5;124;03m    Returns the Figure object that the method was called on\u001b[39;00m\n\u001b[0;32m  20732\u001b[0m \u001b[38;5;124;03m\"\"\"\u001b[39;00m\n\u001b[0;32m  20733\u001b[0m \u001b[38;5;28;01mfor\u001b[39;00m obj \u001b[38;5;129;01min\u001b[39;00m \u001b[38;5;28mself\u001b[39m\u001b[38;5;241m.\u001b[39mselect_geos(selector\u001b[38;5;241m=\u001b[39mselector, row\u001b[38;5;241m=\u001b[39mrow, col\u001b[38;5;241m=\u001b[39mcol):\n\u001b[1;32m> 20734\u001b[0m     obj\u001b[38;5;241m.\u001b[39mupdate(patch, overwrite\u001b[38;5;241m=\u001b[39moverwrite, \u001b[38;5;241m*\u001b[39m\u001b[38;5;241m*\u001b[39mkwargs)\n\u001b[0;32m  20736\u001b[0m \u001b[38;5;28;01mreturn\u001b[39;00m \u001b[38;5;28mself\u001b[39m\n",
      "File \u001b[1;32m~\\AppData\\Local\\anaconda3\\lib\\site-packages\\plotly\\basedatatypes.py:5122\u001b[0m, in \u001b[0;36mBasePlotlyType.update\u001b[1;34m(self, dict1, overwrite, **kwargs)\u001b[0m\n\u001b[0;32m   5120\u001b[0m     \u001b[38;5;28;01mwith\u001b[39;00m \u001b[38;5;28mself\u001b[39m\u001b[38;5;241m.\u001b[39mfigure\u001b[38;5;241m.\u001b[39mbatch_update():\n\u001b[0;32m   5121\u001b[0m         BaseFigure\u001b[38;5;241m.\u001b[39m_perform_update(\u001b[38;5;28mself\u001b[39m, dict1, overwrite\u001b[38;5;241m=\u001b[39moverwrite)\n\u001b[1;32m-> 5122\u001b[0m         \u001b[43mBaseFigure\u001b[49m\u001b[38;5;241;43m.\u001b[39;49m\u001b[43m_perform_update\u001b[49m\u001b[43m(\u001b[49m\u001b[38;5;28;43mself\u001b[39;49m\u001b[43m,\u001b[49m\u001b[43m \u001b[49m\u001b[43mkwargs\u001b[49m\u001b[43m,\u001b[49m\u001b[43m \u001b[49m\u001b[43moverwrite\u001b[49m\u001b[38;5;241;43m=\u001b[39;49m\u001b[43moverwrite\u001b[49m\u001b[43m)\u001b[49m\n\u001b[0;32m   5123\u001b[0m \u001b[38;5;28;01melse\u001b[39;00m:\n\u001b[0;32m   5124\u001b[0m     BaseFigure\u001b[38;5;241m.\u001b[39m_perform_update(\u001b[38;5;28mself\u001b[39m, dict1, overwrite\u001b[38;5;241m=\u001b[39moverwrite)\n",
      "File \u001b[1;32m~\\AppData\\Local\\anaconda3\\lib\\site-packages\\plotly\\basedatatypes.py:3885\u001b[0m, in \u001b[0;36mBaseFigure._perform_update\u001b[1;34m(plotly_obj, update_obj, overwrite)\u001b[0m\n\u001b[0;32m   3881\u001b[0m                 \u001b[38;5;28;01mcontinue\u001b[39;00m\n\u001b[0;32m   3882\u001b[0m         \u001b[38;5;66;03m# If no match, raise the error, which should already\u001b[39;00m\n\u001b[0;32m   3883\u001b[0m         \u001b[38;5;66;03m# contain the _raise_on_invalid_property_error\u001b[39;00m\n\u001b[0;32m   3884\u001b[0m         \u001b[38;5;66;03m# generated message\u001b[39;00m\n\u001b[1;32m-> 3885\u001b[0m         \u001b[38;5;28;01mraise\u001b[39;00m err\n\u001b[0;32m   3887\u001b[0m \u001b[38;5;66;03m# Convert update_obj to dict\u001b[39;00m\n\u001b[0;32m   3888\u001b[0m \u001b[38;5;66;03m# --------------------------\u001b[39;00m\n\u001b[0;32m   3889\u001b[0m \u001b[38;5;28;01mif\u001b[39;00m \u001b[38;5;28misinstance\u001b[39m(update_obj, BasePlotlyType):\n",
      "\u001b[1;31mValueError\u001b[0m: Invalid property specified for object of type plotly.graph_objs.layout.Geo: 'observed'\n\nDid you mean \"center\"?\n\n    Valid properties:\n        bgcolor\n            Set the background color of the map\n        center\n            :class:`plotly.graph_objects.layout.geo.Center`\n            instance or dict with compatible properties\n        coastlinecolor\n            Sets the coastline color.\n        coastlinewidth\n            Sets the coastline stroke width (in px).\n        countrycolor\n            Sets line color of the country boundaries.\n        countrywidth\n            Sets line width (in px) of the country boundaries.\n        domain\n            :class:`plotly.graph_objects.layout.geo.Domain`\n            instance or dict with compatible properties\n        fitbounds\n            Determines if this subplot's view settings are auto-\n            computed to fit trace data. On scoped maps, setting\n            `fitbounds` leads to `center.lon` and `center.lat`\n            getting auto-filled. On maps with a non-clipped\n            projection, setting `fitbounds` leads to `center.lon`,\n            `center.lat`, and `projection.rotation.lon` getting\n            auto-filled. On maps with a clipped projection, setting\n            `fitbounds` leads to `center.lon`, `center.lat`,\n            `projection.rotation.lon`, `projection.rotation.lat`,\n            `lonaxis.range` and `lonaxis.range` getting auto-\n            filled. If \"locations\", only the trace's visible\n            locations are considered in the `fitbounds`\n            computations. If \"geojson\", the entire trace input\n            `geojson` (if provided) is considered in the\n            `fitbounds` computations, Defaults to False.\n        framecolor\n            Sets the color the frame.\n        framewidth\n            Sets the stroke width (in px) of the frame.\n        lakecolor\n            Sets the color of the lakes.\n        landcolor\n            Sets the land mass color.\n        lataxis\n            :class:`plotly.graph_objects.layout.geo.Lataxis`\n            instance or dict with compatible properties\n        lonaxis\n            :class:`plotly.graph_objects.layout.geo.Lonaxis`\n            instance or dict with compatible properties\n        oceancolor\n            Sets the ocean color\n        projection\n            :class:`plotly.graph_objects.layout.geo.Projection`\n            instance or dict with compatible properties\n        resolution\n            Sets the resolution of the base layers. The values have\n            units of km/mm e.g. 110 corresponds to a scale ratio of\n            1:110,000,000.\n        rivercolor\n            Sets color of the rivers.\n        riverwidth\n            Sets the stroke width (in px) of the rivers.\n        scope\n            Set the scope of the map.\n        showcoastlines\n            Sets whether or not the coastlines are drawn.\n        showcountries\n            Sets whether or not country boundaries are drawn.\n        showframe\n            Sets whether or not a frame is drawn around the map.\n        showlakes\n            Sets whether or not lakes are drawn.\n        showland\n            Sets whether or not land masses are filled in color.\n        showocean\n            Sets whether or not oceans are filled in color.\n        showrivers\n            Sets whether or not rivers are drawn.\n        showsubunits\n            Sets whether or not boundaries of subunits within\n            countries (e.g. states, provinces) are drawn.\n        subunitcolor\n            Sets the color of the subunits boundaries.\n        subunitwidth\n            Sets the stroke width (in px) of the subunits\n            boundaries.\n        uirevision\n            Controls persistence of user-driven changes in the view\n            (projection and center). Defaults to\n            `layout.uirevision`.\n        visible\n            Sets the default visibility of the base layers.\n        \nDid you mean \"center\"?\n\nBad property path:\nobserved\n^^^^^^^^"
     ]
    }
   ],
   "source": [
    "from urllib.request import urlopen\n",
    "import json\n",
    "import plotly.express as px\n",
    "\n",
    "with urlopen('https://raw.githubusercontent.com/perferctstorm/DiscursoOdioEleicoes/refs/heads/main/Dados/Eleicoes/geojs-100-mun_minifier.json') as response:\n",
    "    municipios = json.load(response)\n",
    "    \n",
    "import plotly.express as px\n",
    "fig = px.choropleth(df_choropleth, geojson=municipios, color=\"PCT_VOTOS_LIMIT\",\n",
    "                    locations=\"codigo_ibge\", featureidkey=\"properties.id\",\n",
    "                    projection=\"mercator\"\n",
    "                   )\n",
    "fig.update_geos(fitbounds=\"locations\", observed=True)\n",
    "fig.update_layout(margin={\"r\":0,\"t\":0,\"l\":0,\"b\":0})\n",
    "fig.show()\n"
   ]
  },
  {
   "cell_type": "code",
   "execution_count": null,
   "id": "600e65fd-8bb3-4280-afcd-c6b27353ef50",
   "metadata": {},
   "outputs": [],
   "source": [
    "df_choropleth[:1]"
   ]
  }
 ],
 "metadata": {
  "kernelspec": {
   "display_name": "Python 3 (ipykernel)",
   "language": "python",
   "name": "python3"
  },
  "language_info": {
   "codemirror_mode": {
    "name": "ipython",
    "version": 3
   },
   "file_extension": ".py",
   "mimetype": "text/x-python",
   "name": "python",
   "nbconvert_exporter": "python",
   "pygments_lexer": "ipython3",
   "version": "3.10.13"
  }
 },
 "nbformat": 4,
 "nbformat_minor": 5
}
