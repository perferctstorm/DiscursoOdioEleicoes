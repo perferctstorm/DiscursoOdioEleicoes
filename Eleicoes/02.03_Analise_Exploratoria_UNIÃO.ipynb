{
 "cells": [
  {
   "cell_type": "markdown",
   "id": "0ae52d98-8139-4212-92b8-618ce6cc5d6a",
   "metadata": {},
   "source": [
    "# **Especialização em Ciência de Dados - INF/UFRGS e SERPRO**\n",
    "# **Análise Visual e Interativa Sobre o Discurso de Ódio nas Redes Sociais e Influência nas Eleições Brasileiras**\n",
    "#### *Prof <sup>as</sup>. Viviane P. Moreira e Lisiane Selau*\n",
    "<br>\n",
    "\n",
    "---\n",
    "\n",
    "***Trabalho de Conclusão de Curso – Turma 03***\n",
    "\n",
    "*Aluno:*\n",
    "\n",
    "* Antonio Fagner Santos de Oliveira 576637\n",
    "---\n",
    "\n",
    "_Este notebook trabalha análise exploratória dos dados das eleições gerais brasileiras de 2018 e 2022._\n",
    "\n",
    "_Na análise exploratória devem-se usar técnicas estatísticas e visualização, seão identificadas tendências, padrões, relações e insights iniciais que podem orientar as próximas etapas do processo._\n",
    "\n",
    "https://www.linkedin.com/pulse/criando-mapas-com-python-de-uma-forma-bastante-simples-mauro-ferreira/\n",
    "\n",
    "https://medium.com/@maurynho/coletando-dados-de-regi%C3%B5es-e-estados-com-python-c7b965fa7694\n",
    "\n",
    "https://www.pluralsight.com/tech-blog/synthwave-styling-data-visualizations-in-python-with-altair/"
   ]
  },
  {
   "cell_type": "markdown",
   "id": "48194547-db96-4ec4-afa0-69e5ccbccfe0",
   "metadata": {},
   "source": [
    "## 1 Carga dos Dados Pré-processados"
   ]
  },
  {
   "cell_type": "code",
   "execution_count": null,
   "id": "1b5072b4-fd36-4e74-945b-ff3acc0b37ac",
   "metadata": {},
   "outputs": [],
   "source": [
    "import polars as pl\n",
    "import os\n",
    "import altair as alt\n",
    "import numpy as np\n",
    "import standards as sdt_f"
   ]
  },
  {
   "cell_type": "code",
   "execution_count": null,
   "id": "2c37ef6f-eb51-4773-893c-5f787b8fd832",
   "metadata": {},
   "outputs": [],
   "source": [
    "root:str = \"../Dados/Eleicoes/\"\n",
    "poll_18:str = \"eleicao18_turno_01.parquet\"\n",
    "poll_22:str = \"eleicao22_turno_01.parquet\"\n",
    "parties:str = \"partidos_br.parquet\"\n",
    "cities:str = \"municipios.parquet\""
   ]
  },
  {
   "cell_type": "code",
   "execution_count": null,
   "id": "f44b884e-9179-4407-b62b-2aeca4d29d80",
   "metadata": {},
   "outputs": [],
   "source": [
    "#carga dos partidos políticos\n",
    "df_partidos:pl.DataFrame = sdt_f.load_parquet(os.path.join(root, parties))"
   ]
  },
  {
   "cell_type": "code",
   "execution_count": null,
   "id": "28e7fe83-89e5-4ebe-aa17-8bb98f6e58a0",
   "metadata": {},
   "outputs": [],
   "source": [
    "#carga dos municípios\n",
    "df_municipios = sdt_f.load_parquet(os.path.join(root, cities))"
   ]
  },
  {
   "cell_type": "code",
   "execution_count": null,
   "id": "5cdf6c69-0c2a-4a8c-8b6b-2798f30b3514",
   "metadata": {},
   "outputs": [],
   "source": [
    "#Carregas dados das eleições de 2018 e 2022 já ajustados\n",
    "df_poll_18 = sdt_f.load_parquet(os.path.join(root, poll_18))\n",
    "df_poll_22 = sdt_f.load_parquet(os.path.join(root, poll_22))"
   ]
  },
  {
   "cell_type": "markdown",
   "id": "c1d81e48-6c57-43d5-8652-174dbc4be0c5",
   "metadata": {},
   "source": [
    "## 2 Análise Exploratória\n",
    "\n",
    "Entender e explorar os dados por meio de técnicas estatísticas e visualização. Tendências, padrões, relações e insights iniciais que podem orientar as próximas etapas do processo.\n",
    "\n",
    "https://ebaconline.com.br/blog/analise-exploratoria-de-dados-o-que-e\n",
    "\n",
    "---"
   ]
  },
  {
   "cell_type": "markdown",
   "id": "cd133eeb-f43d-4aa2-981a-0da856b9d741",
   "metadata": {},
   "source": [
    "### 2.1 UNIÃO\n",
    "\n",
    "Análise do comportamento do voto no UNIÃO entre 2018 e 2022\n",
    "\n",
    "---"
   ]
  },
  {
   "cell_type": "code",
   "execution_count": null,
   "id": "2cc931ae-910c-4741-97cb-a64edc0f13a8",
   "metadata": {},
   "outputs": [],
   "source": [
    "#disabilita o limite de 5.000 para processamento imposto pelo altair\n",
    "alt.data_transformers.disable_max_rows()"
   ]
  },
  {
   "cell_type": "markdown",
   "id": "e235f38b-3550-4da1-a7b2-53a79b7dc5a1",
   "metadata": {},
   "source": [
    "#### 2.1.1 Para o cargo de deputado estadual"
   ]
  },
  {
   "cell_type": "code",
   "execution_count": null,
   "id": "3cc99ece-3be1-40dc-902a-cd52dd006fa1",
   "metadata": {},
   "outputs": [],
   "source": [
    "#define o partido em análise\n",
    "partido:str=\"UNIÃO\"\n",
    "\n",
    "#cargo a ser analisado em relação ao partido\n",
    "cargo:list[int]=list([7,8])\n",
    "\n",
    "titulo:str= f\"% Votos Dep. Estadual/Distrital ({partido})\"\n",
    "df_poll_18_tmp, df_poll_22_tmp = sdt_f.filter_choropleth_votting(df_poll_18, df_poll_22, df_municipios, cargo, partido)"
   ]
  },
  {
   "cell_type": "code",
   "execution_count": null,
   "id": "7f114cba-1a8e-40f3-99d9-cb905155adc3",
   "metadata": {},
   "outputs": [],
   "source": [
    "sdt_f.choropleth_votting(df_poll_18_tmp, df_poll_22_tmp, titulo)"
   ]
  },
  {
   "cell_type": "code",
   "execution_count": null,
   "id": "8da3531c-9341-491e-b0ac-f1de8255903b",
   "metadata": {},
   "outputs": [],
   "source": [
    "#juntando os dois datasets para apresentarmos box plots por eleição\n",
    "df_tmp = pl.concat([df_poll_18_tmp, df_poll_22_tmp])"
   ]
  },
  {
   "cell_type": "code",
   "execution_count": null,
   "id": "c905c900-1217-4978-ad22-e720c38a757d",
   "metadata": {},
   "outputs": [],
   "source": [
    "sdt_f.box_plots_votting_by_region(df_tmp, titulo)"
   ]
  },
  {
   "cell_type": "code",
   "execution_count": null,
   "id": "8af69cbf-ea58-43c8-b2a0-a0e81fc5f3a6",
   "metadata": {},
   "outputs": [],
   "source": [
    "sdt_f.box_plots_votting_by_uf(df_tmp, titulo)"
   ]
  },
  {
   "cell_type": "code",
   "execution_count": null,
   "id": "0e0a611a-e771-4932-8dfe-d1d052c3c626",
   "metadata": {},
   "outputs": [],
   "source": [
    "df_tmp = df_poll_18_tmp.join(df_poll_22_tmp, on=\"CD_MUNICIPIO\")\n",
    "df_tmp = df_tmp.rename({\"PCT_VOTOS_MUNIC\":\"PCT_VOTOS_18\", \"PCT_VOTOS_MUNIC_right\": \"PCT_VOTOS_22\", \"TOTAL_VOTOS_MUNIC\":\"TOTAL_VOTOS_18\", \"TOTAL_VOTOS_MUNIC_right\": \"TOTAL_VOTOS_22\"})"
   ]
  },
  {
   "cell_type": "code",
   "execution_count": null,
   "id": "ef5afebe-a91a-4d3e-8431-a115cb319f4a",
   "metadata": {},
   "outputs": [],
   "source": [
    "sdt_f.scatter_votting_by_regions(df_tmp, titulo)"
   ]
  },
  {
   "cell_type": "code",
   "execution_count": null,
   "id": "cc646f22-8b97-4109-bda2-19c8b6fb5546",
   "metadata": {},
   "outputs": [],
   "source": [
    "sdt_f.scatter_facet_votting_by_regions(df_tmp, titulo)"
   ]
  },
  {
   "cell_type": "markdown",
   "id": "97a6d7b1-85df-43a6-9167-8cf55c1734d9",
   "metadata": {},
   "source": [
    "#### 2.1.2 Para o cargo de deputado federal"
   ]
  },
  {
   "cell_type": "code",
   "execution_count": null,
   "id": "66227237-e1e7-47a3-9fcb-55d76330c707",
   "metadata": {},
   "outputs": [],
   "source": [
    "#cargo a ser analisado em relação ao partido\n",
    "cargo:list[int]=list([6])\n",
    "\n",
    "titulo:str= f\"% Votos Dep. Federal ({partido})\"\n",
    "\n",
    "df_poll_18_tmp, df_poll_22_tmp = sdt_f.filter_choropleth_votting(df_poll_18, df_poll_22, df_municipios, cargo, partido)"
   ]
  },
  {
   "cell_type": "code",
   "execution_count": null,
   "id": "74e0b6c1-b905-40c3-9f04-8d881acb9690",
   "metadata": {},
   "outputs": [],
   "source": [
    "sdt_f.choropleth_votting(df_poll_18_tmp, df_poll_22_tmp, titulo)"
   ]
  },
  {
   "cell_type": "code",
   "execution_count": null,
   "id": "83f3b380-8d38-43d7-a0e9-f9631c2c611c",
   "metadata": {},
   "outputs": [],
   "source": [
    "#juntando os dois datasets para apresentarmos box plots por eleição\n",
    "df_tmp = pl.concat([df_poll_18_tmp, df_poll_22_tmp])"
   ]
  },
  {
   "cell_type": "code",
   "execution_count": null,
   "id": "591f8445-9648-4a9d-b51d-89224a51c134",
   "metadata": {},
   "outputs": [],
   "source": [
    "sdt_f.box_plots_votting_by_region(df_tmp, titulo)"
   ]
  },
  {
   "cell_type": "code",
   "execution_count": null,
   "id": "5c97ff0a-28f3-4468-882d-5af096a1bd2f",
   "metadata": {},
   "outputs": [],
   "source": [
    "sdt_f.box_plots_votting_by_uf(df_tmp, titulo)"
   ]
  },
  {
   "cell_type": "code",
   "execution_count": null,
   "id": "57890e90-6bbb-4f08-b92f-ea8f6d4a1654",
   "metadata": {},
   "outputs": [],
   "source": [
    "df_tmp = df_poll_18_tmp.join(df_poll_22_tmp, on=\"CD_MUNICIPIO\")\n",
    "df_tmp = df_tmp.rename({\"PCT_VOTOS_MUNIC\":\"PCT_VOTOS_18\", \"PCT_VOTOS_MUNIC_right\": \"PCT_VOTOS_22\", \"TOTAL_VOTOS_MUNIC\":\"TOTAL_VOTOS_18\", \"TOTAL_VOTOS_MUNIC_right\": \"TOTAL_VOTOS_22\"})"
   ]
  },
  {
   "cell_type": "code",
   "execution_count": null,
   "id": "85f24ce6-5e32-4843-8656-9ab51d0a4b69",
   "metadata": {},
   "outputs": [],
   "source": [
    "sdt_f.scatter_votting_by_regions(df_tmp, titulo)"
   ]
  },
  {
   "cell_type": "code",
   "execution_count": null,
   "id": "0bed974f-d7a5-4cac-9042-27dcf288734a",
   "metadata": {},
   "outputs": [],
   "source": [
    "sdt_f.scatter_facet_votting_by_regions(df_tmp, titulo)"
   ]
  },
  {
   "cell_type": "markdown",
   "id": "44e6a93b-1996-4428-a5f0-6aa53725c819",
   "metadata": {},
   "source": [
    "#### 2.1.3 Para o cargo de presidente"
   ]
  },
  {
   "cell_type": "code",
   "execution_count": null,
   "id": "8e57f989-97c1-4b71-846f-692bb1157089",
   "metadata": {},
   "outputs": [],
   "source": [
    "#cargo a ser analisado em relação ao partido\n",
    "cargo:list[int]=list([1])\n",
    "titulo:str= f\"% Votos Presidente ({partido})\"\n",
    "df_poll_18_tmp, df_poll_22_tmp = sdt_f.filter_choropleth_votting(df_poll_18, df_poll_22, df_municipios, cargo, partido)"
   ]
  },
  {
   "cell_type": "code",
   "execution_count": null,
   "id": "71024367-a00a-4648-b0f1-e79fd6eeb699",
   "metadata": {},
   "outputs": [],
   "source": [
    "sdt_f.choropleth_votting(df_poll_18_tmp, df_poll_22_tmp, titulo)"
   ]
  },
  {
   "cell_type": "code",
   "execution_count": null,
   "id": "4d277207-93f3-4aff-a21f-d17b4c4f6506",
   "metadata": {},
   "outputs": [],
   "source": [
    "#juntando os dois datasets para apresentarmos box plots por eleição\n",
    "df_tmp = pl.concat([df_poll_18_tmp, df_poll_22_tmp])"
   ]
  },
  {
   "cell_type": "code",
   "execution_count": null,
   "id": "2c2463a2-aafd-47d0-88d0-b7de969decd1",
   "metadata": {},
   "outputs": [],
   "source": [
    "sdt_f.box_plots_votting_by_region(df_tmp, titulo)"
   ]
  },
  {
   "cell_type": "code",
   "execution_count": null,
   "id": "bba3b239-bedf-4f3f-be3f-a87cd49e6f03",
   "metadata": {},
   "outputs": [],
   "source": [
    "sdt_f.box_plots_votting_by_uf(df_tmp, titulo)"
   ]
  },
  {
   "cell_type": "code",
   "execution_count": null,
   "id": "de79bc6e-ae3f-45d6-8b46-7e2b68335580",
   "metadata": {},
   "outputs": [],
   "source": [
    "df_tmp = df_poll_18_tmp.join(df_poll_22_tmp, on=\"CD_MUNICIPIO\")\n",
    "df_tmp = df_tmp.rename({\"PCT_VOTOS_MUNIC\":\"PCT_VOTOS_18\", \"PCT_VOTOS_MUNIC_right\": \"PCT_VOTOS_22\", \"TOTAL_VOTOS_MUNIC\":\"TOTAL_VOTOS_18\", \"TOTAL_VOTOS_MUNIC_right\": \"TOTAL_VOTOS_22\"})"
   ]
  },
  {
   "cell_type": "code",
   "execution_count": null,
   "id": "f61f5a6f-4ed6-4212-9407-ded262dab686",
   "metadata": {},
   "outputs": [],
   "source": [
    "sdt_f.scatter_votting_by_regions(df_tmp, titulo)"
   ]
  },
  {
   "cell_type": "code",
   "execution_count": null,
   "id": "ffcc8ccc-2f87-45e0-bf09-d03ab97d23e3",
   "metadata": {},
   "outputs": [],
   "source": [
    "sdt_f.scatter_facet_votting_by_regions(df_tmp, titulo)"
   ]
  },
  {
   "cell_type": "code",
   "execution_count": null,
   "id": "372cd4f2-43fc-4649-9695-3bd768a02f51",
   "metadata": {},
   "outputs": [],
   "source": []
  }
 ],
 "metadata": {
  "kernelspec": {
   "display_name": "Python 3 (ipykernel)",
   "language": "python",
   "name": "python3"
  },
  "language_info": {
   "codemirror_mode": {
    "name": "ipython",
    "version": 3
   },
   "file_extension": ".py",
   "mimetype": "text/x-python",
   "name": "python",
   "nbconvert_exporter": "python",
   "pygments_lexer": "ipython3",
   "version": "3.10.13"
  }
 },
 "nbformat": 4,
 "nbformat_minor": 5
}
