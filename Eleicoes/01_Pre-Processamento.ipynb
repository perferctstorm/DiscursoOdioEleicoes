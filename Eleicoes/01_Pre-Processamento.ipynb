{
 "cells": [
  {
   "cell_type": "markdown",
   "id": "f16d0be4-760e-4fba-94c2-c5e4feaeb2cf",
   "metadata": {},
   "source": [
    "# **Especialização em Ciência de Dados - INF/UFRGS e SERPRO**\n",
    "# **Análise Visual e Interativa Sobre o Discurso de Ódio nas Redes Sociais e Influência nas Eleições Brasileiras**\n",
    "#### *Prof <sup>as</sup>. Viviane P. Moreira e Lisiane Selau*\n",
    "<br>\n",
    "\n",
    "---\n",
    "\n",
    "***Trabalho de Conclusão de Curso – Turma 03***\n",
    "\n",
    "*Aluno:*\n",
    "\n",
    "* Antonio Fagner Santos de Oliveira 576637\n",
    "---\n",
    "\n",
    "_Este notebook trabalha a carga e o pré-processamento dos dados das eleições gerais brasileiras de 2018 e 2022._\n",
    "\n",
    "_O pré-processamento inclui etapas como limpeza, transformação, integração e redução de dimensionalidade. Essas etapas visam garantir que os dados estejam prontos para a análise, livres de ruídos, inconsistências e redundâncias._"
   ]
  },
  {
   "cell_type": "markdown",
   "id": "3315d5a6-cb6b-4d81-ab3f-aca45983df3b",
   "metadata": {},
   "source": [
    "## 1 Dicionário de Dados"
   ]
  },
  {
   "cell_type": "markdown",
   "id": "1fe83cdb-70b3-40a8-9e2b-15efe2504a95",
   "metadata": {},
   "source": [
    "### 1.1 Arquivo votacao_partido_munzona_[2018|2022]_BRASIL.parquet\n",
    "\n",
    "Agregação da votação dos partidos por zona eleitoral dos municípios.\n",
    "\n",
    "---\n",
    "- ***DT_GERACAO*** - Data da extração dos dados para geração do arquivo, formato \"DD/MM/YYYY\";\n",
    "- ***HH_GERACAO*** - Hora da extração dos dados para geração do arquivo com base no horário de Brasília, formato \"H24:Mi:SS\";\n",
    "- ***ANO_ELEICAO*** - Ano de referência da eleição para geração do arquivo. Observação: para eleições suplementares o ano de referência da eleição é o da eleição ordinária correspondente, format \"YYYY\";\n",
    "- ***CD_TIPO_ELEICAO*** - Código do tipo de eleição. Pode assumir os valores:\n",
    "  \n",
    "> 1 - Eleição Suplementar;\n",
    ">\n",
    "> 2 - Eleição Ordinária e;\n",
    ">\n",
    "> 3 - Consulta Popular.\n",
    "> \n",
    "- ***NM_TIPO_ELEICAO*** - Nome do tipo de eleição.\n",
    "  \n",
    "> 1 - **Eleição Suplementar** - eleições que não têm periodicidade pré-determinada ou definida e ocorrem quando, eventualmente, se fizerem necessárias.\n",
    "> \n",
    "> 2 - **Eleição Ordinária** - eleições ordinárias onde são eleitos os cargos de ***Presidente, Governadores, Deputados (Federais e Estaduais) e Senadores***. Nas eleições ordinárias municipais são eleitos os cargos de ***Prefeito e Vereadores***.\n",
    ">\n",
    "> 3 - **Consulta Popular** - eleições que ocorrem sempre que a população é convocada a opinar diretamente sobre um assunto específico e importante. Ela pode ser realizada de duas formas: ***plebiscito*** (quando o cidadão opina previamente sobre a possível criação de uma lei) e ***referendo*** (quando uma lei aprovada por um órgão legislativo é submetida à aceitação ou não das eleitoras e dos eleitores).\n",
    "\n",
    "- ***NR_TURNO*** - Número do turno da eleição.\n",
    "  \n",
    "> 1 - **Primeiro Turno**;\n",
    "> \n",
    "> 2 - **Segundo Turno**.\n",
    "\n",
    "_Nos municípios cujo eleitorado é igual ou menor que 200 mil e para o cargo de Senador elege-se a candidata ou o candidato que tenha alcançado a maioria simples dos votos._\n",
    "\n",
    "- ***CD_ELEICAO*** - Código único da eleição no âmbito da Justiça Eleitoral. Observação: este código é único por eleição e por turno, ou seja, cada turno possui seu código de eleição.\n",
    "- ***DS_ELEICAO*** - Descrição da eleição.\n",
    "- ***DT_ELEICAO*** - Data em que ocorreu a eleição, formato \"DD/MM/YYYY\".\n",
    "- ***TP_ABRANGENCIA*** - Abrangência da eleição.\n",
    "  \n",
    "> **M** - Municipal;\n",
    "> \n",
    "> **E** - Estadual e;\n",
    "> \n",
    "> **F** - Federal.\n",
    "\n",
    "*As eleições realizadas na circunscrição Municipal são as eleições para os cargos de Prefeito, Vice-Prefeito e Vereador; as realizadas na circunscrição Estadual são para os cargos de Governador, Vice-Governador, Senador, Deputado Estadual, Deputado Federal e Deputado Distrital e; as realizadas na circunscrição Federal são para os cargos de Presidente e Vice-Presidente da República.*\n",
    "- ***SG_UF*** - Sigla da Unidade da Federação em que ocorreu a eleição.\n",
    "- ***SG_UE*** - Sigla da Unidade Eleitoral em que a candidata ou o candidato concorre na eleição. A Unidade Eleitoral representa a Unidade da Federação ou o Município em que a candidata ou o candidato concorre na eleição e é relacionada à abrangência territorial desta candidatura. Em caso de abrangência Federal (cargo de Presidente e Vice-Presidente) a sigla é ***BR***, em caso de abrangência Estadual (cargos de Governador, Vice-Governador, Senador, Deputado Federal, Deputado Estadual e Deputado Distrital) a sigla é a ***UF da candidatura*** e em caso de abrangência Municipal (cargos de Prefeito, Vice-Prefeito e Vereador) é o ***código TSE de identificação do município da candidatura***.\n",
    "- ***NM_UE*** - Nome da Unidade Eleitoral. Em caso de eleição majoritária é a **sigla da UF** que a candidata ou o candidato concorre e em caso de eleição municipal é o **código TSE do município (número)**. Assume os valores especiais **BR, ZZ e VT** para designar, respectivamente, o Brasil, Exterior e Voto em Trânsito.\n",
    "- ***CD_MUNICIPIO*** - Código TSE do município onde ocorreu a eleição.\n",
    "- ***NM_MUNICIPIO*** - Nome do município onde ocorreu a eleição.\n",
    "- ***NR_ZONA*** - Número da zona onde ocorreu a eleição.\n",
    "- ***CD_CARGO*** - Código do cargo da candidata ou candidato.\n",
    "\n",
    "> **1** - Presidente\n",
    ">\n",
    "> **3** - Governador\n",
    ">\n",
    "> **5** - Senador\n",
    ">\n",
    "> **6** - Deputado Federal\n",
    ">\n",
    "> **7** - Deputado Estadual\n",
    ">\n",
    "> **8** - Deputado Distrital\n",
    ">\n",
    "> **25** - Conselheiro Distrital\n",
    "\n",
    "- ***DS_CARGO*** - Descrição do cargo da candidata ou candidato.\n",
    "- ***TP_AGREMIACAO*** - Tipo de agremiação da candidatura da candidata ou do candidato, ou seja, forma como a candidata ou o candidato concorrerá nas eleições. Pode assumir os valores:\n",
    "\n",
    "> **Federação** - quando a candidata ou candidato concorre por uma federação;\n",
    "> \n",
    "> **Coligação** - quando a candidata ou o candidato concorre por coligação e;\n",
    ">\n",
    "> **Partido Isolado** - quando a candidata ou o candidato concorre somente pelo partido.\n",
    "\n",
    "- ***NR_PARTIDO*** - Número do partido de origem da candidata ou candidato.\n",
    "- ***SG_PARTIDO*** - Sigla do partido de origem da candidata ou candidato.\n",
    "- ***NM_PARTIDO*** - Nome do partido de origem da candidata ou candidato.\n",
    "- ***NR_FEDERACAO*** - Número da Federação a qual concorre a candidata ou candidato. Caso a candidatura não esteja em uma Federação, o arquivo retornará o valor **#NULO#**.\n",
    "- ***NM_FEDERACAO*** - Nome da Federação a qual concorre a candidata ou candidato. Caso a candidatura não esteja em uma Federação, o arquivo retornará o valor **#NULO#**.\n",
    "- ***SG_FEDERACAO*** - Sigla da Federação a qual concorre a candidata ou candidato. Caso a candidatura não esteja em uma Federação, o arquivo retornará o valor **#NULO#**.\n",
    "- ***DS_COMPOSICAO_FEDERACAO*** - Composição da Federação a qual concorre a candidata ou candidato. Caso a candidatura não esteja em uma Federação, o arquivo retornará o valor **#NULO#**. A informação da coligação no arquivo está composta pela concatenação das siglas dos partidos intercarladas com o símbolo /.\n",
    "- ***SQ_COLIGACAO*** - Sequencial da coligação da qual a candidata ou candidato pertence, gerado pela Justiça Eleitoral.\n",
    "- ***NM_COLIGACAO*** - Nome da coligação da qual a candidata ou candidato pertence.\n",
    "- ***DS_COMPOSICAO_COLIGACAO*** - Composição da coligação da qual a candidata ou candidato pertence. Observação: Coligação é a união de dois ou mais partidos a fim de disputarem eleições. A informação da coligação no arquivo está composta pela concatenação das siglas dos partidos intercarladas com o símbolo /.\n",
    "- ***ST_VOTO_EM_TRANSITO*** - Situação que indica se o quantitativo de votos se refere a voto em trânsito. Podendo assumir os valores: \"**S**\" - Sim ou \"**N**\" - Não;\n",
    "- ***QT_VOTOS_LEGENDA_VALIDOS*** - Quantidade de votos válidos em legenda totalizados para aquele partido e cargo naquele município e zona;\n",
    "- ***QT_VOTOS_NOMINAIS_CONVR_LEG*** - Quantidade de votos válidos dados à candidata ou ao candidato a cargos proporcionais que, por decisão judicial, se tornaram votos para a legenda ao qual concorriam totalizados para aquele partido e cargo naquele município e zona;\n",
    "- ***QT_TOTAL_VOTOS_LEG_VALIDOS*** - Quantidade de votos válidos em legenda totalizados para aquele partido e cargo naquele município e zona;\n",
    "- ***QT_VOTOS_NOMINAIS_VALIDOS*** - Quantidade de votos nominais válidos totalizados para aquele partido e cargo naquele município e zona;\n",
    "- ***QT_VOTOS_LEGENDA_ANUL_SUBJUD*** - Quantidade de votos dados em legenda anulados em razão da sua situação jurídica mas que há recurso pendente no momento da totalização para aquele partido e cargo naquele município e zona;\n",
    "- ***QT_VOTOS_NOMINAIS_ANUL_SUBJUD*** - Quantidade de votos dados à candidata ou ao candidato anulados em razão da sua situação jurídica mas que há recurso pendente no momento da totalização para aquele partido e cargo naquele município e zona;\n"
   ]
  },
  {
   "cell_type": "markdown",
   "id": "f8cfb9cd-ce9a-4e24-8b18-31304023d8ed",
   "metadata": {},
   "source": [
    "### 1.2 Arquivo partidos_br.parquet\n",
    "\n",
    "Dados dos partidos políticos brasileiros.\n",
    "\n",
    "---\n",
    "- ***SG_PARTIDO*** - Sigla do partido político.\n",
    "- ***MEDIA_IDEOL*** - Pontuação ideológica para cada partido onde mais próximo de 0 significa extrema esquerda e próximo de 10 extrema direita.\n",
    "- ***NOME*** - Nome do partido político no TSE.\n",
    "- ***NR_PARTIDO*** - Número do partido conforme o TSE.\n",
    "- ***POSIC_IDEOLOGICO*** - Nome extenso do posicionamento ideológico do partido.\n",
    "  \n",
    "> **Extrema Esquerda**\n",
    "> \n",
    "> **Esquerda**\n",
    "> \n",
    "> **Centro Esquerda**\n",
    ">\n",
    "> **Centro**\n",
    ">\n",
    "> **Centro Direita**\n",
    ">\n",
    "> **Direita**\n",
    ">\n",
    "> **Extrema Direita**\n",
    "\n",
    "- ***SG_POSIC_IDEOLOGICO*** - Sigla associada a cada `POSIC_IDEOLOGICO`.\n",
    "\n",
    "> **EE** - Extrema Esquerda\n",
    "> \n",
    "> **E** - Esquerda\n",
    "> \n",
    "> **CE** - Centro Esquerda\n",
    ">\n",
    "> **C** - Centro\n",
    ">\n",
    "> **CD** - Centro Direita\n",
    ">\n",
    "> **D** - Direita\n",
    ">\n",
    "> **ED** - Extrema Direita\n",
    "\n",
    "O posicionamento ideológico é baseado no artigo *BOLOGNESI, Bruno; RIBEIRO, Ednaldo; CODATO, Adrian.Uma Nova Classificação Ideológica dos Partidos Políticos Brasileiros. DADOS, Rio de Janeiro, vol.67 (2), p. 14, 2023.*"
   ]
  },
  {
   "cell_type": "markdown",
   "id": "a1d4049c-ba7a-4e5d-98d1-61c82d11be2f",
   "metadata": {},
   "source": [
    "### 1.3 Arquivo municipios_brasileiros_tse.parquet\n",
    "\n",
    "\n",
    "Lista de municípios brasileiros segundo o TSE.\n",
    "\n",
    "---\n",
    "- ***codigo_tse*** - código do município na base do TSE. Este campo faz a ligação com o campo CD_MUNICIPIO do arquivo votacao_partido_munzona_2022_BRASIL.parquet;\n",
    "- ***uf*** - sigla da UF do município;\n",
    "- ***nome_municipio*** - nome do município na base do TSE;\n",
    "- ***capital*** - 1 indica que o município é capital do seu estado;\n",
    "- ***codigo_ibge*** - código do município na base do IBGE. Este código é importante porque na base do TSE pode-se encontrar a localização geográfica do município."
   ]
  },
  {
   "cell_type": "markdown",
   "id": "8ff8b2ef-d087-4141-a97a-da26e950aeb7",
   "metadata": {},
   "source": [
    "### 1.4 Arquivo municipios_ibge_lat_long.csv\n",
    "\n",
    "Lista de municípios brasileiros com códigos do IBGE e suas latitudes e longitudes.\n",
    "\n",
    "---\n",
    "- ***codigo_ibge*** - código do município na base do IBGE. Este campo faz a ligação com a tabela de municípios do TSE;\n",
    "- ***nome*** - nome do município na base do IBGE.\n",
    "- ***latitude*** - latitude do município;\n",
    "- ***longitude*** - longitude do município;\n",
    "- ***capital*** - 1 indica que o município é capital;\n",
    "- ***codigo_uf*** - código da UF do município na base do IBGE;\n",
    "- ***siafi_id*** - código do município dentro do sistema de contabilidade do governo federal (siafi);\n",
    "- ***ddd*** - código de discagem a longa distância do município;\n",
    "- ***fuso_horario*** - descrição do fuso horário em que o município se encontra."
   ]
  },
  {
   "cell_type": "markdown",
   "id": "8de92651-cf79-4850-a4fa-b2f102033d38",
   "metadata": {},
   "source": [
    "### 1.5 Arquivo regioes.parquet\n",
    "\n",
    "Arquivo de estados por grandes regiões brasileiras\n",
    "\n",
    "---\n",
    "\n",
    "- ***UF*** - sigla da UF;\n",
    "- ***SG_REGIAO*** - sigla da região da UG;\n",
    "- ***NM_REGIAO*** - nome da região.\n"
   ]
  },
  {
   "cell_type": "markdown",
   "id": "1b5bd015-9322-431f-95a0-a39f5ab65f2a",
   "metadata": {},
   "source": [
    "## 2 Pré-processamento dos Dados\n",
    "\n",
    "Limpeza, transformação, integração e redução de dimensionalidade. Essas etapas visam garantir que os dados estejam prontos para a análise, livres de ruídos, inconsistências e redundâncias.\n",
    "\n",
    "---"
   ]
  },
  {
   "cell_type": "code",
   "execution_count": null,
   "id": "ce8bfa71-aba3-4d34-bfa4-891df8e0c660",
   "metadata": {},
   "outputs": [],
   "source": [
    "import polars as pl\n",
    "import os\n",
    "import altair as alt\n",
    "import numpy as np\n",
    "import standards as sdt_f"
   ]
  },
  {
   "cell_type": "code",
   "execution_count": null,
   "id": "4c638551-e535-44da-9945-cea59bc2350c",
   "metadata": {},
   "outputs": [],
   "source": [
    "root:str = \"../Dados/Eleicoes/\"\n",
    "poll_18:str = \"votacao_partido_munzona_2018_BRASIL.parquet\"\n",
    "poll_22:str = \"votacao_partido_munzona_2022_BRASIL.parquet\"\n",
    "regions:str = \"regioes.parquet\"\n",
    "tse_cities:str = \"municipios_brasileiros_tse.parquet\"\n",
    "ibge_cities:str = \"municipios_ibge_lat_long.parquet\"\n",
    "parties:str = \"partidos_br.parquet\""
   ]
  },
  {
   "cell_type": "markdown",
   "id": "117266bf-949c-456b-8184-ce8529f488ac",
   "metadata": {},
   "source": [
    "### 2.1 Dados eleitorais\n",
    "\n",
    "https://medium.com/@danilo.dct/the-importance-of-data-validation-in-data-analysis-a-six-step-guide-2be645a064f3\n",
    "\n",
    "---"
   ]
  },
  {
   "cell_type": "markdown",
   "id": "a30f19bf-d0a8-4b6c-960b-4246d018e2e5",
   "metadata": {},
   "source": [
    "#### Carga dos partidos políticos e seu posicionamento ideológico"
   ]
  },
  {
   "cell_type": "code",
   "execution_count": null,
   "id": "a8670d1a-a3d9-4dba-afdc-b5deab3d1db3",
   "metadata": {},
   "outputs": [],
   "source": [
    "df_partidos:pl.DataFrame = sdt_f.load_parquet(os.path.join(root, parties))"
   ]
  },
  {
   "cell_type": "code",
   "execution_count": null,
   "id": "3e326441-da5a-4655-a698-78073a7ed706",
   "metadata": {},
   "outputs": [],
   "source": [
    "df_partidos = df_partidos.with_columns(\n",
    "    pl.col(\"POSIC_IDEOLOGICO\").str.to_titlecase()\n",
    ")"
   ]
  },
  {
   "cell_type": "code",
   "execution_count": null,
   "id": "d54accda-2d88-4cc4-9ee8-7040d3de2a0d",
   "metadata": {},
   "outputs": [],
   "source": [
    "df_partidos.head()"
   ]
  },
  {
   "cell_type": "markdown",
   "id": "21adf983-e938-41f4-9ac3-dd4010cce0c5",
   "metadata": {},
   "source": [
    "#### Carga dos dados da eleições de 2018 e 2022"
   ]
  },
  {
   "cell_type": "code",
   "execution_count": null,
   "id": "408c5e55-241c-4c37-b743-a9cb7b1f6008",
   "metadata": {},
   "outputs": [],
   "source": [
    "## carrega os dados das eleições de 2018 e 2022\n",
    "df_eleicoes_2018:pl.DataFrame = sdt_f.load_parquet(os.path.join(root, poll_18))\n",
    "df_eleicoes_2022:pl.DataFrame = sdt_f.load_parquet(os.path.join(root, poll_22))"
   ]
  },
  {
   "cell_type": "code",
   "execution_count": null,
   "id": "e4de48db-a956-405b-942b-5bc7d9626042",
   "metadata": {},
   "outputs": [],
   "source": [
    "print(df_eleicoes_2018.shape)\n",
    "print(df_eleicoes_2022.shape)"
   ]
  },
  {
   "cell_type": "code",
   "execution_count": null,
   "id": "396b264c-ad41-45b7-b3a5-c2881ba535bb",
   "metadata": {},
   "outputs": [],
   "source": [
    "'''\n",
    "    Faz a filtragem inicial nos arquivos das eleições:\n",
    "    - Filtramos pelo ano da eleição [2018|2022];\n",
    "    - Apenas eleição ordinária\n",
    "    - Analisaremos somente o 1o turno\n",
    "    - Remove os cargos de conselheiro distrital\n",
    "    - Remove a abrangência municipal\n",
    "    - Também, o retorno serão alguns campos necessários à análise:\n",
    "        TP_ABRANGENCIA, SG_UF, SG_UE, NM_UE, CD_MUNICIPIO, NM_MUNICIPIO, NR_ZONA, CD_CARGO, DS_CARGO, NR_PARTIDO, SG_PARTIDO, \n",
    "        NM_PARTIDO, QT_VOTOS_NOMINAIS_CONVR_LEG, QT_TOTAL_VOTOS_LEG_VALIDOS, QT_VOTOS_NOMINAIS_VALIDOS.\n",
    "'''\n",
    "def filter_poll(df:pl.DataFrame, year:int)->pl.DataFrame:\n",
    "    return (\n",
    "        df\n",
    "            .filter( \n",
    "                (pl.col(\"ANO_ELEICAO\")==year) & (pl.col(\"CD_TIPO_ELEICAO\")==2) & \n",
    "                (pl.col(\"NR_TURNO\")==1) & (pl.col(\"CD_CARGO\")!=25) &\n",
    "                (pl.col(\"TP_ABRANGENCIA\").is_in([\"E\",\"F\"]))\n",
    "            )\n",
    "            .select(pl.col(\"ANO_ELEICAO\"),\n",
    "                pl.col(\"TP_ABRANGENCIA\"), pl.col(\"SG_UF\"), pl.col(\"SG_UE\"), pl.col(\"NM_UE\"), pl.col(\"CD_MUNICIPIO\")\n",
    "                , pl.col(\"NM_MUNICIPIO\"), pl.col(\"NR_ZONA\"), pl.col(\"CD_CARGO\"), pl.col(\"DS_CARGO\"), pl.col(\"NR_PARTIDO\")\n",
    "                , pl.col(\"SG_PARTIDO\"), pl.col(\"NM_PARTIDO\"), pl.col(\"QT_VOTOS_NOMINAIS_CONVR_LEG\")\n",
    "                , pl.col(\"QT_TOTAL_VOTOS_LEG_VALIDOS\"), pl.col(\"QT_VOTOS_NOMINAIS_VALIDOS\")\n",
    "            )\n",
    "    )"
   ]
  },
  {
   "cell_type": "code",
   "execution_count": null,
   "id": "87ee5474-a241-496f-9a43-0a56e9323a45",
   "metadata": {},
   "outputs": [],
   "source": [
    "#filtra somente informações de primeiro turno de 2018 e 2022\n",
    "df_poll_18_filtered = filter_poll(df_eleicoes_2018, 2018)\n",
    "df_poll_22_filtered = filter_poll(df_eleicoes_2022, 2022)"
   ]
  },
  {
   "cell_type": "code",
   "execution_count": null,
   "id": "1b8aaa2e-657d-4c3f-a09c-ac7ce7a1225a",
   "metadata": {},
   "outputs": [],
   "source": [
    "df_poll_22_filtered"
   ]
  },
  {
   "cell_type": "markdown",
   "id": "6bbbe159-9f3b-48ad-b13e-5083b20ce53d",
   "metadata": {},
   "source": [
    "_Os datasets das eleições estão apenas com os campos necessários e registros de primeiro turno._"
   ]
  },
  {
   "cell_type": "markdown",
   "id": "f01171f8-7039-47c6-bd99-0c33c78ee6c5",
   "metadata": {},
   "source": [
    "#### Registros duplicados"
   ]
  },
  {
   "cell_type": "code",
   "execution_count": null,
   "id": "f6e667fc-c5d4-4654-80c6-3534ed6d4388",
   "metadata": {},
   "outputs": [],
   "source": [
    "print(f\"Total de registros duplicados em 2018: {df_poll_18_filtered.is_duplicated().sum()}\")\n",
    "print(f\"Total de registros duplicados em 2022: {df_poll_22_filtered.is_duplicated().sum()}\")"
   ]
  },
  {
   "cell_type": "markdown",
   "id": "06c01016-8719-49e5-9ce8-376f79d1e1ff",
   "metadata": {},
   "source": [
    "_Nenhum registro duplicado dos dois datasets._ "
   ]
  },
  {
   "cell_type": "markdown",
   "id": "32fd7945-fa11-49f8-b1c1-e3cdea13ac55",
   "metadata": {},
   "source": [
    "#### Valores nulos"
   ]
  },
  {
   "cell_type": "code",
   "execution_count": null,
   "id": "ddc0637f-8cf6-451e-a6c8-7c99023a8b91",
   "metadata": {},
   "outputs": [],
   "source": [
    "df_poll_18_filtered.select(pl.all().is_null().sum()).to_dicts()[0]"
   ]
  },
  {
   "cell_type": "code",
   "execution_count": null,
   "id": "cc8b49da-8e4a-4b08-8485-a4b689734c4d",
   "metadata": {},
   "outputs": [],
   "source": [
    "#df_poll_22_filtered.null_count()"
   ]
  },
  {
   "cell_type": "code",
   "execution_count": null,
   "id": "a92b9b42-725a-488d-bbc2-145991f2cd01",
   "metadata": {},
   "outputs": [],
   "source": [
    "df_poll_22_filtered.select(pl.all().is_null().sum()).to_dicts()[0]"
   ]
  },
  {
   "cell_type": "markdown",
   "id": "8d22d7ac-2862-429e-8cdc-4224889b483d",
   "metadata": {},
   "source": [
    "_Pode-se ver que não há valores nulos nos datasets_"
   ]
  },
  {
   "cell_type": "markdown",
   "id": "2816b069-0242-431c-a095-66a7b04f6878",
   "metadata": {},
   "source": [
    "#### Tipos dos dados das eleições"
   ]
  },
  {
   "cell_type": "code",
   "execution_count": null,
   "id": "1ed35dc4-b6dd-4fc3-ab09-9f51154b31ba",
   "metadata": {},
   "outputs": [],
   "source": [
    "[(column, df_poll_18_filtered.get_column(column).dtype) for column in df_poll_18_filtered.columns]"
   ]
  },
  {
   "cell_type": "code",
   "execution_count": null,
   "id": "a53baec0-ce99-4d2a-b92d-0c57d880cbb2",
   "metadata": {},
   "outputs": [],
   "source": [
    "[(column, df_poll_22_filtered.get_column(column).dtype) for column in df_poll_22_filtered.columns]"
   ]
  },
  {
   "cell_type": "markdown",
   "id": "0984a611-da9f-4758-9db5-fc35fbaccb2d",
   "metadata": {},
   "source": [
    "_Os tipos de dados parecem conforme o esperado._"
   ]
  },
  {
   "cell_type": "markdown",
   "id": "dba49429-5c59-4160-a206-4e35f220284a",
   "metadata": {},
   "source": [
    "#### Somatário de votos válidos por partido e zona"
   ]
  },
  {
   "cell_type": "markdown",
   "id": "1b65e627-3c7d-4e43-8b5e-e8a91fc6cdbf",
   "metadata": {},
   "source": [
    "Todos os campos de de quantidade de votos podem ser somados pois são quantidade de votos válidos."
   ]
  },
  {
   "cell_type": "code",
   "execution_count": null,
   "id": "69bc354a-3280-4420-bfe3-9f5cdbbd821d",
   "metadata": {},
   "outputs": [],
   "source": [
    "'''\n",
    "    Somas as três colunas com votos válidos e, depois, reve-as do dataset\n",
    "'''\n",
    "def sum_suffrage(df:pl.DataFrame)->pl.DataFrame:\n",
    "    return (df\n",
    "        .with_columns(\n",
    "            QT_VOTOS_VALIDOS = pl.sum_horizontal(\"QT_VOTOS_NOMINAIS_CONVR_LEG\", \"QT_TOTAL_VOTOS_LEG_VALIDOS\", \"QT_VOTOS_NOMINAIS_VALIDOS\")\n",
    "        ).drop(\"QT_VOTOS_NOMINAIS_CONVR_LEG\", \"QT_TOTAL_VOTOS_LEG_VALIDOS\", \"QT_VOTOS_NOMINAIS_VALIDOS\")\n",
    "    )"
   ]
  },
  {
   "cell_type": "code",
   "execution_count": null,
   "id": "3f9dc252-ad36-48ce-ad58-3a9f9d330698",
   "metadata": {},
   "outputs": [],
   "source": [
    "df_poll_18_filtered = sum_suffrage(df_poll_18_filtered)"
   ]
  },
  {
   "cell_type": "code",
   "execution_count": null,
   "id": "22c5e591-f2b8-4ad4-af25-50720bfa241f",
   "metadata": {},
   "outputs": [],
   "source": [
    "df_poll_22_filtered = sum_suffrage(df_poll_22_filtered)"
   ]
  },
  {
   "cell_type": "code",
   "execution_count": null,
   "id": "5019503c-6e40-448f-83f1-7b2024050ffd",
   "metadata": {},
   "outputs": [],
   "source": [
    "print(df_poll_18_filtered)"
   ]
  },
  {
   "cell_type": "code",
   "execution_count": null,
   "id": "2287215b-0e35-48f3-9402-5bceb93bc5a3",
   "metadata": {},
   "outputs": [],
   "source": [
    "print(df_poll_22_filtered)"
   ]
  },
  {
   "cell_type": "markdown",
   "id": "e4394af1-60d2-42d8-b8a3-0ba44b675757",
   "metadata": {},
   "source": [
    "_Agora, a feature 'QT_VOTOS_VALIDOS' é somando todos os votos válidos por partido e zona eleitoral._"
   ]
  },
  {
   "cell_type": "markdown",
   "id": "cb6d4516-8abc-485e-a6ba-c80396eb7fa6",
   "metadata": {},
   "source": [
    "#### Guardar os datasets da eleições com os tratamentos até aqui"
   ]
  },
  {
   "cell_type": "code",
   "execution_count": null,
   "id": "9a8e876f-7dd7-4b49-980c-15b48c1743ac",
   "metadata": {},
   "outputs": [],
   "source": [
    "#salvar o processamento até aqui\n",
    "df_poll_18_filtered.write_parquet(os.path.join(root, \"eleicao18_turno_01.parquet\"))\n",
    "df_poll_22_filtered.write_parquet(os.path.join(root, \"eleicao22_turno_01.parquet\"))"
   ]
  },
  {
   "cell_type": "markdown",
   "id": "55c0aae5-de4d-4079-a96b-f9b84d39a9df",
   "metadata": {},
   "source": [
    "#### Criar integração entre partidos que mudaram de nome ou se aglutinaram ou foram absorvidos por outros"
   ]
  },
  {
   "cell_type": "markdown",
   "id": "85bec948-8ca2-4da4-8260-c95dc453493c",
   "metadata": {},
   "source": [
    "Para 2018"
   ]
  },
  {
   "cell_type": "code",
   "execution_count": null,
   "id": "316f1360-8ceb-4de1-92fb-7d2cc4e216d8",
   "metadata": {},
   "outputs": [],
   "source": [
    "set(df_poll_18_filtered.get_column(\"SG_PARTIDO\")).difference(set(df_partidos.get_column(\"SG_PARTIDO\")))"
   ]
  },
  {
   "cell_type": "markdown",
   "id": "5db9e381-fb9b-44c3-8d8b-fe34316f8248",
   "metadata": {},
   "source": [
    "_Alguns partidos da aleição de 2018 não estão na lista de partidos carregada, cada partido destes será analisado individualmente para classificação ideológica._\n",
    "\n",
    "* **DEM** _fundiu-se com o **PSL** e gerou o **União Brasil**_;\n",
    "* **PATRI**, _também conhecido como Patriota, fundiu-se com o **PTB** e gerou o **PRD**_;\n",
    "* **PC do B** _está na lista porque a sigla no dataset de partidos está **PCdoB**_;\n",
    "* **PHS** _foi incorporado ao **PODE(Podemos)**_;\n",
    "* **PPL** _foi extinto em 2019_;\n",
    "* **PPS** _virou **CIDADANIA** em 2019_;\n",
    "* **PR** _virou **PL** em 2019_;\n",
    "* **PRB** _virou **REPUBLICANOS** em 2019_;\n",
    "* **PROS** _foi incorporado ao **SOLIDARIEDADE** em 2022_;\n",
    "* **PRP** _foi incorporado ao **PATRIOTA** que se juntou ao **PTB** para formar o **PRD**_;\n",
    "* **PSC** _foi incorporado ao **PODE(Podemos)** em 2022_;\n",
    "* **PSL** _fundiu-se com o **DEM** e gerou o **União Brasil**_;\n",
    "* **PTB** _fundiu-se com o **PATRIOTA** e gerou o **PRD**_;\n",
    "* **PTC** _virou o **Agir** em 2022._"
   ]
  },
  {
   "cell_type": "markdown",
   "id": "d52c976b-aef2-4303-80e1-dd65e72eb276",
   "metadata": {},
   "source": [
    "_Função para criação da coluna de integração entre partidos_"
   ]
  },
  {
   "cell_type": "code",
   "execution_count": null,
   "id": "fd154e1c-7e70-425b-b97d-b076c5f247b4",
   "metadata": {},
   "outputs": [],
   "source": [
    "def create_integ_col(df:pl.DataFrame)-> pl.DataFrame:\n",
    "    return (\n",
    "        df\n",
    "        .with_columns(\n",
    "            SIGLA_2022 = pl.when(pl.col(\"SG_PARTIDO\").is_in([\"DEM\",\"PSL\"])).then(pl.lit(\"UNIÃO\")).otherwise(\n",
    "                                pl.when(pl.col(\"SG_PARTIDO\").is_in([\"PATRI\", \"PATRIOTA\", \"PTB\", \"PRP\"])).then(pl.lit(\"PRD\")).otherwise(\n",
    "                                    pl.when(pl.col(\"SG_PARTIDO\")==\"PC do B\").then(pl.lit(\"PCdoB\")).otherwise(\n",
    "                                        pl.when(pl.col(\"SG_PARTIDO\").is_in([\"PHS\",\"PSC\"])).then(pl.lit(\"PODE\")).otherwise(\n",
    "                                            pl.when(pl.col(\"SG_PARTIDO\")==\"PPS\").then(pl.lit(\"CIDADANIA\")).otherwise(\n",
    "                                                pl.when(pl.col(\"SG_PARTIDO\")==\"PR\").then(pl.lit(\"PL\")).otherwise(\n",
    "                                                    pl.when(pl.col(\"SG_PARTIDO\")==\"PRB\").then(pl.lit(\"REPUBLICANOS\")).otherwise(\n",
    "                                                        pl.when(pl.col(\"SG_PARTIDO\")==\"PROS\").then(pl.lit(\"SOLIDARIEDADE\")).otherwise(\n",
    "                                                            pl.when(pl.col(\"SG_PARTIDO\")==\"PTC\").then(pl.lit(\"AGIR\")).otherwise(\n",
    "                                                                pl.when(pl.col(\"SG_PARTIDO\")==\"PMN\").then(pl.lit(\"MOBILIZA\")).otherwise(\n",
    "                                                                    pl.col(\"SG_PARTIDO\")\n",
    "                                                                )\n",
    "                                                            )\n",
    "                                                        )\n",
    "                                                    )\n",
    "                                                )\n",
    "                                            )\n",
    "                                        )\n",
    "                                    )\n",
    "                                )\n",
    "                            )\n",
    "                        )\n",
    "    )"
   ]
  },
  {
   "cell_type": "code",
   "execution_count": null,
   "id": "2484d8d9-023f-48ae-b044-463045f3d7f4",
   "metadata": {},
   "outputs": [],
   "source": [
    "df_poll_18_filtered = create_integ_col(df_poll_18_filtered)"
   ]
  },
  {
   "cell_type": "code",
   "execution_count": null,
   "id": "438b3671-3e35-4354-9c72-684a6c524fa9",
   "metadata": {},
   "outputs": [],
   "source": [
    "print(df_poll_18_filtered)"
   ]
  },
  {
   "cell_type": "code",
   "execution_count": null,
   "id": "98c6a73d-8931-4fb8-9141-1fe0065d936c",
   "metadata": {},
   "outputs": [],
   "source": [
    "set(df_poll_18_filtered.get_column(\"SIGLA_2022\")).difference(set(df_partidos.get_column(\"SG_PARTIDO\")))"
   ]
  },
  {
   "cell_type": "markdown",
   "id": "86d01ccc-4a2c-4aeb-958a-a8471cc78066",
   "metadata": {},
   "source": [
    "_Integração entre legendas que mudaram ao longo tempo executada para eleições de **2018**._\n",
    "\n",
    "_Todos os partidos na coluna **_SIGLA_2022_** estão na base dos partidos._"
   ]
  },
  {
   "cell_type": "markdown",
   "id": "beb20492-64e5-4b2c-9f4e-0efaca287d48",
   "metadata": {},
   "source": [
    "Para 2022"
   ]
  },
  {
   "cell_type": "code",
   "execution_count": null,
   "id": "ed9f8e89-4c6d-431a-979e-38d998a856ee",
   "metadata": {},
   "outputs": [],
   "source": [
    "set(df_poll_22_filtered.get_column(\"SG_PARTIDO\")).difference(set(df_partidos.get_column(\"SG_PARTIDO\")))"
   ]
  },
  {
   "cell_type": "markdown",
   "id": "531b2e65-dd6d-44b1-a7ae-3dfaaa918340",
   "metadata": {},
   "source": [
    "_Em 2022, a única regra nova aplicada será transformar o **PATRIOTA** em **PRD**._"
   ]
  },
  {
   "cell_type": "code",
   "execution_count": null,
   "id": "b8dd7066-2744-468e-a06d-652b97c309f0",
   "metadata": {},
   "outputs": [],
   "source": [
    "df_poll_22_filtered = create_integ_col(df_poll_22_filtered)"
   ]
  },
  {
   "cell_type": "code",
   "execution_count": null,
   "id": "d79dcbcd-979b-4bb8-8df2-12e03350763e",
   "metadata": {},
   "outputs": [],
   "source": [
    "print(df_poll_22_filtered.head())"
   ]
  },
  {
   "cell_type": "code",
   "execution_count": null,
   "id": "4d330a08-e384-42b6-89a3-ed8c759a84b5",
   "metadata": {},
   "outputs": [],
   "source": [
    "set(df_poll_22_filtered.get_column(\"SIGLA_2022\")).difference(set(df_partidos.get_column(\"SG_PARTIDO\")))"
   ]
  },
  {
   "cell_type": "markdown",
   "id": "9725557b-10bc-4e8b-866c-69cc761d7307",
   "metadata": {},
   "source": [
    "_Integração entre legendas que mudaram ao longo tempo executada para eleições de **2022**._\n",
    "\n",
    "_Todos os partidos na coluna **_SIGLA_2022_** estão na base dos partidos._"
   ]
  },
  {
   "cell_type": "markdown",
   "id": "45c152a0-f41b-4df3-a7b4-69db015aacd7",
   "metadata": {},
   "source": [
    "#### Guardar os datasets da eleições com os tratamentos até aqui"
   ]
  },
  {
   "cell_type": "code",
   "execution_count": null,
   "id": "64069d8a-9536-4297-8be9-402707cc5562",
   "metadata": {},
   "outputs": [],
   "source": [
    "#salvar o processamento até aqui\n",
    "df_poll_18_filtered.write_parquet(os.path.join(root, \"eleicao18_turno_01.parquet\"))\n",
    "df_poll_22_filtered.write_parquet(os.path.join(root, \"eleicao22_turno_01.parquet\"))"
   ]
  },
  {
   "cell_type": "markdown",
   "id": "04f8bf3d-910b-49ee-9238-9d65b3c55590",
   "metadata": {},
   "source": [
    "#### Adição do posicionamento ideológico nos datasets das eleições"
   ]
  },
  {
   "cell_type": "code",
   "execution_count": null,
   "id": "7db101ff-91a5-4eb2-bbfb-c1ee75f5d828",
   "metadata": {},
   "outputs": [],
   "source": [
    "print(df_poll_18_filtered.shape)\n",
    "print(df_poll_22_filtered.shape)"
   ]
  },
  {
   "cell_type": "code",
   "execution_count": null,
   "id": "665746fe-8a94-449e-ac35-1a9204d0896a",
   "metadata": {},
   "outputs": [],
   "source": [
    "# Precisamos apenas das 3 colunas\n",
    "df_parties = df_partidos.select(pl.col(\"SG_PARTIDO\"), pl.col(\"POSIC_IDEOLOGICO\"), pl.col(\"SG_POSIC_IDEOLOGICO\"))"
   ]
  },
  {
   "cell_type": "code",
   "execution_count": null,
   "id": "e25a0a83-c216-4cf8-b8e5-8055c87bcbb6",
   "metadata": {},
   "outputs": [],
   "source": [
    "# Este join garante a associação entre o posicionamento político do partido e o voto\n",
    "df_poll_18_filtered = (df_poll_18_filtered\n",
    "    .join(df_parties, left_on=\"SIGLA_2022\", right_on=\"SG_PARTIDO\", how=\"inner\")\n",
    ")"
   ]
  },
  {
   "cell_type": "code",
   "execution_count": null,
   "id": "a0b60e40-3160-4ee8-9696-476bff93c109",
   "metadata": {},
   "outputs": [],
   "source": [
    "df_poll_18_filtered.shape"
   ]
  },
  {
   "cell_type": "code",
   "execution_count": null,
   "id": "9411e76e-c1c8-4806-bd20-2a8bd551788d",
   "metadata": {},
   "outputs": [],
   "source": [
    "with pl.Config() as cfg:\n",
    "    cfg.set_tbl_cols(10)\n",
    "    print(df_poll_18_filtered)"
   ]
  },
  {
   "cell_type": "markdown",
   "id": "e802ed74-bdd0-4b54-909a-1ddb35f853b8",
   "metadata": {},
   "source": [
    "_Duas novas colunas foram adicionadas: POSIC_IDEOLOGICO e SG_POSIC_IDEOLOGICO._"
   ]
  },
  {
   "cell_type": "code",
   "execution_count": null,
   "id": "fdc34cf4-6427-4166-8dbc-854325cce242",
   "metadata": {},
   "outputs": [],
   "source": [
    "# Este join garante a associação entre o posicionamento político do partido e o voto\n",
    "df_poll_22_filtered = (df_poll_22_filtered\n",
    "    .join(df_parties, left_on=\"SIGLA_2022\", right_on=\"SG_PARTIDO\", how=\"inner\")\n",
    ")"
   ]
  },
  {
   "cell_type": "code",
   "execution_count": null,
   "id": "7e6e5a8f-5e77-4311-b8eb-eb3df75e044e",
   "metadata": {},
   "outputs": [],
   "source": [
    "df_poll_22_filtered.shape"
   ]
  },
  {
   "cell_type": "code",
   "execution_count": null,
   "id": "38d5dabc-cae8-4ace-af00-6a8f57a77051",
   "metadata": {},
   "outputs": [],
   "source": [
    "with pl.Config() as cfg:\n",
    "    cfg.set_tbl_cols(9)\n",
    "    print(df_poll_22_filtered)"
   ]
  },
  {
   "cell_type": "markdown",
   "id": "671eb661-71d7-4d0f-a116-58ae8715ad2b",
   "metadata": {},
   "source": [
    "_Número de registros não mudou, logo, os inner join foram executados com sucesso._"
   ]
  },
  {
   "cell_type": "markdown",
   "id": "b46a89de-f1b8-4bf0-bbc7-e185bcf81a04",
   "metadata": {},
   "source": [
    "#### Guardar os datasets da eleições com os tratamentos até aqui"
   ]
  },
  {
   "cell_type": "code",
   "execution_count": null,
   "id": "5daad7b9-a8c3-4679-b55c-943ec61f998c",
   "metadata": {},
   "outputs": [],
   "source": [
    "#salvar o processamento até aqui\n",
    "df_poll_18_filtered.write_parquet(os.path.join(root, \"eleicao18_turno_01.parquet\"))\n",
    "df_poll_22_filtered.write_parquet(os.path.join(root, \"eleicao22_turno_01.parquet\"))"
   ]
  },
  {
   "cell_type": "markdown",
   "id": "5e093997-3964-4637-8832-9b76c30ad38d",
   "metadata": {},
   "source": [
    "### 2.2 Regiões\n",
    "\n",
    "Carga do dataset das reigões e estados\n",
    "\n",
    "---"
   ]
  },
  {
   "cell_type": "code",
   "execution_count": null,
   "id": "99447615-0392-4ac3-a70e-158e4fd06d33",
   "metadata": {},
   "outputs": [],
   "source": [
    "df_regioes:pl.DataFrame = sdt_f.load_parquet(os.path.join(root, regions))\n",
    "df_regioes.shape"
   ]
  },
  {
   "cell_type": "code",
   "execution_count": null,
   "id": "d2ea9d4b-4df3-43e6-9777-52c357b10ffd",
   "metadata": {},
   "outputs": [],
   "source": [
    "print(df_regioes)"
   ]
  },
  {
   "cell_type": "markdown",
   "id": "64b4c21e-d7d0-40ff-ac7a-b58e9f9a1f1d",
   "metadata": {},
   "source": [
    "#### Registros duplicados"
   ]
  },
  {
   "cell_type": "code",
   "execution_count": null,
   "id": "0c7f5171-5036-4800-bf5d-5c3e316c62b0",
   "metadata": {},
   "outputs": [],
   "source": [
    "df_regioes.is_duplicated().sum()"
   ]
  },
  {
   "cell_type": "markdown",
   "id": "63d05011-df5f-43b3-9caa-8431f86521f4",
   "metadata": {},
   "source": [
    "_Sem registros duplicados._"
   ]
  },
  {
   "cell_type": "markdown",
   "id": "fd62949d-c1ee-4fb9-92bb-233f45785ee4",
   "metadata": {},
   "source": [
    "#### Valores nulos"
   ]
  },
  {
   "cell_type": "code",
   "execution_count": null,
   "id": "84ea6f5d-0789-4df4-88a1-fc863988de59",
   "metadata": {},
   "outputs": [],
   "source": [
    "df_regioes.select(pl.all().is_null().sum()).to_dicts()[0]"
   ]
  },
  {
   "cell_type": "markdown",
   "id": "b05d8e02-f8d9-4d03-a0ba-28be9ece1c5b",
   "metadata": {},
   "source": [
    "_Nenhum valor nulo._"
   ]
  },
  {
   "cell_type": "markdown",
   "id": "18916057-6c68-4b91-aaba-1fca41241c9e",
   "metadata": {},
   "source": [
    "#### Adicionar região \"exterior\" às regiões"
   ]
  },
  {
   "cell_type": "code",
   "execution_count": null,
   "id": "953bbafd-7b56-4aef-ad72-19410d678d42",
   "metadata": {},
   "outputs": [],
   "source": [
    "df_regioes = pl.concat([df_regioes, pl.DataFrame([{\"UF\":\"ZZ\", \"SG_REGIAO\":\"ZZ\", \"NM_REGIAO\":\"Exterior\"}])])"
   ]
  },
  {
   "cell_type": "code",
   "execution_count": null,
   "id": "2ef79a90-92cf-406b-8d70-a6b32285bd9d",
   "metadata": {},
   "outputs": [],
   "source": [
    "print(df_regioes)"
   ]
  },
  {
   "cell_type": "markdown",
   "id": "ee55c712-082d-4384-a9fd-6af2f10943bf",
   "metadata": {},
   "source": [
    "#### Juntar votação com as regiões"
   ]
  },
  {
   "cell_type": "code",
   "execution_count": null,
   "id": "9fc211a0-95dd-4232-8c4c-97e72680f8d5",
   "metadata": {},
   "outputs": [],
   "source": [
    "print(df_poll_18_filtered.shape)\n",
    "print(df_poll_22_filtered.shape)"
   ]
  },
  {
   "cell_type": "code",
   "execution_count": null,
   "id": "912795fc-68f2-4917-a47b-d27494e90b8d",
   "metadata": {},
   "outputs": [],
   "source": [
    "df_poll_18_filtered = df_poll_18_filtered.join(df_regioes, left_on=\"SG_UF\", right_on=\"UF\")\n",
    "df_poll_22_filtered = df_poll_22_filtered.join(df_regioes, left_on=\"SG_UF\", right_on=\"UF\")"
   ]
  },
  {
   "cell_type": "code",
   "execution_count": null,
   "id": "f839cf41-d37a-4580-9ce0-42f62f0c1b4f",
   "metadata": {},
   "outputs": [],
   "source": [
    "print(df_poll_18_filtered)\n",
    "print(df_poll_22_filtered)"
   ]
  },
  {
   "cell_type": "markdown",
   "id": "df458c12-6d00-4259-9960-6d8013a18daf",
   "metadata": {},
   "source": [
    "_O número de registros não mudou nos dois datasets, join executado com sucesso._"
   ]
  },
  {
   "cell_type": "code",
   "execution_count": null,
   "id": "9519ffd9-62ff-4e86-a25e-9803602f94c5",
   "metadata": {},
   "outputs": [],
   "source": [
    "#salvar o processamento até aqui\n",
    "df_poll_18_filtered.write_parquet(os.path.join(root, \"eleicao18_turno_01.parquet\"))\n",
    "df_poll_22_filtered.write_parquet(os.path.join(root, \"eleicao22_turno_01.parquet\"))"
   ]
  },
  {
   "cell_type": "markdown",
   "id": "5c17daf5-0555-493f-9428-fb44d9141bff",
   "metadata": {},
   "source": [
    "### 2.3 Municípios\n",
    "\n",
    "Carga dos dois datasets municípios. Precisa-se dos dois, pois a tabela do TSE não tem a localização geográfica enquanto esta informação está na tabela do IBGE.\n",
    "\n",
    "---"
   ]
  },
  {
   "cell_type": "code",
   "execution_count": null,
   "id": "cb463f58-0eda-4b9d-89e9-8df59c187457",
   "metadata": {},
   "outputs": [],
   "source": [
    "#municípios do igbe\n",
    "df_munic_ibge:pl.DataFrame = sdt_f.load_parquet(os.path.join(root, ibge_cities))\n",
    "df_munic_ibge.shape"
   ]
  },
  {
   "cell_type": "code",
   "execution_count": null,
   "id": "e4153cc8-cc6f-45ff-956b-d19b3624560e",
   "metadata": {},
   "outputs": [],
   "source": [
    "with pl.Config() as cfg:\n",
    "    cfg.set_tbl_cols(9)\n",
    "    print(df_munic_ibge)"
   ]
  },
  {
   "cell_type": "code",
   "execution_count": null,
   "id": "06379e49-9489-45cc-87f1-54ff85b523ee",
   "metadata": {},
   "outputs": [],
   "source": [
    "df_munic_tse:pl.DataFrame = sdt_f.load_parquet(os.path.join(root, tse_cities))\n",
    "df_munic_tse.shape"
   ]
  },
  {
   "cell_type": "code",
   "execution_count": null,
   "id": "a258fdf0-5ef6-4a3b-b5d6-4fdee4718853",
   "metadata": {},
   "outputs": [],
   "source": [
    "with pl.Config() as cfg:\n",
    "    cfg.set_tbl_cols(9)\n",
    "    print(df_munic_tse)"
   ]
  },
  {
   "cell_type": "markdown",
   "id": "665c450e-9cf3-4ea5-a4a2-f2220f6bd119",
   "metadata": {},
   "source": [
    "_O join entre as tabelas será feito \"codigo_ibge\"._\n",
    "\n",
    "_A tabela final de municípios terá os campos:_\n",
    "\n",
    "- _codigo_tse pois este campo será feito o join com as tabelas de eleições;_\n",
    "- _uf pois será usado para pegar a região e estado de cada cidade;_\n",
    "- _capital;_\n",
    "- _nome;_\n",
    "- _latitude e longitude para plotarmos em mapa;_\n",
    "- _ddd pois pode ser útil para um divisão dentro dos estados._"
   ]
  },
  {
   "cell_type": "code",
   "execution_count": null,
   "id": "cda134a6-bbe6-45be-8ab1-f034ebd25189",
   "metadata": {},
   "outputs": [],
   "source": [
    "df_municipios = (df_munic_tse\n",
    "    .join(df_munic_ibge, on=\"codigo_ibge\", how=\"inner\")\n",
    "    .select(pl.col(\"codigo_tse\"), pl.col(\"codigo_ibge\"), pl.col(\"nome\"), pl.col(\"uf\"), pl.col(\"capital\"), pl.col(\"latitude\"), pl.col(\"longitude\"), pl.col(\"ddd\"))\n",
    ")"
   ]
  },
  {
   "cell_type": "code",
   "execution_count": null,
   "id": "92996968-f266-4503-9c0d-07836f9507f9",
   "metadata": {},
   "outputs": [],
   "source": [
    "print(df_municipios)"
   ]
  },
  {
   "cell_type": "markdown",
   "id": "16c78038-53dd-4787-bbbf-218b73e07c9d",
   "metadata": {},
   "source": [
    "#### Registros duplicados"
   ]
  },
  {
   "cell_type": "code",
   "execution_count": null,
   "id": "46f7a04d-647c-4601-9a56-5784f167baca",
   "metadata": {},
   "outputs": [],
   "source": [
    "df_municipios.is_duplicated().sum()"
   ]
  },
  {
   "cell_type": "markdown",
   "id": "08b273ca-1a50-4d45-bcb8-876ceea44ea4",
   "metadata": {},
   "source": [
    "_Não há valores duplicados. Isto é normal pois trata-se de tabelas oficias de órgãos governamentais._"
   ]
  },
  {
   "cell_type": "markdown",
   "id": "9615566b-c04a-42b9-86bf-194272945aee",
   "metadata": {},
   "source": [
    "#### Valores nulos"
   ]
  },
  {
   "cell_type": "code",
   "execution_count": null,
   "id": "a57c709b-5f6b-4288-b8a9-8b5aa711ec80",
   "metadata": {},
   "outputs": [],
   "source": [
    "df_municipios.select(pl.all().is_null().sum()).to_dicts()[0]"
   ]
  },
  {
   "cell_type": "markdown",
   "id": "9339c5c0-0065-4b48-a008-19d36b0b4895",
   "metadata": {},
   "source": [
    "#### Guardar o dataset dos municípios"
   ]
  },
  {
   "cell_type": "code",
   "execution_count": null,
   "id": "51837652-f27d-4bc1-aa2a-f1251f015437",
   "metadata": {},
   "outputs": [],
   "source": [
    "df_municipios.write_parquet(os.path.join(root, \"municipios.parquet\"))"
   ]
  },
  {
   "cell_type": "markdown",
   "id": "71e4e5bb-ae63-4f24-9e27-551b48369f93",
   "metadata": {},
   "source": [
    "_Sem valores nulos._"
   ]
  },
  {
   "cell_type": "markdown",
   "id": "938c74d1-21bd-4433-91cf-167e6ec5f352",
   "metadata": {},
   "source": [
    "#### Salvar um arquivo com as capitais"
   ]
  },
  {
   "cell_type": "code",
   "execution_count": null,
   "id": "fe9dd86d-83db-4be9-a1c3-2b1392fba6c8",
   "metadata": {},
   "outputs": [],
   "source": [
    "# filtrando apenas as capitais\n",
    "df_capitais = df_municipios.filter(pl.col(\"capital\")==1)"
   ]
  },
  {
   "cell_type": "code",
   "execution_count": null,
   "id": "e20b2ac1-34db-4366-8456-e6de7475a49f",
   "metadata": {},
   "outputs": [],
   "source": [
    "print(df_capitais)"
   ]
  },
  {
   "cell_type": "markdown",
   "id": "9b2acd1b-c542-43a1-abc7-263115e68438",
   "metadata": {},
   "source": [
    "_Apenas 27 capitais, como seria esperado._"
   ]
  },
  {
   "cell_type": "code",
   "execution_count": null,
   "id": "7ed8a485-79b5-415d-bd24-c236ccc6f458",
   "metadata": {},
   "outputs": [],
   "source": [
    "df_capitais.write_parquet(os.path.join(root, \"capitais.parquet\"))"
   ]
  },
  {
   "cell_type": "markdown",
   "id": "973c2150-43c5-4268-9a46-3ca0b5ebc9fc",
   "metadata": {},
   "source": [
    "Continua com a análise exploratória em 02_Eleições_Analise_Exploratoria."
   ]
  },
  {
   "cell_type": "markdown",
   "id": "9a2fe13f-ee30-4016-b1d2-c62fd25552e7",
   "metadata": {},
   "source": [
    "## 3 Análise Exploratória\n",
    "\n",
    "Entender e explorar os dados por meio de técnicas estatísticas e visualização. Tendências, padrões, relações e insights iniciais que podem orientar as próximas etapas do processo.\n",
    "\n",
    "https://ebaconline.com.br/blog/analise-exploratoria-de-dados-o-que-e\n",
    "\n",
    "---"
   ]
  },
  {
   "cell_type": "markdown",
   "id": "8f3ae930-283f-458a-9120-e03a0999f489",
   "metadata": {},
   "source": [
    "#### Cria uma cor para cada posicionamento ideológico"
   ]
  },
  {
   "cell_type": "code",
   "execution_count": null,
   "id": "44c3e4a5-0ccc-4b8a-9cd7-459634e94b37",
   "metadata": {},
   "outputs": [],
   "source": [
    "df_colors = (df_partidos\n",
    "    .select(pl.col(\"SG_POSIC_IDEOLOGICO\"), pl.col(\"POSIC_IDEOLOGICO\"))\n",
    "    .unique() \n",
    "    .with_columns(\n",
    "        pl.col(\"POSIC_IDEOLOGICO\").str.to_titlecase(),\n",
    "        cor = pl.when(pl.col(\"SG_POSIC_IDEOLOGICO\")==\"EE\").then(pl.lit(\"#7F0000\")).otherwise(\n",
    "                pl.when(pl.col(\"SG_POSIC_IDEOLOGICO\")==\"E\").then(pl.lit(\"#FF0000\")).otherwise(\n",
    "                    pl.when(pl.col(\"SG_POSIC_IDEOLOGICO\")==\"CE\").then(pl.lit(\"#C54B53\")).otherwise(\n",
    "                        pl.when(pl.col(\"SG_POSIC_IDEOLOGICO\")==\"C\").then(pl.lit(\"#FFD966\")).otherwise(\n",
    "                            pl.when(pl.col(\"SG_POSIC_IDEOLOGICO\")==\"CD\").then(pl.lit(\"#97A3FF\")).otherwise(\n",
    "                                pl.when(pl.col(\"SG_POSIC_IDEOLOGICO\")==\"D\").then(pl.lit(\"#262DDA\")).otherwise(\n",
    "                                    pl.when(pl.col(\"SG_POSIC_IDEOLOGICO\")==\"ED\").then(pl.lit(\"#030886\"))\n",
    "                                )\n",
    "                            )\n",
    "                        )\n",
    "                    )\n",
    "                )\n",
    "            )\n",
    "    )\n",
    ")"
   ]
  },
  {
   "cell_type": "code",
   "execution_count": null,
   "id": "5c9954b8-2f70-418c-9f97-aaad2cbe988f",
   "metadata": {},
   "outputs": [],
   "source": [
    "print(df_colors)"
   ]
  },
  {
   "cell_type": "code",
   "execution_count": null,
   "id": "9933230f-5ef1-42db-9cce-e2187cfb919e",
   "metadata": {},
   "outputs": [],
   "source": [
    "df_colors.write_parquet(os.path.join(root, \"cores_ideologicas.parquet\"))"
   ]
  },
  {
   "cell_type": "markdown",
   "id": "786eebbb-8ea2-4e14-9b9a-ae3caf29e3fe",
   "metadata": {},
   "source": [
    "#### Função de filtragem por cargos"
   ]
  },
  {
   "cell_type": "code",
   "execution_count": null,
   "id": "a53dff76-97fe-49b6-8107-ee5cd1923e56",
   "metadata": {},
   "outputs": [],
   "source": [
    "print(df_poll_22_filtered.head())"
   ]
  },
  {
   "cell_type": "code",
   "execution_count": null,
   "id": "59f0b7d4-5234-4c4b-b12c-40eca75b6da7",
   "metadata": {},
   "outputs": [],
   "source": [
    "'''\n",
    "    Filtra os dada de uma eleição pelo cargo político:\n",
    "    df:pl.DataFrame -> dataframe da eleição\n",
    "    posit_code:int -> código do cargo eleitoral\n",
    "        1 - Presidente\n",
    "        3 - Governador\n",
    "        5 - Senador\n",
    "        6 - Deputado Federal\n",
    "        7 - Deputado Estadual\n",
    "        8 - Deputado Distrital\n",
    "'''\n",
    "def filter_by_position(df:pl.DataFrame, posit_codes:list[int])->pl.DataFrame:\n",
    "    return (df\n",
    "        .filter(pl.col(\"CD_CARGO\").is_in(posit_codes))\n",
    "        .join(df_colors, on=\"SG_POSIC_IDEOLOGICO\", how=\"inner\")\n",
    "    )"
   ]
  },
  {
   "cell_type": "markdown",
   "id": "fe114713-3634-4e71-ac68-cf69d69cd67e",
   "metadata": {},
   "source": [
    "### 3.1 Análise da variação da votação por partidos e cargos entre 2018 e 2022\n",
    "\n",
    "---"
   ]
  },
  {
   "cell_type": "markdown",
   "id": "22745e5d-120a-4555-ba04-0dea0198827d",
   "metadata": {},
   "source": [
    "#### Partidos mais votados por cargo"
   ]
  },
  {
   "cell_type": "code",
   "execution_count": null,
   "id": "88fb327e-0404-4f1e-94c4-33620be0d32b",
   "metadata": {},
   "outputs": [],
   "source": [
    "'''\n",
    "   Apresenta um grouped bar chart para um cargo político comparando os 15 partidos que mais\n",
    "   conseguiram votos em 2022 com 2018.\n",
    "   df_2018:pl.DataFrame -> dados da eleição de 2018\n",
    "   df_2022:pl.DataFrame -> dados da eleição de 2022\n",
    "   position:int -> código do cargo eleitoral (1 Presidente, 3 Governador, 5 Senador, 6 Deputado Federal, 7 Deputado Estadual e 8 Deputado Distrital)\n",
    "   chart_title:str -> título do chart\n",
    "\n",
    "   Retorna um chart vega-altair   \n",
    "'''\n",
    "\n",
    "def grouped_bar_chart(df_2018:pl.DataFrame, df_2022:pl.DataFrame, position:list[int], chart_title:str, total_parties:int=5)->alt.vegalite.v5.api.Chart:\n",
    "    # soma todos os votos por partidos de 2018\n",
    "    df_tmp_18 = filter_by_position(df_2018, position)\n",
    "    \n",
    "    df_tmp_18 = (df_tmp_18\n",
    "        .group_by([\"ANO_ELEICAO\", \"SIGLA_2022\",\"SG_POSIC_IDEOLOGICO\"], maintain_order=True)\n",
    "        .agg(pl.col(\"QT_VOTOS_VALIDOS\").sum())\n",
    "        .join(df_colors, on=\"SG_POSIC_IDEOLOGICO\", how=\"inner\")\n",
    "    )\n",
    "\n",
    "    # soma todos os votos por partidos de 2022\n",
    "    df_tmp_22 = filter_by_position(df_2022, position)\n",
    "    \n",
    "    df_tmp_22 = (df_tmp_22\n",
    "        .group_by([\"ANO_ELEICAO\", \"SIGLA_2022\",\"SG_POSIC_IDEOLOGICO\"], maintain_order=True)\n",
    "        .agg(pl.col(\"QT_VOTOS_VALIDOS\").sum())\n",
    "        .join(df_colors, on=\"SG_POSIC_IDEOLOGICO\", how=\"inner\")\n",
    "    )\n",
    "\n",
    "    # concatena as votações de 22 e 18 para os cargos em position\n",
    "    df_tmp = pl.concat([df_tmp_22, df_tmp_18])\n",
    "\n",
    "    # os registros dos K partidos mais votados em 2018\n",
    "    top_k_22=df_tmp_22.top_k(total_parties, by=\"QT_VOTOS_VALIDOS\").select(pl.col(\"SIGLA_2022\",\"QT_VOTOS_VALIDOS\"))    \n",
    "\n",
    "    # faz join entre com os 15 partidos mais votados em 22 usando o campo QT_ORDER \n",
    "    # para ordenar o chart\n",
    "    df_tmp = (df_tmp\n",
    "        .join(top_k_22, on=\"SIGLA_2022\", how=\"inner\")\n",
    "        .with_columns(\n",
    "            QT_ORDER = pl.col(\"QT_VOTOS_VALIDOS_right\")\n",
    "        )\n",
    "        .drop(pl.col(\"QT_VOTOS_VALIDOS_right\"))              \n",
    "    )  \n",
    "\n",
    "    #plota o grouped bar chart\n",
    "    return alt.Chart(df_tmp).mark_bar().encode(\n",
    "        y = alt.Y('ANO_ELEICAO:O', \n",
    "            title=\"\",\n",
    "        ),\n",
    "        x = alt.X('QT_VOTOS_VALIDOS:Q', title=\"Votação\", axis=alt.Axis( labelAngle=-90 )),\n",
    "        color = alt.Color('ANO_ELEICAO:O',\n",
    "            scale = alt.Scale(\n",
    "               domain=[2018,2022], \n",
    "               range=['#F58518','#4C78A8'],\n",
    "            ),\n",
    "            legend=None\n",
    "        ),\n",
    "        row = alt.Row('SIGLA_2022:N',\n",
    "            title=\"\",\n",
    "            spacing = 5,\n",
    "            header=alt.Header(labelAngle=0, labelAlign='left', title=f'{chart_title}', titleFontSize=12),\n",
    "            sort=alt.SortField(\"QT_ORDER\", order=\"descending\"),                      \n",
    "        ),\n",
    "        opacity=alt.OpacityValue(0.75),\n",
    "        tooltip=[\n",
    "            alt.Tooltip('SIGLA_2022:N', title=\"Partido\"),\n",
    "            alt.Tooltip('ANO_ELEICAO:O', title=\"Ano Eleição\"),\n",
    "            alt.Tooltip('QT_VOTOS_VALIDOS:Q', format=\",d\",  title=\"Votos\"),\n",
    "        ]        \n",
    "    ).properties(\n",
    "        width=300,\n",
    "        #height=150,\n",
    "    ) \n",
    "\n",
    "grouped_depe = grouped_bar_chart(df_poll_18_filtered, df_poll_22_filtered, list([7,8]), 'Deputado Estadual/Distrital - 2018/2022')\n",
    "grouped_depf = grouped_bar_chart(df_poll_18_filtered, df_poll_22_filtered, list([6]), 'Deputado Federal - 2018/2022')\n",
    "grouped_sen = grouped_bar_chart(df_poll_18_filtered, df_poll_22_filtered, list([5]), 'Senador - 2018/2022')\n",
    "grouped_gov = grouped_bar_chart(df_poll_18_filtered, df_poll_22_filtered, list([3]), 'Governador - 2018/2022')\n",
    "grouped_pres = grouped_bar_chart(df_poll_18_filtered, df_poll_22_filtered, list([1]), 'Presidente - 2018/2022')\n",
    "\n",
    "((grouped_depe|grouped_depf) & (grouped_sen|grouped_gov) & grouped_pres)"
   ]
  },
  {
   "cell_type": "markdown",
   "id": "baf47dc4-9120-4a27-aa29-2dedf42433c0",
   "metadata": {},
   "source": [
    "- _Basicamento, não importa para qual cargo se olhe, fica muito evidente que o **PL** e o **PT** foram os partidos que rivalizaram os votos em 2022, sendo que o crescimento do **PL** é algo a se considerar e mostra que ele aglutinou as forças da direita no Brasil;_\n",
    "\n",
    "- _Levando em consideração cargos do executivo, tanto governador como presidente, o **PT** cresceu em número de votos entre 2018 e 2022, mas o **PL** também elegeu como nunca antes;_\n",
    "\n",
    "- _**PT** e **PL** elegeram as maiores bancadas do congresso nacional em 2022, porém, mais uma vez, o destaque é o **PL** que recebeu 5 milhoes de votos em 2018 e 18 milhões em 2022;_\n",
    "\n",
    "- _Pode-se observar que o **UNIÃO** teve uma queda vertiginosa no número de votos, entre 2018 e 2022, provavelvemtente, isto deveu-se ao fato que, em 2022, o ex-presidente Jair Bolsoro migrou do antigo **PSL** que se juntou ao **DEM** e formando o atual **UNIÃO**. Como foi feita a integração das bases eleitorais de 2018 e 2022, os votos dos antigos **PSL** e **DEM** estão sendo contabilizados no atual **UNIÃO**.  Isso e a migração do ex presidente Bolsonaro, explicam que houve uma migração em massa dos votos da direita do antigo **PSL** para o **PL**, mostrando a força do ex-presidente;_\n",
    "\n",
    "- _Mais um insight interessante de se destacar é a derrocatada do **PSDB**, um partido que que sempre disputava a presidência, elegia muitos governadores e deputados e que virou um partido nanico, mas isto precisa ser analisado em outro trabalho._"
   ]
  },
  {
   "cell_type": "markdown",
   "id": "53b7f1cb-4655-4200-8474-d9057e824e06",
   "metadata": {},
   "source": [
    "#### PT x PL"
   ]
  },
  {
   "cell_type": "code",
   "execution_count": null,
   "id": "3d6d1682-9192-4cb0-95c1-a1ee755b57ff",
   "metadata": {},
   "outputs": [],
   "source": [
    "#disabilita o limite de 5.000 para processamento imposto pelo altair\n",
    "alt.data_transformers.disable_max_rows()"
   ]
  },
  {
   "cell_type": "code",
   "execution_count": null,
   "id": "b989bcb3-f04e-4708-abcc-772a02554c60",
   "metadata": {},
   "outputs": [],
   "source": [
    "def filter_parties_to_facet(df_18:pl.DataFrame, df_22:pl.DataFrame, parties:list[str], cargo:list[int])-> pl.DataFrame:\n",
    "    return pl.concat([df_18\n",
    "        .filter((pl.col(\"SIGLA_2022\").is_in(parties)) & (pl.col(\"CD_CARGO\").is_in( cargo ) ) )\n",
    "        .group_by([\"ANO_ELEICAO\",\"SIGLA_2022\",\"CD_MUNICIPIO\"])\n",
    "        .agg(pl.sum(\"QT_VOTOS_VALIDOS\"))\n",
    "        .join(df_municipios, left_on=\"CD_MUNICIPIO\", right_on=\"codigo_tse\", how=\"inner\")\n",
    "        .drop(pl.col([\"capital\",\"ddd\"]))\n",
    "        .with_columns(\n",
    "            percent = pl.col(\"QT_VOTOS_VALIDOS\") /pl.col(\"QT_VOTOS_VALIDOS\").sum().over(\"codigo_ibge\")\n",
    "        ),\n",
    "    (df_22\n",
    "        .filter((pl.col(\"SIGLA_2022\").is_in( parties )) & (pl.col(\"CD_CARGO\").is_in( cargo )) )\n",
    "        .group_by([\"ANO_ELEICAO\",\"SIGLA_2022\",\"CD_MUNICIPIO\"])\n",
    "        .agg(pl.sum(\"QT_VOTOS_VALIDOS\"))\n",
    "        .join(df_municipios, left_on=\"CD_MUNICIPIO\", right_on=\"codigo_tse\", how=\"inner\")\n",
    "        .drop(pl.col([\"capital\",\"ddd\"]))\n",
    "        .with_columns(\n",
    "            percent = pl.col(\"QT_VOTOS_VALIDOS\") /pl.col(\"QT_VOTOS_VALIDOS\").sum().over(\"codigo_ibge\")\n",
    "        )                  \n",
    "    )])"
   ]
  },
  {
   "cell_type": "code",
   "execution_count": null,
   "id": "98bced72-c55e-4498-a4ba-0d7e9fed33f2",
   "metadata": {},
   "outputs": [],
   "source": [
    "'''\n",
    "    Compara as votações percentuais entre dois partidos por minicípios brasileiros\n",
    "    df_18:pl.DataFrame -> dataset das eleições de 2018 \n",
    "    df_22:pl.DataFrame -> dataset das eleições de 2022\n",
    "    parties:list[str] -> lista dos 2 partidos a comparar\n",
    "    cargo:list[int] -> lista dos cargos a filtrar\n",
    "    title:str=\"\" -> título geral do gráfico\n",
    "'''\n",
    "def facet_map_polls(df_18:pl.DataFrame, df_22:pl.DataFrame, \n",
    "                    parties:list[str], cargo:list[int], title:str=\"\")->alt.vegalite.v5.api.Chart:\n",
    "    #filtra os dados das eleições por partidos e cargos\n",
    "    df = filter_parties_to_facet(df_18, df_22, parties, cargo)\n",
    "    cities = alt.Data(\n",
    "        url=\"https://raw.githubusercontent.com/perferctstorm/DiscursoOdioEleicoes/refs/heads/main/Dados/geojs-100-mun_minifier.json\",\n",
    "        format=alt.DataFormat(property='features')\n",
    "    )    \n",
    "     \n",
    "    return alt.concat(\n",
    "        *(alt.Chart(cities, title=f\"{sigla} - {ano}\") \\\n",
    "            .mark_geoshape(\n",
    "                #fill='lightgray',\n",
    "                stroke='black',\n",
    "                strokeWidth=0.05\n",
    "            ).project(\n",
    "                type=\"equirectangular\"  \n",
    "            ).transform_lookup(\n",
    "                lookup='properties.id',\n",
    "                from_=alt.LookupData(df.filter( (pl.col(\"SIGLA_2022\")==sigla) & (pl.col(\"ANO_ELEICAO\")==ano)), \n",
    "                    'codigo_ibge', \n",
    "                    fields=list(df.columns)\n",
    "                )         \n",
    "            ).encode(\n",
    "                color=alt.Color(\"percent:Q\", \n",
    "                                legend=alt.Legend(orient=\"right\", titleAnchor='middle', title=\"Percentual\", direction=\"vertical\")\n",
    "                ),\n",
    "                tooltip=[\n",
    "                    alt.Tooltip('uf:N', title='Estado'),\n",
    "                    alt.Tooltip('nome:N', title=\"Município\"),\n",
    "                    alt.Tooltip(\"SIGLA_2022:N\", title=\"Partido\"),\n",
    "                    alt.Tooltip(\"QT_VOTOS_VALIDOS:Q\",format=\",d\", title=\"Votos\"),                \n",
    "                ]\n",
    "            ).properties(\n",
    "                width=300,\n",
    "                height=300\n",
    "            )for ano in [2018, 2022] for sigla in parties\n",
    "         ),\n",
    "        columns=2, title=f\"{title}\"\n",
    "    ).resolve_scale(\n",
    "        color=\"independent\"\n",
    "    ).configure_title(anchor='middle', fontSize=20)"
   ]
  },
  {
   "cell_type": "code",
   "execution_count": null,
   "id": "6aa40c37-dc92-4317-97f5-396c61967f19",
   "metadata": {},
   "outputs": [],
   "source": [
    "facet_map_polls(df_18=df_poll_18_filtered, df_22=df_poll_22_filtered, \n",
    "                parties=list([\"PL\",\"PT\"]), cargo=list([7,8]), title='Deputado Estadual/Distrital - 2018/2022' )"
   ]
  },
  {
   "cell_type": "code",
   "execution_count": null,
   "id": "192a8f7d-f7b0-492b-99d1-57381d573099",
   "metadata": {},
   "outputs": [],
   "source": [
    "facet_map_polls(df_18=df_poll_18_filtered, df_22=df_poll_22_filtered, \n",
    "                parties=list([\"PL\",\"PT\"]), cargo=list([6]), title='Deputado Federal - 2018/2022' )"
   ]
  },
  {
   "cell_type": "code",
   "execution_count": null,
   "id": "fc129c31-870c-428b-97d0-f4b7ec020b0b",
   "metadata": {},
   "outputs": [],
   "source": [
    "facet_map_polls(df_18=df_poll_18_filtered, df_22=df_poll_22_filtered, \n",
    "                parties=list([\"PL\",\"PT\"]), cargo=list([5]), title='Senador - 2018/2022' )"
   ]
  },
  {
   "cell_type": "code",
   "execution_count": null,
   "id": "044a89b0-e34c-4c0f-8a56-95e6d328d96e",
   "metadata": {},
   "outputs": [],
   "source": [
    "facet_map_polls(df_18=df_poll_18_filtered, df_22=df_poll_22_filtered, \n",
    "                parties=list([\"PL\",\"PT\"]), cargo=list([3]), title='Governador - 2018/2022' )"
   ]
  },
  {
   "cell_type": "code",
   "execution_count": null,
   "id": "cf957ab0-e39e-412e-a637-a518f306892b",
   "metadata": {},
   "outputs": [],
   "source": [
    "facet_map_polls(df_18=df_poll_18_filtered, df_22=df_poll_22_filtered, \n",
    "                parties=list([\"PL\",\"PT\"]), cargo=list([1]), title='Presidente - 2018/2022' )"
   ]
  },
  {
   "cell_type": "markdown",
   "id": "73e504c2-c004-49ba-9e55-8bfea86a5d44",
   "metadata": {},
   "source": [
    "#### PT x UNIÃO"
   ]
  },
  {
   "cell_type": "code",
   "execution_count": null,
   "id": "7dcf57fe-654c-4dc9-bac0-a1e0bc901d53",
   "metadata": {},
   "outputs": [],
   "source": [
    "facet_map_polls(df_18=df_poll_18_filtered, df_22=df_poll_22_filtered, \n",
    "                parties=list([\"UNIÃO\",\"PT\"]), cargo=list([7,8]), title='Deputado Estadual/Distrital - 2018/2022' )"
   ]
  },
  {
   "cell_type": "code",
   "execution_count": null,
   "id": "46ea49bf-c661-48a3-b6a4-81edf764d25a",
   "metadata": {},
   "outputs": [],
   "source": [
    "facet_map_polls(df_18=df_poll_18_filtered, df_22=df_poll_22_filtered, \n",
    "                parties=list([\"UNIÃO\",\"PT\"]), cargo=list([6]), title='Deputado Federal - 2018/2022' )"
   ]
  },
  {
   "cell_type": "code",
   "execution_count": null,
   "id": "51e702e6-8061-4a32-b7a9-afc25cf2a0e2",
   "metadata": {},
   "outputs": [],
   "source": [
    "facet_map_polls(df_18=df_poll_18_filtered, df_22=df_poll_22_filtered, \n",
    "                parties=list([\"UNIÃO\",\"PT\"]), cargo=list([5]), title='Senador - 2018/2022' )"
   ]
  },
  {
   "cell_type": "code",
   "execution_count": null,
   "id": "bd60ed28-8b39-4917-b89d-ae56357a5037",
   "metadata": {},
   "outputs": [],
   "source": [
    "facet_map_polls(df_18=df_poll_18_filtered, df_22=df_poll_22_filtered, \n",
    "                parties=list([\"UNIÃO\",\"PT\"]), cargo=list([3]), title='Governador - 2018/2022' )"
   ]
  },
  {
   "cell_type": "code",
   "execution_count": null,
   "id": "f8827f49-1a46-4887-a6cd-ea4e4fe7f7c9",
   "metadata": {},
   "outputs": [],
   "source": [
    "facet_map_polls(df_18=df_poll_18_filtered, df_22=df_poll_22_filtered, \n",
    "                parties=list([\"UNIÃO\",\"PT\"]), cargo=list([1]), title='Presidente - 2018/2022' )"
   ]
  },
  {
   "cell_type": "code",
   "execution_count": null,
   "id": "483b39f7-03ad-4b7d-88d4-509e6a7a0065",
   "metadata": {},
   "outputs": [],
   "source": [
    "import altair as alt\n",
    "from vega_datasets import data\n",
    "\n",
    "states = alt.topo_feature(data.us_10m.url, 'states')\n",
    "source = data.income.url\n",
    "\n",
    "alt.Chart(source).mark_geoshape().encode(\n",
    "    shape='geo:G',\n",
    "    color='pct:Q',\n",
    "    tooltip=['name:N', 'pct:Q'],\n",
    "    facet=alt.Facet('group:N', columns=2),\n",
    ").transform_lookup(\n",
    "    lookup='id',\n",
    "    from_=alt.LookupData(data=states, key='id'),\n",
    "    as_='geo'\n",
    ").properties(\n",
    "    width=300,\n",
    "    height=175,\n",
    ").project(\n",
    "    type='albersUsa'\n",
    ")"
   ]
  },
  {
   "cell_type": "code",
   "execution_count": null,
   "id": "44c28eae-3a90-4e58-9b1d-ff9a5a66caca",
   "metadata": {},
   "outputs": [],
   "source": [
    "import altair as alt\n",
    "from vega_datasets import data\n",
    "\n",
    "# Read in points\n",
    "airports = data.airports()\n",
    "\n",
    "# Read in polygons from topojson\n",
    "states = alt.topo_feature(data.us_10m.url, feature='states')\n",
    "\n",
    "# US states background\n",
    "background = alt.Chart(states).mark_geoshape(\n",
    "    fill='lightgray',\n",
    "    stroke='white'\n",
    ").properties(\n",
    "    width=500,\n",
    "    height=300\n",
    ").project('albersUsa')\n",
    "\n",
    "# airport positions on background\n",
    "points = alt.Chart(airports).mark_circle(\n",
    "    size=10,\n",
    "    color='steelblue'\n",
    ").encode(\n",
    "    longitude='longitude:Q',\n",
    "    latitude='latitude:Q',\n",
    "    tooltip=['name', 'city', 'state']\n",
    ")\n",
    "\n",
    "background + points"
   ]
  },
  {
   "cell_type": "code",
   "execution_count": null,
   "id": "8fc53147-4aef-4150-b40a-e23a1eea0522",
   "metadata": {},
   "outputs": [],
   "source": [
    "import altair as alt\n",
    "from vega_datasets import data\n",
    "\n",
    "airports = data.airports.url\n",
    "states = alt.topo_feature(data.us_10m.url, feature='states')\n",
    "\n",
    "# US states background\n",
    "background = alt.Chart(states).mark_geoshape(\n",
    "    fill='lightgray',\n",
    "    stroke='white'\n",
    ").properties(\n",
    "    width=500,\n",
    "    height=300\n",
    ").project('albersUsa')\n",
    "\n",
    "# Airports grouped by state\n",
    "points = alt.Chart(airports, title='Number of airports in US').transform_aggregate(\n",
    "    latitude='mean(latitude)',\n",
    "    longitude='mean(longitude)',\n",
    "    count='count()',\n",
    "    groupby=['state']\n",
    ").mark_circle().encode(\n",
    "    longitude='longitude:Q',\n",
    "    latitude='latitude:Q',\n",
    "    size=alt.Size('count:Q').title('Number of Airports'),\n",
    "    color=alt.value('steelblue'),\n",
    "    tooltip=['state:N','count:Q']\n",
    ")\n",
    "\n",
    "background + points"
   ]
  },
  {
   "cell_type": "markdown",
   "id": "e053ab0e-935a-4296-8039-5855fcfb72a4",
   "metadata": {},
   "source": [
    "### 3.2 Análise da variação da votação por ideologia e cargos entre 2018 e 2022\n",
    "\n",
    "---"
   ]
  },
  {
   "cell_type": "code",
   "execution_count": null,
   "id": "75ef0b6d-40ba-40f6-ae61-1fb2b442e860",
   "metadata": {},
   "outputs": [],
   "source": [
    "'''\n",
    "   Apresenta um facet bar chat por regiões\n",
    "   conseguiram votos em 2022 com 2018.\n",
    "   df_2018:pl.DataFrame -> dados da eleição de 2018\n",
    "   df_2022:pl.DataFrame -> dados da eleição de 2022\n",
    "   position:int -> código do cargo eleitoral (1 Presidente, 3 Governador, 5 Senador, 6 Deputado Federal, 7 Deputado Estadual e 8 Deputado Distrital)\n",
    "   chart_title:str -> título do chart\n",
    "\n",
    "   Retorna um chart vega-altair   \n",
    "'''\n",
    "def capact_facet_bar_chart(df_2018:pl.DataFrame, df_2022:pl.DataFrame, position:list[int], chart_title:str)->alt.vegalite.v5.api.Chart:\n",
    "    # soma todos os votos por partidos de 2018\n",
    "    df_tmp_18 = filter_by_position(df_2018, position)\n",
    "    # soma todos os votos por partidos de 2022\n",
    "    df_tmp_22 = filter_by_position(df_2022, position)\n",
    "    \n",
    "    df_tmp_18 = (df_tmp_18\n",
    "        .group_by([\"ANO_ELEICAO\", \"SG_POSIC_IDEOLOGICO\", \"NM_REGIAO\"], maintain_order=True)\n",
    "        .agg(pl.col(\"QT_VOTOS_VALIDOS\").sum())\n",
    "        .join(df_colors, on=\"SG_POSIC_IDEOLOGICO\", how=\"inner\")\n",
    "    )\n",
    "    \n",
    "    df_tmp_22 = (df_tmp_22\n",
    "        .group_by([\"ANO_ELEICAO\", \"SG_POSIC_IDEOLOGICO\", \"NM_REGIAO\"], maintain_order=True)\n",
    "        .agg(pl.col(\"QT_VOTOS_VALIDOS\").sum())\n",
    "        .join(df_colors, on=\"SG_POSIC_IDEOLOGICO\", how=\"inner\")\n",
    "    )\n",
    "    # concatena as votações de 22 e 18 para os cargos em position\n",
    "    df_tmp = pl.concat([df_tmp_22, df_tmp_18])\n",
    "    return alt.Chart(df_tmp).mark_bar().encode(\n",
    "        column=alt.Column(\"ANO_ELEICAO:O\",\n",
    "                    title=\"\",\n",
    "                    header=alt.Header(labelAngle=-90, labelAlign='right', title=f'{chart_title}', titleFontSize=14),                          \n",
    "                ),\n",
    "        row = alt.Row(\"NM_REGIAO:N\",\n",
    "                    title=\"\"\n",
    "                ),\n",
    "        y=alt.Y(\"POSIC_IDEOLOGICO:N\",\n",
    "               title=\"\",\n",
    "               sort=alt.Sort(['Extrema Esquerda','Esquerda','Centro Esquerda','Centro','Centro Direita','Direita','Extrema Direita'])\n",
    "               ),\n",
    "        x=alt.X(\"sum(QT_VOTOS_VALIDOS):Q\",\n",
    "                title=\"\",\n",
    "                axis=alt.Axis(labelAngle=-90),            \n",
    "               ),\n",
    "        color=alt.Color(\"POSIC_IDEOLOGICO:N\",\n",
    "                scale = alt.Scale(\n",
    "                   domain=['Extrema Esquerda','Esquerda','Centro Esquerda','Centro','Centro Direita','Direita','Extrema Direita'], \n",
    "                   range=['#7F0000','#FF0000','#C54B53','#FFD966','#97A3FF','#262DDA','#030886'],\n",
    "                ),                    \n",
    "                title=\"\", legend=alt.Legend(title=\"Ideologia\")\n",
    "            ),\n",
    "            tooltip=[\n",
    "                alt.Tooltip('NM_REGIAO:N', title=\"Partido\"),\n",
    "                alt.Tooltip('POSIC_IDEOLOGICO:N', title=\"Ideologia\"),\n",
    "                alt.Tooltip('sum(QT_VOTOS_VALIDOS):Q', format=\",d\",  title=\"Votos\")\n",
    "            ],       \n",
    "    ).properties(\n",
    "        height=100\n",
    "    )    "
   ]
  },
  {
   "cell_type": "code",
   "execution_count": null,
   "id": "190ba665-d959-44fe-9021-c457bd33d055",
   "metadata": {},
   "outputs": [],
   "source": [
    "capact_facet_bar_chart(df_poll_18_filtered, df_poll_22_filtered, list([7,8]), 'Deputado Estadual/Distrital - 2018/2022')"
   ]
  },
  {
   "cell_type": "code",
   "execution_count": null,
   "id": "e6e8022d-a68a-4103-9245-5a4e74e10d85",
   "metadata": {},
   "outputs": [],
   "source": [
    "capact_facet_bar_chart(df_poll_18_filtered, df_poll_22_filtered, list([6]), 'Deputado Federal - 2018/2022')"
   ]
  },
  {
   "cell_type": "code",
   "execution_count": null,
   "id": "b4fee9a4-20ce-43d7-8581-2e235ed2da56",
   "metadata": {},
   "outputs": [],
   "source": [
    "capact_facet_bar_chart(df_poll_18_filtered, df_poll_22_filtered, list([5]), 'Senador - 2018/2022')"
   ]
  },
  {
   "cell_type": "code",
   "execution_count": null,
   "id": "b272f496-e54b-4b18-b396-805f5137bf12",
   "metadata": {},
   "outputs": [],
   "source": [
    "capact_facet_bar_chart(df_poll_18_filtered, df_poll_22_filtered, list([3]), 'Governador - 2018/2022')"
   ]
  },
  {
   "cell_type": "code",
   "execution_count": null,
   "id": "c48add35-f051-4e05-a5c6-dd7d706b44c6",
   "metadata": {},
   "outputs": [],
   "source": [
    "capact_facet_bar_chart(df_poll_18_filtered, df_poll_22_filtered, list([1]), 'Presidente - 2018/2022')"
   ]
  },
  {
   "cell_type": "markdown",
   "id": "3e26f209-e84b-4a90-9f42-17b45c96e0f7",
   "metadata": {},
   "source": [
    "### 3.3 Análise da variação da votação por ideologia e cargos e estados entre 2018 e 2022\n",
    "\n",
    "---"
   ]
  },
  {
   "cell_type": "code",
   "execution_count": null,
   "id": "fd5b2d90-b6f1-46ca-bb5c-76a4997389d9",
   "metadata": {},
   "outputs": [],
   "source": [
    "df_tmp_22 = filter_by_position(df_poll_22_filtered, 6)"
   ]
  },
  {
   "cell_type": "code",
   "execution_count": null,
   "id": "da17d92d-c80f-402b-ad16-5af2bb424bdb",
   "metadata": {},
   "outputs": [],
   "source": [
    "df_tmp_22 = (df_tmp_22\n",
    "    .group_by([\"POSIC_IDEOLOGICO\", \"SG_UF\"], maintain_order=True)\n",
    "    .agg(pl.col(\"QT_VOTOS_VALIDOS\").sum())\n",
    ")"
   ]
  },
  {
   "cell_type": "code",
   "execution_count": null,
   "id": "43228c30-6ac5-458d-955b-aec9e5c720f7",
   "metadata": {},
   "outputs": [],
   "source": [
    "alt.Chart(df_tmp_22) \\\n",
    "    .mark_rect() \\\n",
    "    .encode(\n",
    "        x=alt.X(\n",
    "            'SG_UF:N',\n",
    "            title=\"UF\"\n",
    "        ),\n",
    "        y=alt.Y(\n",
    "            'POSIC_IDEOLOGICO:N',\n",
    "            title=\"Ideologia\",\n",
    "            sort=alt.Sort(['Extrema Esquerda','Esquerda','Centro Esquerda','Centro','Centro Direita','Direita','Extrema Direita'])\n",
    "        ),\n",
    "        color=alt.Color(\n",
    "            'sum(QT_VOTOS_VALIDOS):Q',\n",
    "            scale = alt.Scale(\n",
    "                scheme=\"lighttealblue\",\n",
    "            ), \n",
    "            title=\"Votação\"\n",
    "        ),\n",
    "        tooltip=[\n",
    "            alt.Tooltip(\"SG_UF:N\", title=\"UF\"),\n",
    "            alt.Tooltip(\"POSIC_IDEOLOGICO:O\", title=\"Ideologia\"),\n",
    "            alt.Tooltip(\"sum(QT_VOTOS_VALIDOS):Q\", title=\"Votos\", format=\",.0f\")\n",
    "        ]\n",
    "    ).properties(\n",
    "        title=\"Mapa de calor da votação por ideologia\"\n",
    "    ).configure_view(step=25, strokeWidth=1).configure_axis(domain=False)"
   ]
  },
  {
   "cell_type": "code",
   "execution_count": null,
   "id": "a6e93c47-5483-447a-8e13-926cd035fdf7",
   "metadata": {},
   "outputs": [],
   "source": [
    "'''\n",
    "alt.Chart(df_tmp_18) \\\n",
    "    .mark_bar() \\\n",
    "    .transform_window(\n",
    "        Rank = \"rank()\",\n",
    "        sort= [alt.SortField(\"QT_VOTOS_VALIDOS\", order=\"descending\")]\n",
    "    ) \\\n",
    "    .encode(\n",
    "        x = alt.X(\n",
    "            \"SIGLA_2022:N\"\n",
    "            , title=\"Partidos\"\n",
    "            , axis=alt.Axis(labelAngle=-60)\n",
    "            , sort=alt.EncodingSortField(\n",
    "                field=\"QT_VOTOS_VALIDOS\", \n",
    "                order=\"descending\"                \n",
    "            )\n",
    "        ),\n",
    "        y = alt.Y(\n",
    "            \"QT_VOTOS_VALIDOS:Q\"\n",
    "            , title=\"Votação\"\n",
    "        ),\n",
    "        tooltip=[\n",
    "            alt.Tooltip('SIGLA_2022:N', title=\"Partido\"),\n",
    "            alt.Tooltip('POSIC_IDEOLOGICO:N', title=\"Ideologia\"),\n",
    "            alt.Tooltip('QT_VOTOS_VALIDOS:Q', format=\",d\",  title=\"Votos\")\n",
    "        ],\n",
    "        color=alt.Color('POSIC_IDEOLOGICO:N',            \n",
    "            scale = alt.Scale(\n",
    "               domain=['Extrema Esquerda','Esquerda','Centro Esquerda','Centro','Centro Direita','Direita','Extrema Direita'], \n",
    "               range=['#7F0000','#FF0000','#C54B53','#FFD966','#97A3FF','#262DDA','#030886'],\n",
    "            ),\n",
    "            legend = alt.Legend(title=\"Ideologia partidária\"),\n",
    "            #sort=['Extrema Esquerda','Esquerda','Centro Esquerda','Centro','Centro Direita','Direita','Extrema Direita']\n",
    "        ),\n",
    "        opacity=alt.OpacityValue(0.6)\n",
    "    ).properties(\n",
    "        title=\"Partidos Mais Votados/Deputado Federal\"\n",
    "    ).configure_title(\n",
    "        fontSize=14,\n",
    "        align=\"center\"\n",
    "    ).configure_axis()\n",
    "'''"
   ]
  },
  {
   "cell_type": "code",
   "execution_count": null,
   "id": "9e2850a7-41d4-4ee4-9b56-cff93343ee23",
   "metadata": {},
   "outputs": [],
   "source": [
    "import altair as alt\n",
    "from vega_datasets import data\n",
    "\n",
    "\n",
    "source = data.stocks()\n",
    "\n",
    "base = alt.Chart(source).encode(\n",
    "    color=alt.Color(\"symbol\", legend=None)\n",
    ").transform_filter(\n",
    "    \"datum.symbol !== 'IBM'\"\n",
    ").properties(\n",
    "    width=500\n",
    ")\n",
    "\n",
    "line = base.mark_line().encode(x=\"date\", y=\"price\")\n",
    "\n",
    "\n",
    "last_price = base.mark_circle().encode(\n",
    "    x=alt.X(\"last_date['date']:T\"),\n",
    "    y=alt.Y(\"last_date['price']:Q\")\n",
    ").transform_aggregate(\n",
    "    last_date=\"argmax(date)\",\n",
    "    groupby=[\"symbol\"]\n",
    ")\n",
    "\n",
    "company_name = last_price.mark_text(align=\"left\", dx=4).encode(text=\"symbol\")\n",
    "\n",
    "chart = (line + last_price + company_name).encode(\n",
    "    x=alt.X(title=\"date\"),\n",
    "    y=alt.Y(title=\"price\")\n",
    ")\n",
    "\n",
    "chart"
   ]
  },
  {
   "cell_type": "code",
   "execution_count": null,
   "id": "6f27e624-f470-4243-8d2b-c8ac75833c37",
   "metadata": {},
   "outputs": [],
   "source": [
    "def mark_line_chart(df_2018:pl.DataFrame, df_2022:pl.DataFrame, position:list[int], chart_title:str)->alt.vegalite.v5.api.Chart:\n",
    "  \n",
    "    # soma todos os votos por partidos de 2018\n",
    "    df_tmp_18 = filter_by_position(df_2018, position)\n",
    "    # soma todos os votos por partidos de 2022\n",
    "    df_tmp_22 = filter_by_position(df_2022, position)\n",
    "\n",
    "    df_tmp_18 = (df_tmp_18\n",
    "        .group_by([\"ANO_ELEICAO\", \"SIGLA_2022\",\"SG_POSIC_IDEOLOGICO\"], maintain_order=True)\n",
    "        .agg(pl.col(\"QT_VOTOS_VALIDOS\").sum())\n",
    "        .join(df_colors, on=\"SG_POSIC_IDEOLOGICO\", how=\"inner\")\n",
    "    )\n",
    "    \n",
    "    df_tmp_22 = (df_tmp_22\n",
    "        .group_by([\"ANO_ELEICAO\", \"SIGLA_2022\",\"SG_POSIC_IDEOLOGICO\"], maintain_order=True)\n",
    "        .agg(pl.col(\"QT_VOTOS_VALIDOS\").sum())\n",
    "        .join(df_colors, on=\"SG_POSIC_IDEOLOGICO\", how=\"inner\")\n",
    "    )\n",
    "    \n",
    "    # concatena as votações de 22 e 18 para os cargos em position\n",
    "    df_tmp = pl.concat([df_tmp_22, df_tmp_18])\n",
    "    \n",
    "    # os registros dos 15 partidos mais votados em 2018\n",
    "    top_k_22=df_tmp_22.top_k(15, by=\"QT_VOTOS_VALIDOS\").select(pl.col(\"SIGLA_2022\",\"QT_VOTOS_VALIDOS\"))    \n",
    "    \n",
    "    # faz join entre com os 15 partidos mais votados em 22 usando o campo QT_ORDER \n",
    "    # para ordenar o chart\n",
    "    df_tmp = (df_tmp\n",
    "        .join(top_k_22, on=\"SIGLA_2022\", how=\"inner\")\n",
    "    ).rename({'QT_VOTOS_VALIDOS_right':'QT_ORDER'})  \n",
    "    \n",
    "    sorted_parties = (df_tmp\n",
    "        .select(pl.col(\"SIGLA_2022\"), pl.col(\"QT_ORDER\"))\n",
    "        .unique()\n",
    "        .sort(by=\"QT_ORDER\")\n",
    "    ).get_column(\"SIGLA_2022\").to_list()\n",
    "    \n",
    "    return alt.Chart(df_tmp, title=f\"{chart_title}\") \\\n",
    "        .mark_line(point=alt.OverlayMarkDef(filled=False, size=100, fill=\"white\"), #strokeDash=[3,3], \n",
    "                    interpolate=alt.Interpolate(\"monotone\"), strokeWidth=2) \\\n",
    "        .encode(\n",
    "            x=alt.X(\"SIGLA_2022:N\",\n",
    "                title=\"Partidos\",\n",
    "                sort=alt.SortArray(sorted_parties)\n",
    "            ),\n",
    "            y=alt.Y(\"QT_VOTOS_VALIDOS:Q\",\n",
    "                title=\"Votação\"                    \n",
    "            ),\n",
    "            color = alt.Color('ANO_ELEICAO:O',\n",
    "                scale = alt.Scale(\n",
    "                   domain=[2018,2022], \n",
    "                   range=['#F58518','#4C78A8'],\n",
    "                ),\n",
    "                legend=alt.Legend(title=\"Ano da Eleição\")                          \n",
    "            ),  \n",
    "            tooltip=[\n",
    "                alt.Tooltip('SIGLA_2022:N', title=\"Partido\"),\n",
    "                alt.Tooltip('ANO_ELEICAO:O', title=\"Ano Eleição\"),\n",
    "                alt.Tooltip('QT_VOTOS_VALIDOS:Q', format=\",d\",  title=\"Votos\"),\n",
    "            ]\n",
    "        )"
   ]
  },
  {
   "cell_type": "code",
   "execution_count": null,
   "id": "8f896254-ecaf-4daf-ae14-d63f99fd505c",
   "metadata": {},
   "outputs": [],
   "source": [
    "mark_line_depe = mark_line_chart(df_poll_18_filtered, df_poll_22_filtered, list([7,8]), 'Deputado Estadual/Distrital - 2018/2022')\n",
    "mark_line_depf = mark_line_chart(df_poll_18_filtered, df_poll_22_filtered, list([6]), 'Deputado Federal - 2018/2022')\n",
    "mark_line_sen = mark_line_chart(df_poll_18_filtered, df_poll_22_filtered, list([5]), 'Senador - 2018/2022')\n",
    "mark_line_gov = mark_line_chart(df_poll_18_filtered, df_poll_22_filtered, list([3]), 'Governador - 2018/2022')\n",
    "mark_line_pres = mark_line_chart(df_poll_18_filtered, df_poll_22_filtered, list([1]), 'Presidente - 2018/2022')"
   ]
  },
  {
   "cell_type": "code",
   "execution_count": null,
   "id": "0ab84a60-0f65-4d45-8a2c-fcc24e088b16",
   "metadata": {},
   "outputs": [],
   "source": [
    "((mark_line_depe|mark_line_depf)&(mark_line_sen|mark_line_gov)&(mark_line_pres))"
   ]
  },
  {
   "cell_type": "code",
   "execution_count": null,
   "id": "d6e2b0c1-cc0f-4fc5-a01a-f2c91d74f4f1",
   "metadata": {},
   "outputs": [],
   "source": [
    "'''\n",
    "#plota o grouped bar chart\n",
    "alt.Chart(df_tmp).mark_bar(size=8).encode(\n",
    "    x = alt.X('ANO_ELEICAO:O', \n",
    "        title=\"\",\n",
    "    ),\n",
    "    y = alt.Y('QT_VOTOS_VALIDOS:Q', title=\"Votação\"),\n",
    "    color = alt.Color('ANO_ELEICAO:O',\n",
    "        scale = alt.Scale(\n",
    "           domain=[2018,2022], \n",
    "           range=['#F58518','#4C78A8'],\n",
    "        ),\n",
    "        legend=alt.Legend(title=\"Ano da Eleição\")                          \n",
    "    ),\n",
    "    column = alt.Column('SIGLA_2022:N',\n",
    "        title=\"\",\n",
    "        spacing = 10,\n",
    "        header=alt.Header(labelAngle=-90, labelAlign='right', title='teste', titleFontSize=14),\n",
    "        sort=alt.SortField(\"QT_ORDER\", order=\"descending\"),\n",
    "    ),\n",
    "    opacity=alt.OpacityValue(0.8)\n",
    ").properties(\n",
    "    width='container',\n",
    "    height=150,\n",
    ") \n",
    "'''"
   ]
  }
 ],
 "metadata": {
  "kernelspec": {
   "display_name": "Python 3 (ipykernel)",
   "language": "python",
   "name": "python3"
  },
  "language_info": {
   "codemirror_mode": {
    "name": "ipython",
    "version": 3
   },
   "file_extension": ".py",
   "mimetype": "text/x-python",
   "name": "python",
   "nbconvert_exporter": "python",
   "pygments_lexer": "ipython3",
   "version": "3.10.13"
  }
 },
 "nbformat": 4,
 "nbformat_minor": 5
}
