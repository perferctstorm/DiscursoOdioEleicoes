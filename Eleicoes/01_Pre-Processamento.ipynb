{
 "cells": [
  {
   "cell_type": "markdown",
   "id": "f16d0be4-760e-4fba-94c2-c5e4feaeb2cf",
   "metadata": {},
   "source": [
    "# **Especialização em Ciência de Dados - INF/UFRGS e SERPRO**\n",
    "# **Análise Visual e Interativa Sobre o Discurso de Ódio nas Redes Sociais e Influência nas Eleições Brasileiras**\n",
    "#### *Prof <sup>as</sup>. Viviane P. Moreira e Lisiane Selau*\n",
    "<br>\n",
    "\n",
    "---\n",
    "\n",
    "***Trabalho de Conclusão de Curso – Turma 03***\n",
    "\n",
    "*Aluno:*\n",
    "\n",
    "* Antonio Fagner Santos de Oliveira 576637\n",
    "---\n",
    "\n",
    "_Este notebook trabalha a carga e o pré-processamento dos dados das eleições gerais brasileiras de 2018 e 2022._\n",
    "\n",
    "_O pré-processamento inclui etapas como limpeza, transformação, integração e redução de dimensionalidade. Essas etapas visam garantir que os dados estejam prontos para a análise, livres de ruídos, inconsistências e redundâncias._"
   ]
  },
  {
   "cell_type": "markdown",
   "id": "3315d5a6-cb6b-4d81-ab3f-aca45983df3b",
   "metadata": {},
   "source": [
    "## 1 Dicionário de Dados"
   ]
  },
  {
   "cell_type": "markdown",
   "id": "1fe83cdb-70b3-40a8-9e2b-15efe2504a95",
   "metadata": {},
   "source": [
    "### 1.1 Arquivo votacao_partido_munzona_[2018|2022]_BRASIL.parquet\n",
    "\n",
    "Agregação da votação dos partidos por zona eleitoral dos municípios.\n",
    "\n",
    "---\n",
    "- ***DT_GERACAO*** - Data da extração dos dados para geração do arquivo, formato \"DD/MM/YYYY\";\n",
    "- ***HH_GERACAO*** - Hora da extração dos dados para geração do arquivo com base no horário de Brasília, formato \"H24:Mi:SS\";\n",
    "- ***ANO_ELEICAO*** - Ano de referência da eleição para geração do arquivo. Observação: para eleições suplementares o ano de referência da eleição é o da eleição ordinária correspondente, format \"YYYY\";\n",
    "- ***CD_TIPO_ELEICAO*** - Código do tipo de eleição. Pode assumir os valores:\n",
    "  \n",
    "> 1 - Eleição Suplementar;\n",
    ">\n",
    "> 2 - Eleição Ordinária e;\n",
    ">\n",
    "> 3 - Consulta Popular.\n",
    "> \n",
    "- ***NM_TIPO_ELEICAO*** - Nome do tipo de eleição.\n",
    "  \n",
    "> 1 - **Eleição Suplementar** - eleições que não têm periodicidade pré-determinada ou definida e ocorrem quando, eventualmente, se fizerem necessárias.\n",
    "> \n",
    "> 2 - **Eleição Ordinária** - eleições ordinárias onde são eleitos os cargos de ***Presidente, Governadores, Deputados (Federais e Estaduais) e Senadores***. Nas eleições ordinárias municipais são eleitos os cargos de ***Prefeito e Vereadores***.\n",
    ">\n",
    "> 3 - **Consulta Popular** - eleições que ocorrem sempre que a população é convocada a opinar diretamente sobre um assunto específico e importante. Ela pode ser realizada de duas formas: ***plebiscito*** (quando o cidadão opina previamente sobre a possível criação de uma lei) e ***referendo*** (quando uma lei aprovada por um órgão legislativo é submetida à aceitação ou não das eleitoras e dos eleitores).\n",
    "\n",
    "- ***NR_TURNO*** - Número do turno da eleição.\n",
    "  \n",
    "> 1 - **Primeiro Turno**;\n",
    "> \n",
    "> 2 - **Segundo Turno**.\n",
    "\n",
    "_Nos municípios cujo eleitorado é igual ou menor que 200 mil e para o cargo de Senador elege-se a candidata ou o candidato que tenha alcançado a maioria simples dos votos._\n",
    "\n",
    "- ***CD_ELEICAO*** - Código único da eleição no âmbito da Justiça Eleitoral. Observação: este código é único por eleição e por turno, ou seja, cada turno possui seu código de eleição.\n",
    "- ***DS_ELEICAO*** - Descrição da eleição.\n",
    "- ***DT_ELEICAO*** - Data em que ocorreu a eleição, formato \"DD/MM/YYYY\".\n",
    "- ***TP_ABRANGENCIA*** - Abrangência da eleição.\n",
    "  \n",
    "> **M** - Municipal;\n",
    "> \n",
    "> **E** - Estadual e;\n",
    "> \n",
    "> **F** - Federal.\n",
    "\n",
    "*As eleições realizadas na circunscrição Municipal são as eleições para os cargos de Prefeito, Vice-Prefeito e Vereador; as realizadas na circunscrição Estadual são para os cargos de Governador, Vice-Governador, Senador, Deputado Estadual, Deputado Federal e Deputado Distrital e; as realizadas na circunscrição Federal são para os cargos de Presidente e Vice-Presidente da República.*\n",
    "- ***SG_UF*** - Sigla da Unidade da Federação em que ocorreu a eleição.\n",
    "- ***SG_UE*** - Sigla da Unidade Eleitoral em que a candidata ou o candidato concorre na eleição. A Unidade Eleitoral representa a Unidade da Federação ou o Município em que a candidata ou o candidato concorre na eleição e é relacionada à abrangência territorial desta candidatura. Em caso de abrangência Federal (cargo de Presidente e Vice-Presidente) a sigla é ***BR***, em caso de abrangência Estadual (cargos de Governador, Vice-Governador, Senador, Deputado Federal, Deputado Estadual e Deputado Distrital) a sigla é a ***UF da candidatura*** e em caso de abrangência Municipal (cargos de Prefeito, Vice-Prefeito e Vereador) é o ***código TSE de identificação do município da candidatura***.\n",
    "- ***NM_UE*** - Nome da Unidade Eleitoral. Em caso de eleição majoritária é a **sigla da UF** que a candidata ou o candidato concorre e em caso de eleição municipal é o **código TSE do município (número)**. Assume os valores especiais **BR, ZZ e VT** para designar, respectivamente, o Brasil, Exterior e Voto em Trânsito.\n",
    "- ***CD_MUNICIPIO*** - Código TSE do município onde ocorreu a eleição.\n",
    "- ***NM_MUNICIPIO*** - Nome do município onde ocorreu a eleição.\n",
    "- ***NR_ZONA*** - Número da zona onde ocorreu a eleição.\n",
    "- ***CD_CARGO*** - Código do cargo da candidata ou candidato.\n",
    "\n",
    "> **1** - Presidente\n",
    ">\n",
    "> **3** - Governador\n",
    ">\n",
    "> **5** - Senador\n",
    ">\n",
    "> **6** - Deputado Federal\n",
    ">\n",
    "> **7** - Deputado Estadual\n",
    ">\n",
    "> **8** - Deputado Distrital\n",
    ">\n",
    "> **25** - Conselheiro Distrital\n",
    "\n",
    "- ***DS_CARGO*** - Descrição do cargo da candidata ou candidato.\n",
    "- ***TP_AGREMIACAO*** - Tipo de agremiação da candidatura da candidata ou do candidato, ou seja, forma como a candidata ou o candidato concorrerá nas eleições. Pode assumir os valores:\n",
    "\n",
    "> **Federação** - quando a candidata ou candidato concorre por uma federação;\n",
    "> \n",
    "> **Coligação** - quando a candidata ou o candidato concorre por coligação e;\n",
    ">\n",
    "> **Partido Isolado** - quando a candidata ou o candidato concorre somente pelo partido.\n",
    "\n",
    "- ***NR_PARTIDO*** - Número do partido de origem da candidata ou candidato.\n",
    "- ***SG_PARTIDO*** - Sigla do partido de origem da candidata ou candidato.\n",
    "- ***NM_PARTIDO*** - Nome do partido de origem da candidata ou candidato.\n",
    "- ***NR_FEDERACAO*** - Número da Federação a qual concorre a candidata ou candidato. Caso a candidatura não esteja em uma Federação, o arquivo retornará o valor **#NULO#**.\n",
    "- ***NM_FEDERACAO*** - Nome da Federação a qual concorre a candidata ou candidato. Caso a candidatura não esteja em uma Federação, o arquivo retornará o valor **#NULO#**.\n",
    "- ***SG_FEDERACAO*** - Sigla da Federação a qual concorre a candidata ou candidato. Caso a candidatura não esteja em uma Federação, o arquivo retornará o valor **#NULO#**.\n",
    "- ***DS_COMPOSICAO_FEDERACAO*** - Composição da Federação a qual concorre a candidata ou candidato. Caso a candidatura não esteja em uma Federação, o arquivo retornará o valor **#NULO#**. A informação da coligação no arquivo está composta pela concatenação das siglas dos partidos intercarladas com o símbolo /.\n",
    "- ***SQ_COLIGACAO*** - Sequencial da coligação da qual a candidata ou candidato pertence, gerado pela Justiça Eleitoral.\n",
    "- ***NM_COLIGACAO*** - Nome da coligação da qual a candidata ou candidato pertence.\n",
    "- ***DS_COMPOSICAO_COLIGACAO*** - Composição da coligação da qual a candidata ou candidato pertence. Observação: Coligação é a união de dois ou mais partidos a fim de disputarem eleições. A informação da coligação no arquivo está composta pela concatenação das siglas dos partidos intercarladas com o símbolo /.\n",
    "- ***ST_VOTO_EM_TRANSITO*** - Situação que indica se o quantitativo de votos se refere a voto em trânsito. Podendo assumir os valores: \"**S**\" - Sim ou \"**N**\" - Não;\n",
    "- ***QT_VOTOS_LEGENDA_VALIDOS*** - Quantidade de votos válidos em legenda totalizados para aquele partido e cargo naquele município e zona;\n",
    "- ***QT_VOTOS_NOMINAIS_CONVR_LEG*** - Quantidade de votos válidos dados à candidata ou ao candidato a cargos proporcionais que, por decisão judicial, se tornaram votos para a legenda ao qual concorriam totalizados para aquele partido e cargo naquele município e zona;\n",
    "- ***QT_TOTAL_VOTOS_LEG_VALIDOS*** - Quantidade de votos válidos em legenda totalizados para aquele partido e cargo naquele município e zona;\n",
    "- ***QT_VOTOS_NOMINAIS_VALIDOS*** - Quantidade de votos nominais válidos totalizados para aquele partido e cargo naquele município e zona;\n",
    "- ***QT_VOTOS_LEGENDA_ANUL_SUBJUD*** - Quantidade de votos dados em legenda anulados em razão da sua situação jurídica mas que há recurso pendente no momento da totalização para aquele partido e cargo naquele município e zona;\n",
    "- ***QT_VOTOS_NOMINAIS_ANUL_SUBJUD*** - Quantidade de votos dados à candidata ou ao candidato anulados em razão da sua situação jurídica mas que há recurso pendente no momento da totalização para aquele partido e cargo naquele município e zona;\n"
   ]
  },
  {
   "cell_type": "markdown",
   "id": "f8cfb9cd-ce9a-4e24-8b18-31304023d8ed",
   "metadata": {},
   "source": [
    "### 1.2 Arquivo partidos_br.parquet\n",
    "\n",
    "Dados dos partidos políticos brasileiros.\n",
    "\n",
    "---\n",
    "- ***SG_PARTIDO*** - Sigla do partido político.\n",
    "- ***MEDIA_IDEOL*** - Pontuação ideológica para cada partido onde mais próximo de 0 significa extrema esquerda e próximo de 10 extrema direita.\n",
    "- ***NOME*** - Nome do partido político no TSE.\n",
    "- ***NR_PARTIDO*** - Número do partido conforme o TSE.\n",
    "- ***POSIC_IDEOLOGICO*** - Nome extenso do posicionamento ideológico do partido.\n",
    "  \n",
    "> **Extrema Esquerda**\n",
    "> \n",
    "> **Esquerda**\n",
    "> \n",
    "> **Centro Esquerda**\n",
    ">\n",
    "> **Centro**\n",
    ">\n",
    "> **Centro Direita**\n",
    ">\n",
    "> **Direita**\n",
    ">\n",
    "> **Extrema Direita**\n",
    "\n",
    "- ***SG_POSIC_IDEOLOGICO*** - Sigla associada a cada `POSIC_IDEOLOGICO`.\n",
    "\n",
    "> **EE** - Extrema Esquerda\n",
    "> \n",
    "> **E** - Esquerda\n",
    "> \n",
    "> **CE** - Centro Esquerda\n",
    ">\n",
    "> **C** - Centro\n",
    ">\n",
    "> **CD** - Centro Direita\n",
    ">\n",
    "> **D** - Direita\n",
    ">\n",
    "> **ED** - Extrema Direita\n",
    "\n",
    "O posicionamento ideológico é baseado no artigo *BOLOGNESI, Bruno; RIBEIRO, Ednaldo; CODATO, Adrian.Uma Nova Classificação Ideológica dos Partidos Políticos Brasileiros. DADOS, Rio de Janeiro, vol.67 (2), p. 14, 2023.*"
   ]
  },
  {
   "cell_type": "markdown",
   "id": "a1d4049c-ba7a-4e5d-98d1-61c82d11be2f",
   "metadata": {},
   "source": [
    "### 1.3 Arquivo municipios_brasileiros_tse.parquet\n",
    "\n",
    "\n",
    "Lista de municípios brasileiros segundo o TSE.\n",
    "\n",
    "---\n",
    "- ***codigo_tse*** - código do município na base do TSE. Este campo faz a ligação com o campo CD_MUNICIPIO do arquivo votacao_partido_munzona_2022_BRASIL.parquet;\n",
    "- ***uf*** - sigla da UF do município;\n",
    "- ***nome_municipio*** - nome do município na base do TSE;\n",
    "- ***capital*** - 1 indica que o município é capital do seu estado;\n",
    "- ***codigo_ibge*** - código do município na base do IBGE. Este código é importante porque na base do TSE pode-se encontrar a localização geográfica do município."
   ]
  },
  {
   "cell_type": "markdown",
   "id": "8ff8b2ef-d087-4141-a97a-da26e950aeb7",
   "metadata": {},
   "source": [
    "### 1.4 Arquivo municipios_ibge_lat_long.csv\n",
    "\n",
    "Lista de municípios brasileiros com códigos do IBGE e suas latitudes e longitudes.\n",
    "\n",
    "---\n",
    "- ***codigo_ibge*** - código do município na base do IBGE. Este campo faz a ligação com a tabela de municípios do TSE;\n",
    "- ***nome*** - nome do município na base do IBGE.\n",
    "- ***latitude*** - latitude do município;\n",
    "- ***longitude*** - longitude do município;\n",
    "- ***capital*** - 1 indica que o município é capital;\n",
    "- ***codigo_uf*** - código da UF do município na base do IBGE;\n",
    "- ***siafi_id*** - código do município dentro do sistema de contabilidade do governo federal (siafi);\n",
    "- ***ddd*** - código de discagem a longa distância do município;\n",
    "- ***fuso_horario*** - descrição do fuso horário em que o município se encontra."
   ]
  },
  {
   "cell_type": "markdown",
   "id": "8de92651-cf79-4850-a4fa-b2f102033d38",
   "metadata": {},
   "source": [
    "### 1.5 Arquivo regioes.parquet\n",
    "\n",
    "Arquivo de estados por grandes regiões brasileiras\n",
    "\n",
    "---\n",
    "\n",
    "- ***UF*** - sigla da UF;\n",
    "- ***SG_REGIAO*** - sigla da região da UG;\n",
    "- ***NM_REGIAO*** - nome da região.\n"
   ]
  },
  {
   "cell_type": "markdown",
   "id": "1b5bd015-9322-431f-95a0-a39f5ab65f2a",
   "metadata": {},
   "source": [
    "## 2 Pré-processamento dos Dados\n",
    "\n",
    "Limpeza, transformação, integração e redução de dimensionalidade. Essas etapas visam garantir que os dados estejam prontos para a análise, livres de ruídos, inconsistências e redundâncias.\n",
    "\n",
    "---"
   ]
  },
  {
   "cell_type": "code",
   "execution_count": 1,
   "id": "ce8bfa71-aba3-4d34-bfa4-891df8e0c660",
   "metadata": {},
   "outputs": [],
   "source": [
    "import polars as pl\n",
    "import os\n",
    "import altair as alt\n",
    "import numpy as np\n",
    "import standards as sdt_f"
   ]
  },
  {
   "cell_type": "code",
   "execution_count": 2,
   "id": "4c638551-e535-44da-9945-cea59bc2350c",
   "metadata": {},
   "outputs": [],
   "source": [
    "root:str = \"../Dados/Eleicoes/\"\n",
    "poll_18:str = \"votacao_partido_munzona_2018_BRASIL.parquet\"\n",
    "poll_22:str = \"votacao_partido_munzona_2022_BRASIL.parquet\"\n",
    "regions:str = \"regioes.parquet\"\n",
    "tse_cities:str = \"municipios_brasileiros_tse.parquet\"\n",
    "ibge_cities:str = \"municipios_ibge_lat_long.parquet\"\n",
    "parties:str = \"partidos_br.parquet\""
   ]
  },
  {
   "cell_type": "markdown",
   "id": "117266bf-949c-456b-8184-ce8529f488ac",
   "metadata": {},
   "source": [
    "### 2.1 Dados eleitorais\n",
    "\n",
    "https://medium.com/@danilo.dct/the-importance-of-data-validation-in-data-analysis-a-six-step-guide-2be645a064f3\n",
    "\n",
    "---"
   ]
  },
  {
   "cell_type": "markdown",
   "id": "a30f19bf-d0a8-4b6c-960b-4246d018e2e5",
   "metadata": {},
   "source": [
    "#### Carga dos partidos políticos e seu posicionamento ideológico"
   ]
  },
  {
   "cell_type": "code",
   "execution_count": 3,
   "id": "a8670d1a-a3d9-4dba-afdc-b5deab3d1db3",
   "metadata": {},
   "outputs": [],
   "source": [
    "df_partidos:pl.DataFrame = sdt_f.load_parquet(os.path.join(root, parties))"
   ]
  },
  {
   "cell_type": "code",
   "execution_count": 4,
   "id": "3e326441-da5a-4655-a698-78073a7ed706",
   "metadata": {},
   "outputs": [],
   "source": [
    "df_partidos = df_partidos.with_columns(\n",
    "    pl.col(\"POSIC_IDEOLOGICO\").str.to_titlecase()\n",
    ")"
   ]
  },
  {
   "cell_type": "code",
   "execution_count": 5,
   "id": "d54accda-2d88-4cc4-9ee8-7040d3de2a0d",
   "metadata": {},
   "outputs": [
    {
     "data": {
      "text/html": [
       "<div><style>\n",
       ".dataframe > thead > tr,\n",
       ".dataframe > tbody > tr {\n",
       "  text-align: right;\n",
       "  white-space: pre-wrap;\n",
       "}\n",
       "</style>\n",
       "<small>shape: (5, 9)</small><table border=\"1\" class=\"dataframe\"><thead><tr><th>SG_PARTIDO</th><th>SG_PARTIDO_INFO</th><th>MEDIA_IDEOL</th><th>NOME</th><th>NR_PARTIDO</th><th>POSIC_IDEOLOGICO</th><th>SG_POSIC_IDEOLOGICO</th><th>Observação</th><th>Fonte espectro</th></tr><tr><td>str</td><td>str</td><td>str</td><td>str</td><td>i64</td><td>str</td><td>str</td><td>str</td><td>str</td></tr></thead><tbody><tr><td>&quot;PSTU&quot;</td><td>&quot;PSTU&quot;</td><td>&quot;0,51&quot;</td><td>&quot;PARTIDO SOCIALISTA DOS TRABALH…</td><td>16</td><td>&quot;Extrema Esquerda&quot;</td><td>&quot;EE&quot;</td><td>null</td><td>&quot;BOLOGNESI, Bruno; RIBEIRO, Edn…</td></tr><tr><td>&quot;PCO&quot;</td><td>&quot;PCO&quot;</td><td>&quot;0,61&quot;</td><td>&quot;PARTIDO DA CAUSA OPERÁRIA&quot;</td><td>29</td><td>&quot;Extrema Esquerda&quot;</td><td>&quot;EE&quot;</td><td>null</td><td>&quot;BOLOGNESI, Bruno; RIBEIRO, Edn…</td></tr><tr><td>&quot;UP&quot;</td><td>&quot;UP&quot;</td><td>&quot;0,76&quot;</td><td>&quot;UNIDADE POPULAR&quot;</td><td>80</td><td>&quot;Extrema Esquerda&quot;</td><td>&quot;EE&quot;</td><td>&quot;Como não havia sido fundado e …</td><td>&quot;BOLOGNESI, Bruno; RIBEIRO, Edn…</td></tr><tr><td>&quot;PCB&quot;</td><td>&quot;PCB&quot;</td><td>&quot;0,91&quot;</td><td>&quot;PARTIDO COMUNISTA BRASILEIRO&quot;</td><td>21</td><td>&quot;Extrema Esquerda&quot;</td><td>&quot;EE&quot;</td><td>null</td><td>&quot;BOLOGNESI, Bruno; RIBEIRO, Edn…</td></tr><tr><td>&quot;PSOL&quot;</td><td>&quot;PSOL&quot;</td><td>&quot;1,28&quot;</td><td>&quot;PARTIDO SOCIALISMO E LIBERDADE&quot;</td><td>50</td><td>&quot;Extrema Esquerda&quot;</td><td>&quot;EE&quot;</td><td>null</td><td>&quot;BOLOGNESI, Bruno; RIBEIRO, Edn…</td></tr></tbody></table></div>"
      ],
      "text/plain": [
       "shape: (5, 9)\n",
       "┌────────────┬─────────────────┬─────────────┬─────────────────────────────────┬───┬──────────────────┬─────────────────────┬─────────────────────────────────┬─────────────────────────────────┐\n",
       "│ SG_PARTIDO ┆ SG_PARTIDO_INFO ┆ MEDIA_IDEOL ┆ NOME                            ┆ … ┆ POSIC_IDEOLOGICO ┆ SG_POSIC_IDEOLOGICO ┆ Observação                      ┆ Fonte espectro                  │\n",
       "│ ---        ┆ ---             ┆ ---         ┆ ---                             ┆   ┆ ---              ┆ ---                 ┆ ---                             ┆ ---                             │\n",
       "│ str        ┆ str             ┆ str         ┆ str                             ┆   ┆ str              ┆ str                 ┆ str                             ┆ str                             │\n",
       "╞════════════╪═════════════════╪═════════════╪═════════════════════════════════╪═══╪══════════════════╪═════════════════════╪═════════════════════════════════╪═════════════════════════════════╡\n",
       "│ PSTU       ┆ PSTU            ┆ 0,51        ┆ PARTIDO SOCIALISTA DOS TRABALH… ┆ … ┆ Extrema Esquerda ┆ EE                  ┆ null                            ┆ BOLOGNESI, Bruno; RIBEIRO, Edn… │\n",
       "│ PCO        ┆ PCO             ┆ 0,61        ┆ PARTIDO DA CAUSA OPERÁRIA       ┆ … ┆ Extrema Esquerda ┆ EE                  ┆ null                            ┆ BOLOGNESI, Bruno; RIBEIRO, Edn… │\n",
       "│ UP         ┆ UP              ┆ 0,76        ┆ UNIDADE POPULAR                 ┆ … ┆ Extrema Esquerda ┆ EE                  ┆ Como não havia sido fundado e … ┆ BOLOGNESI, Bruno; RIBEIRO, Edn… │\n",
       "│ PCB        ┆ PCB             ┆ 0,91        ┆ PARTIDO COMUNISTA BRASILEIRO    ┆ … ┆ Extrema Esquerda ┆ EE                  ┆ null                            ┆ BOLOGNESI, Bruno; RIBEIRO, Edn… │\n",
       "│ PSOL       ┆ PSOL            ┆ 1,28        ┆ PARTIDO SOCIALISMO E LIBERDADE  ┆ … ┆ Extrema Esquerda ┆ EE                  ┆ null                            ┆ BOLOGNESI, Bruno; RIBEIRO, Edn… │\n",
       "└────────────┴─────────────────┴─────────────┴─────────────────────────────────┴───┴──────────────────┴─────────────────────┴─────────────────────────────────┴─────────────────────────────────┘"
      ]
     },
     "execution_count": 5,
     "metadata": {},
     "output_type": "execute_result"
    }
   ],
   "source": [
    "df_partidos.head()"
   ]
  },
  {
   "cell_type": "markdown",
   "id": "21adf983-e938-41f4-9ac3-dd4010cce0c5",
   "metadata": {},
   "source": [
    "#### Carga dos dados da eleições de 2018 e 2022"
   ]
  },
  {
   "cell_type": "code",
   "execution_count": 6,
   "id": "408c5e55-241c-4c37-b743-a9cb7b1f6008",
   "metadata": {},
   "outputs": [],
   "source": [
    "## carrega os dados das eleições de 2018 e 2022\n",
    "df_eleicoes_2018:pl.DataFrame = sdt_f.load_parquet(os.path.join(root, poll_18))\n",
    "df_eleicoes_2022:pl.DataFrame = sdt_f.load_parquet(os.path.join(root, poll_22))"
   ]
  },
  {
   "cell_type": "code",
   "execution_count": 7,
   "id": "e4de48db-a956-405b-942b-5bc7d9626042",
   "metadata": {},
   "outputs": [
    {
     "name": "stdout",
     "output_type": "stream",
     "text": [
      "(607096, 36)\n",
      "(525534, 36)\n"
     ]
    }
   ],
   "source": [
    "print(df_eleicoes_2018.shape)\n",
    "print(df_eleicoes_2022.shape)"
   ]
  },
  {
   "cell_type": "code",
   "execution_count": 8,
   "id": "396b264c-ad41-45b7-b3a5-c2881ba535bb",
   "metadata": {},
   "outputs": [],
   "source": [
    "'''\n",
    "    Faz a filtragem inicial nos arquivos das eleições:\n",
    "    - Filtramos pelo ano da eleição [2018|2022];\n",
    "    - Apenas eleição ordinária\n",
    "    - Analisaremos somente o 1o turno\n",
    "    - Remove os cargos de conselheiro distrital\n",
    "    - Remove a abrangência municipal\n",
    "    - Também, o retorno serão alguns campos necessários à análise:\n",
    "        TP_ABRANGENCIA, SG_UF, SG_UE, NM_UE, CD_MUNICIPIO, NM_MUNICIPIO, NR_ZONA, CD_CARGO, DS_CARGO, NR_PARTIDO, SG_PARTIDO, \n",
    "        NM_PARTIDO, QT_VOTOS_NOMINAIS_CONVR_LEG, QT_TOTAL_VOTOS_LEG_VALIDOS, QT_VOTOS_NOMINAIS_VALIDOS.\n",
    "'''\n",
    "def filter_poll(df:pl.DataFrame, year:int)->pl.DataFrame:\n",
    "    return (\n",
    "        df\n",
    "            .filter( \n",
    "                (pl.col(\"ANO_ELEICAO\")==year) & (pl.col(\"CD_TIPO_ELEICAO\")==2) & \n",
    "                (pl.col(\"NR_TURNO\")==1) & (pl.col(\"CD_CARGO\")!=25) &\n",
    "                (pl.col(\"TP_ABRANGENCIA\").is_in([\"E\",\"F\"]))\n",
    "            )\n",
    "            .select(pl.col(\"ANO_ELEICAO\"),\n",
    "                pl.col(\"TP_ABRANGENCIA\"), pl.col(\"SG_UF\"), pl.col(\"SG_UE\"), pl.col(\"NM_UE\"), pl.col(\"CD_MUNICIPIO\")\n",
    "                , pl.col(\"NM_MUNICIPIO\"), pl.col(\"NR_ZONA\"), pl.col(\"CD_CARGO\"), pl.col(\"DS_CARGO\"), pl.col(\"NR_PARTIDO\")\n",
    "                , pl.col(\"SG_PARTIDO\"), pl.col(\"NM_PARTIDO\"), pl.col(\"QT_VOTOS_NOMINAIS_CONVR_LEG\")\n",
    "                , pl.col(\"QT_TOTAL_VOTOS_LEG_VALIDOS\"), pl.col(\"QT_VOTOS_NOMINAIS_VALIDOS\")\n",
    "            )\n",
    "    )"
   ]
  },
  {
   "cell_type": "code",
   "execution_count": 9,
   "id": "87ee5474-a241-496f-9a43-0a56e9323a45",
   "metadata": {},
   "outputs": [],
   "source": [
    "#filtra somente informações de primeiro turno de 2018 e 2022\n",
    "df_poll_18_filtered = filter_poll(df_eleicoes_2018, 2018)\n",
    "df_poll_22_filtered = filter_poll(df_eleicoes_2022, 2022)"
   ]
  },
  {
   "cell_type": "code",
   "execution_count": 10,
   "id": "1b8aaa2e-657d-4c3f-a09c-ac7ce7a1225a",
   "metadata": {},
   "outputs": [
    {
     "data": {
      "text/html": [
       "<div><style>\n",
       ".dataframe > thead > tr,\n",
       ".dataframe > tbody > tr {\n",
       "  text-align: right;\n",
       "  white-space: pre-wrap;\n",
       "}\n",
       "</style>\n",
       "<small>shape: (506_959, 16)</small><table border=\"1\" class=\"dataframe\"><thead><tr><th>ANO_ELEICAO</th><th>TP_ABRANGENCIA</th><th>SG_UF</th><th>SG_UE</th><th>NM_UE</th><th>CD_MUNICIPIO</th><th>NM_MUNICIPIO</th><th>NR_ZONA</th><th>CD_CARGO</th><th>DS_CARGO</th><th>NR_PARTIDO</th><th>SG_PARTIDO</th><th>NM_PARTIDO</th><th>QT_VOTOS_NOMINAIS_CONVR_LEG</th><th>QT_TOTAL_VOTOS_LEG_VALIDOS</th><th>QT_VOTOS_NOMINAIS_VALIDOS</th></tr><tr><td>i64</td><td>str</td><td>str</td><td>str</td><td>str</td><td>i64</td><td>str</td><td>i64</td><td>i64</td><td>str</td><td>i64</td><td>str</td><td>str</td><td>i64</td><td>i64</td><td>i64</td></tr></thead><tbody><tr><td>2022</td><td>&quot;E&quot;</td><td>&quot;RS&quot;</td><td>&quot;RS&quot;</td><td>&quot;RIO GRANDE DO SUL&quot;</td><td>89699</td><td>&quot;VICTOR GRAEFF&quot;</td><td>117</td><td>6</td><td>&quot;Deputado Federal&quot;</td><td>30</td><td>&quot;NOVO&quot;</td><td>&quot;Partido Novo&quot;</td><td>0</td><td>0</td><td>69</td></tr><tr><td>2022</td><td>&quot;E&quot;</td><td>&quot;MT&quot;</td><td>&quot;MT&quot;</td><td>&quot;MATO GROSSO&quot;</td><td>90484</td><td>&quot;CAMPO NOVO DO PARECIS&quot;</td><td>60</td><td>6</td><td>&quot;Deputado Federal&quot;</td><td>40</td><td>&quot;PSB&quot;</td><td>&quot;Partido Socialista Brasileiro&quot;</td><td>0</td><td>16</td><td>625</td></tr><tr><td>2022</td><td>&quot;E&quot;</td><td>&quot;SC&quot;</td><td>&quot;SC&quot;</td><td>&quot;SANTA CATARINA&quot;</td><td>82791</td><td>&quot;QUILOMBO&quot;</td><td>78</td><td>7</td><td>&quot;Deputado Estadual&quot;</td><td>22</td><td>&quot;PL&quot;</td><td>&quot;Partido Liberal&quot;</td><td>0</td><td>49</td><td>559</td></tr><tr><td>2022</td><td>&quot;E&quot;</td><td>&quot;RS&quot;</td><td>&quot;RS&quot;</td><td>&quot;RIO GRANDE DO SUL&quot;</td><td>85251</td><td>&quot;ARROIO GRANDE&quot;</td><td>92</td><td>6</td><td>&quot;Deputado Federal&quot;</td><td>23</td><td>&quot;CIDADANIA&quot;</td><td>&quot;Cidadania&quot;</td><td>0</td><td>3</td><td>153</td></tr><tr><td>2022</td><td>&quot;E&quot;</td><td>&quot;MT&quot;</td><td>&quot;MT&quot;</td><td>&quot;MATO GROSSO&quot;</td><td>89834</td><td>&quot;PARANATINGA&quot;</td><td>57</td><td>6</td><td>&quot;Deputado Federal&quot;</td><td>15</td><td>&quot;MDB&quot;</td><td>&quot;Movimento Democrático Brasilei…</td><td>0</td><td>60</td><td>1704</td></tr><tr><td>&hellip;</td><td>&hellip;</td><td>&hellip;</td><td>&hellip;</td><td>&hellip;</td><td>&hellip;</td><td>&hellip;</td><td>&hellip;</td><td>&hellip;</td><td>&hellip;</td><td>&hellip;</td><td>&hellip;</td><td>&hellip;</td><td>&hellip;</td><td>&hellip;</td><td>&hellip;</td></tr><tr><td>2022</td><td>&quot;E&quot;</td><td>&quot;PR&quot;</td><td>&quot;PR&quot;</td><td>&quot;PARANÁ&quot;</td><td>76759</td><td>&quot;MANDAGUAÇU&quot;</td><td>102</td><td>6</td><td>&quot;Deputado Federal&quot;</td><td>36</td><td>&quot;AGIR&quot;</td><td>&quot;AGIR&quot;</td><td>0</td><td>0</td><td>38</td></tr><tr><td>2022</td><td>&quot;E&quot;</td><td>&quot;PE&quot;</td><td>&quot;PE&quot;</td><td>&quot;PERNAMBUCO&quot;</td><td>23094</td><td>&quot;ÁGUAS BELAS&quot;</td><td>64</td><td>7</td><td>&quot;Deputado Estadual&quot;</td><td>36</td><td>&quot;AGIR&quot;</td><td>&quot;AGIR&quot;</td><td>0</td><td>3</td><td>2</td></tr><tr><td>2022</td><td>&quot;E&quot;</td><td>&quot;PR&quot;</td><td>&quot;PR&quot;</td><td>&quot;PARANÁ&quot;</td><td>74900</td><td>&quot;VENTANIA&quot;</td><td>17</td><td>6</td><td>&quot;Deputado Federal&quot;</td><td>22</td><td>&quot;PL&quot;</td><td>&quot;Partido Liberal&quot;</td><td>0</td><td>28</td><td>1569</td></tr><tr><td>2022</td><td>&quot;E&quot;</td><td>&quot;SP&quot;</td><td>&quot;SP&quot;</td><td>&quot;SÃO PAULO&quot;</td><td>68616</td><td>&quot;PINDAMONHANGABA&quot;</td><td>90</td><td>7</td><td>&quot;Deputado Estadual&quot;</td><td>27</td><td>&quot;DC&quot;</td><td>&quot;Democracia Cristã&quot;</td><td>0</td><td>7</td><td>3</td></tr><tr><td>2022</td><td>&quot;E&quot;</td><td>&quot;MG&quot;</td><td>&quot;MG&quot;</td><td>&quot;MINAS GERAIS&quot;</td><td>44016</td><td>&quot;COUTO DE MAGALHÃES DE MINAS&quot;</td><td>101</td><td>6</td><td>&quot;Deputado Federal&quot;</td><td>43</td><td>&quot;PV&quot;</td><td>&quot;Partido Verde&quot;</td><td>0</td><td>0</td><td>4</td></tr></tbody></table></div>"
      ],
      "text/plain": [
       "shape: (506_959, 16)\n",
       "┌─────────────┬────────────────┬───────┬───────┬───┬─────────────────────────────────┬─────────────────────────────┬────────────────────────────┬───────────────────────────┐\n",
       "│ ANO_ELEICAO ┆ TP_ABRANGENCIA ┆ SG_UF ┆ SG_UE ┆ … ┆ NM_PARTIDO                      ┆ QT_VOTOS_NOMINAIS_CONVR_LEG ┆ QT_TOTAL_VOTOS_LEG_VALIDOS ┆ QT_VOTOS_NOMINAIS_VALIDOS │\n",
       "│ ---         ┆ ---            ┆ ---   ┆ ---   ┆   ┆ ---                             ┆ ---                         ┆ ---                        ┆ ---                       │\n",
       "│ i64         ┆ str            ┆ str   ┆ str   ┆   ┆ str                             ┆ i64                         ┆ i64                        ┆ i64                       │\n",
       "╞═════════════╪════════════════╪═══════╪═══════╪═══╪═════════════════════════════════╪═════════════════════════════╪════════════════════════════╪═══════════════════════════╡\n",
       "│ 2022        ┆ E              ┆ RS    ┆ RS    ┆ … ┆ Partido Novo                    ┆ 0                           ┆ 0                          ┆ 69                        │\n",
       "│ 2022        ┆ E              ┆ MT    ┆ MT    ┆ … ┆ Partido Socialista Brasileiro   ┆ 0                           ┆ 16                         ┆ 625                       │\n",
       "│ 2022        ┆ E              ┆ SC    ┆ SC    ┆ … ┆ Partido Liberal                 ┆ 0                           ┆ 49                         ┆ 559                       │\n",
       "│ 2022        ┆ E              ┆ RS    ┆ RS    ┆ … ┆ Cidadania                       ┆ 0                           ┆ 3                          ┆ 153                       │\n",
       "│ 2022        ┆ E              ┆ MT    ┆ MT    ┆ … ┆ Movimento Democrático Brasilei… ┆ 0                           ┆ 60                         ┆ 1704                      │\n",
       "│ …           ┆ …              ┆ …     ┆ …     ┆ … ┆ …                               ┆ …                           ┆ …                          ┆ …                         │\n",
       "│ 2022        ┆ E              ┆ PR    ┆ PR    ┆ … ┆ AGIR                            ┆ 0                           ┆ 0                          ┆ 38                        │\n",
       "│ 2022        ┆ E              ┆ PE    ┆ PE    ┆ … ┆ AGIR                            ┆ 0                           ┆ 3                          ┆ 2                         │\n",
       "│ 2022        ┆ E              ┆ PR    ┆ PR    ┆ … ┆ Partido Liberal                 ┆ 0                           ┆ 28                         ┆ 1569                      │\n",
       "│ 2022        ┆ E              ┆ SP    ┆ SP    ┆ … ┆ Democracia Cristã               ┆ 0                           ┆ 7                          ┆ 3                         │\n",
       "│ 2022        ┆ E              ┆ MG    ┆ MG    ┆ … ┆ Partido Verde                   ┆ 0                           ┆ 0                          ┆ 4                         │\n",
       "└─────────────┴────────────────┴───────┴───────┴───┴─────────────────────────────────┴─────────────────────────────┴────────────────────────────┴───────────────────────────┘"
      ]
     },
     "execution_count": 10,
     "metadata": {},
     "output_type": "execute_result"
    }
   ],
   "source": [
    "df_poll_22_filtered"
   ]
  },
  {
   "cell_type": "markdown",
   "id": "6bbbe159-9f3b-48ad-b13e-5083b20ce53d",
   "metadata": {},
   "source": [
    "_Os datasets das eleições estão apenas com os campos necessários e registros de primeiro turno._"
   ]
  },
  {
   "cell_type": "markdown",
   "id": "f01171f8-7039-47c6-bd99-0c33c78ee6c5",
   "metadata": {},
   "source": [
    "#### Registros duplicados"
   ]
  },
  {
   "cell_type": "code",
   "execution_count": 11,
   "id": "f6e667fc-c5d4-4654-80c6-3534ed6d4388",
   "metadata": {},
   "outputs": [
    {
     "name": "stdout",
     "output_type": "stream",
     "text": [
      "Total de registros duplicados em 2018: 0\n",
      "Total de registros duplicados em 2022: 0\n"
     ]
    }
   ],
   "source": [
    "print(f\"Total de registros duplicados em 2018: {df_poll_18_filtered.is_duplicated().sum()}\")\n",
    "print(f\"Total de registros duplicados em 2022: {df_poll_22_filtered.is_duplicated().sum()}\")"
   ]
  },
  {
   "cell_type": "markdown",
   "id": "06c01016-8719-49e5-9ce8-376f79d1e1ff",
   "metadata": {},
   "source": [
    "_Nenhum registro duplicado dos dois datasets._ "
   ]
  },
  {
   "cell_type": "markdown",
   "id": "32fd7945-fa11-49f8-b1c1-e3cdea13ac55",
   "metadata": {},
   "source": [
    "#### Valores nulos"
   ]
  },
  {
   "cell_type": "code",
   "execution_count": 12,
   "id": "ddc0637f-8cf6-451e-a6c8-7c99023a8b91",
   "metadata": {},
   "outputs": [
    {
     "data": {
      "text/plain": [
       "{'ANO_ELEICAO': 0,\n",
       " 'TP_ABRANGENCIA': 0,\n",
       " 'SG_UF': 0,\n",
       " 'SG_UE': 0,\n",
       " 'NM_UE': 0,\n",
       " 'CD_MUNICIPIO': 0,\n",
       " 'NM_MUNICIPIO': 0,\n",
       " 'NR_ZONA': 0,\n",
       " 'CD_CARGO': 0,\n",
       " 'DS_CARGO': 0,\n",
       " 'NR_PARTIDO': 0,\n",
       " 'SG_PARTIDO': 0,\n",
       " 'NM_PARTIDO': 0,\n",
       " 'QT_VOTOS_NOMINAIS_CONVR_LEG': 0,\n",
       " 'QT_TOTAL_VOTOS_LEG_VALIDOS': 0,\n",
       " 'QT_VOTOS_NOMINAIS_VALIDOS': 0}"
      ]
     },
     "execution_count": 12,
     "metadata": {},
     "output_type": "execute_result"
    }
   ],
   "source": [
    "df_poll_18_filtered.select(pl.all().is_null().sum()).to_dicts()[0]"
   ]
  },
  {
   "cell_type": "code",
   "execution_count": 13,
   "id": "cc8b49da-8e4a-4b08-8485-a4b689734c4d",
   "metadata": {},
   "outputs": [],
   "source": [
    "#df_poll_22_filtered.null_count()"
   ]
  },
  {
   "cell_type": "code",
   "execution_count": 14,
   "id": "a92b9b42-725a-488d-bbc2-145991f2cd01",
   "metadata": {},
   "outputs": [
    {
     "data": {
      "text/plain": [
       "{'ANO_ELEICAO': 0,\n",
       " 'TP_ABRANGENCIA': 0,\n",
       " 'SG_UF': 0,\n",
       " 'SG_UE': 0,\n",
       " 'NM_UE': 0,\n",
       " 'CD_MUNICIPIO': 0,\n",
       " 'NM_MUNICIPIO': 0,\n",
       " 'NR_ZONA': 0,\n",
       " 'CD_CARGO': 0,\n",
       " 'DS_CARGO': 0,\n",
       " 'NR_PARTIDO': 0,\n",
       " 'SG_PARTIDO': 0,\n",
       " 'NM_PARTIDO': 0,\n",
       " 'QT_VOTOS_NOMINAIS_CONVR_LEG': 0,\n",
       " 'QT_TOTAL_VOTOS_LEG_VALIDOS': 0,\n",
       " 'QT_VOTOS_NOMINAIS_VALIDOS': 0}"
      ]
     },
     "execution_count": 14,
     "metadata": {},
     "output_type": "execute_result"
    }
   ],
   "source": [
    "df_poll_22_filtered.select(pl.all().is_null().sum()).to_dicts()[0]"
   ]
  },
  {
   "cell_type": "markdown",
   "id": "8d22d7ac-2862-429e-8cdc-4224889b483d",
   "metadata": {},
   "source": [
    "_Pode-se ver que não há valores nulos nos datasets_"
   ]
  },
  {
   "cell_type": "markdown",
   "id": "2816b069-0242-431c-a095-66a7b04f6878",
   "metadata": {},
   "source": [
    "#### Tipos dos dados das eleições"
   ]
  },
  {
   "cell_type": "code",
   "execution_count": 15,
   "id": "1ed35dc4-b6dd-4fc3-ab09-9f51154b31ba",
   "metadata": {},
   "outputs": [
    {
     "data": {
      "text/plain": [
       "[('ANO_ELEICAO', Int64),\n",
       " ('TP_ABRANGENCIA', String),\n",
       " ('SG_UF', String),\n",
       " ('SG_UE', String),\n",
       " ('NM_UE', String),\n",
       " ('CD_MUNICIPIO', Int64),\n",
       " ('NM_MUNICIPIO', String),\n",
       " ('NR_ZONA', Int64),\n",
       " ('CD_CARGO', Int64),\n",
       " ('DS_CARGO', String),\n",
       " ('NR_PARTIDO', Int64),\n",
       " ('SG_PARTIDO', String),\n",
       " ('NM_PARTIDO', String),\n",
       " ('QT_VOTOS_NOMINAIS_CONVR_LEG', Int64),\n",
       " ('QT_TOTAL_VOTOS_LEG_VALIDOS', Int64),\n",
       " ('QT_VOTOS_NOMINAIS_VALIDOS', Int64)]"
      ]
     },
     "execution_count": 15,
     "metadata": {},
     "output_type": "execute_result"
    }
   ],
   "source": [
    "[(column, df_poll_18_filtered.get_column(column).dtype) for column in df_poll_18_filtered.columns]"
   ]
  },
  {
   "cell_type": "code",
   "execution_count": 16,
   "id": "a53baec0-ce99-4d2a-b92d-0c57d880cbb2",
   "metadata": {},
   "outputs": [
    {
     "data": {
      "text/plain": [
       "[('ANO_ELEICAO', Int64),\n",
       " ('TP_ABRANGENCIA', String),\n",
       " ('SG_UF', String),\n",
       " ('SG_UE', String),\n",
       " ('NM_UE', String),\n",
       " ('CD_MUNICIPIO', Int64),\n",
       " ('NM_MUNICIPIO', String),\n",
       " ('NR_ZONA', Int64),\n",
       " ('CD_CARGO', Int64),\n",
       " ('DS_CARGO', String),\n",
       " ('NR_PARTIDO', Int64),\n",
       " ('SG_PARTIDO', String),\n",
       " ('NM_PARTIDO', String),\n",
       " ('QT_VOTOS_NOMINAIS_CONVR_LEG', Int64),\n",
       " ('QT_TOTAL_VOTOS_LEG_VALIDOS', Int64),\n",
       " ('QT_VOTOS_NOMINAIS_VALIDOS', Int64)]"
      ]
     },
     "execution_count": 16,
     "metadata": {},
     "output_type": "execute_result"
    }
   ],
   "source": [
    "[(column, df_poll_22_filtered.get_column(column).dtype) for column in df_poll_22_filtered.columns]"
   ]
  },
  {
   "cell_type": "markdown",
   "id": "0984a611-da9f-4758-9db5-fc35fbaccb2d",
   "metadata": {},
   "source": [
    "_Os tipos de dados parecem conforme o esperado._"
   ]
  },
  {
   "cell_type": "markdown",
   "id": "dba49429-5c59-4160-a206-4e35f220284a",
   "metadata": {},
   "source": [
    "#### Somatário de votos válidos por partido e zona"
   ]
  },
  {
   "cell_type": "markdown",
   "id": "1b65e627-3c7d-4e43-8b5e-e8a91fc6cdbf",
   "metadata": {},
   "source": [
    "Todos os campos de de quantidade de votos podem ser somados pois são quantidade de votos válidos."
   ]
  },
  {
   "cell_type": "code",
   "execution_count": 17,
   "id": "69bc354a-3280-4420-bfe3-9f5cdbbd821d",
   "metadata": {},
   "outputs": [],
   "source": [
    "'''\n",
    "    Somas as três colunas com votos válidos e, depois, reve-as do dataset\n",
    "'''\n",
    "def sum_suffrage(df:pl.DataFrame)->pl.DataFrame:\n",
    "    return (df\n",
    "        .with_columns(\n",
    "            QT_VOTOS_VALIDOS = pl.sum_horizontal(\"QT_VOTOS_NOMINAIS_CONVR_LEG\", \"QT_TOTAL_VOTOS_LEG_VALIDOS\", \"QT_VOTOS_NOMINAIS_VALIDOS\")\n",
    "        ).drop(\"QT_VOTOS_NOMINAIS_CONVR_LEG\", \"QT_TOTAL_VOTOS_LEG_VALIDOS\", \"QT_VOTOS_NOMINAIS_VALIDOS\")\n",
    "    )"
   ]
  },
  {
   "cell_type": "code",
   "execution_count": 18,
   "id": "3f9dc252-ad36-48ce-ad58-3a9f9d330698",
   "metadata": {},
   "outputs": [],
   "source": [
    "df_poll_18_filtered = sum_suffrage(df_poll_18_filtered)"
   ]
  },
  {
   "cell_type": "code",
   "execution_count": 19,
   "id": "22c5e591-f2b8-4ad4-af25-50720bfa241f",
   "metadata": {},
   "outputs": [],
   "source": [
    "df_poll_22_filtered = sum_suffrage(df_poll_22_filtered)"
   ]
  },
  {
   "cell_type": "code",
   "execution_count": 20,
   "id": "5019503c-6e40-448f-83f1-7b2024050ffd",
   "metadata": {},
   "outputs": [
    {
     "name": "stdout",
     "output_type": "stream",
     "text": [
      "shape: (586_244, 14)\n",
      "┌─────────────┬────────────────┬───────┬───────┬───┬────────────┬───────────────┬──────────────────────┬──────────────────┐\n",
      "│ ANO_ELEICAO ┆ TP_ABRANGENCIA ┆ SG_UF ┆ SG_UE ┆ … ┆ NR_PARTIDO ┆ SG_PARTIDO    ┆ NM_PARTIDO           ┆ QT_VOTOS_VALIDOS │\n",
      "│ ---         ┆ ---            ┆ ---   ┆ ---   ┆   ┆ ---        ┆ ---           ┆ ---                  ┆ ---              │\n",
      "│ i64         ┆ str            ┆ str   ┆ str   ┆   ┆ i64        ┆ str           ┆ str                  ┆ i64              │\n",
      "╞═════════════╪════════════════╪═══════╪═══════╪═══╪════════════╪═══════════════╪══════════════════════╪══════════════════╡\n",
      "│ 2018        ┆ E              ┆ PE    ┆ PE    ┆ … ┆ 77         ┆ SOLIDARIEDADE ┆ Solidariedade        ┆ 148              │\n",
      "│ 2018        ┆ E              ┆ PE    ┆ PE    ┆ … ┆ 77         ┆ SOLIDARIEDADE ┆ Solidariedade        ┆ 32               │\n",
      "│ 2018        ┆ E              ┆ PE    ┆ PE    ┆ … ┆ 77         ┆ SOLIDARIEDADE ┆ Solidariedade        ┆ 38               │\n",
      "│ 2018        ┆ E              ┆ PE    ┆ PE    ┆ … ┆ 77         ┆ SOLIDARIEDADE ┆ Solidariedade        ┆ 15               │\n",
      "│ 2018        ┆ E              ┆ PE    ┆ PE    ┆ … ┆ 77         ┆ SOLIDARIEDADE ┆ Solidariedade        ┆ 212              │\n",
      "│ …           ┆ …              ┆ …     ┆ …     ┆ … ┆ …          ┆ …             ┆ …                    ┆ …                │\n",
      "│ 2018        ┆ E              ┆ TO    ┆ TO    ┆ … ┆ 11         ┆ PP            ┆ Partido Progressista ┆ 237              │\n",
      "│ 2018        ┆ E              ┆ TO    ┆ TO    ┆ … ┆ 11         ┆ PP            ┆ Partido Progressista ┆ 748              │\n",
      "│ 2018        ┆ E              ┆ TO    ┆ TO    ┆ … ┆ 11         ┆ PP            ┆ Partido Progressista ┆ 12               │\n",
      "│ 2018        ┆ E              ┆ TO    ┆ TO    ┆ … ┆ 11         ┆ PP            ┆ Partido Progressista ┆ 10               │\n",
      "│ 2018        ┆ E              ┆ TO    ┆ TO    ┆ … ┆ 11         ┆ PP            ┆ Partido Progressista ┆ 319              │\n",
      "└─────────────┴────────────────┴───────┴───────┴───┴────────────┴───────────────┴──────────────────────┴──────────────────┘\n"
     ]
    }
   ],
   "source": [
    "print(df_poll_18_filtered)"
   ]
  },
  {
   "cell_type": "code",
   "execution_count": 21,
   "id": "2287215b-0e35-48f3-9402-5bceb93bc5a3",
   "metadata": {},
   "outputs": [
    {
     "name": "stdout",
     "output_type": "stream",
     "text": [
      "shape: (506_959, 14)\n",
      "┌─────────────┬────────────────┬───────┬───────┬───┬────────────┬────────────┬─────────────────────────────────┬──────────────────┐\n",
      "│ ANO_ELEICAO ┆ TP_ABRANGENCIA ┆ SG_UF ┆ SG_UE ┆ … ┆ NR_PARTIDO ┆ SG_PARTIDO ┆ NM_PARTIDO                      ┆ QT_VOTOS_VALIDOS │\n",
      "│ ---         ┆ ---            ┆ ---   ┆ ---   ┆   ┆ ---        ┆ ---        ┆ ---                             ┆ ---              │\n",
      "│ i64         ┆ str            ┆ str   ┆ str   ┆   ┆ i64        ┆ str        ┆ str                             ┆ i64              │\n",
      "╞═════════════╪════════════════╪═══════╪═══════╪═══╪════════════╪════════════╪═════════════════════════════════╪══════════════════╡\n",
      "│ 2022        ┆ E              ┆ RS    ┆ RS    ┆ … ┆ 30         ┆ NOVO       ┆ Partido Novo                    ┆ 69               │\n",
      "│ 2022        ┆ E              ┆ MT    ┆ MT    ┆ … ┆ 40         ┆ PSB        ┆ Partido Socialista Brasileiro   ┆ 641              │\n",
      "│ 2022        ┆ E              ┆ SC    ┆ SC    ┆ … ┆ 22         ┆ PL         ┆ Partido Liberal                 ┆ 608              │\n",
      "│ 2022        ┆ E              ┆ RS    ┆ RS    ┆ … ┆ 23         ┆ CIDADANIA  ┆ Cidadania                       ┆ 156              │\n",
      "│ 2022        ┆ E              ┆ MT    ┆ MT    ┆ … ┆ 15         ┆ MDB        ┆ Movimento Democrático Brasilei… ┆ 1764             │\n",
      "│ …           ┆ …              ┆ …     ┆ …     ┆ … ┆ …          ┆ …          ┆ …                               ┆ …                │\n",
      "│ 2022        ┆ E              ┆ PR    ┆ PR    ┆ … ┆ 36         ┆ AGIR       ┆ AGIR                            ┆ 38               │\n",
      "│ 2022        ┆ E              ┆ PE    ┆ PE    ┆ … ┆ 36         ┆ AGIR       ┆ AGIR                            ┆ 5                │\n",
      "│ 2022        ┆ E              ┆ PR    ┆ PR    ┆ … ┆ 22         ┆ PL         ┆ Partido Liberal                 ┆ 1597             │\n",
      "│ 2022        ┆ E              ┆ SP    ┆ SP    ┆ … ┆ 27         ┆ DC         ┆ Democracia Cristã               ┆ 10               │\n",
      "│ 2022        ┆ E              ┆ MG    ┆ MG    ┆ … ┆ 43         ┆ PV         ┆ Partido Verde                   ┆ 4                │\n",
      "└─────────────┴────────────────┴───────┴───────┴───┴────────────┴────────────┴─────────────────────────────────┴──────────────────┘\n"
     ]
    }
   ],
   "source": [
    "print(df_poll_22_filtered)"
   ]
  },
  {
   "cell_type": "markdown",
   "id": "e4394af1-60d2-42d8-b8a3-0ba44b675757",
   "metadata": {},
   "source": [
    "_Agora, a feature 'QT_VOTOS_VALIDOS' é somando todos os votos válidos por partido e zona eleitoral._"
   ]
  },
  {
   "cell_type": "markdown",
   "id": "cb6d4516-8abc-485e-a6ba-c80396eb7fa6",
   "metadata": {},
   "source": [
    "#### Guardar os datasets da eleições com os tratamentos até aqui"
   ]
  },
  {
   "cell_type": "code",
   "execution_count": 22,
   "id": "9a8e876f-7dd7-4b49-980c-15b48c1743ac",
   "metadata": {},
   "outputs": [],
   "source": [
    "#salvar o processamento até aqui\n",
    "df_poll_18_filtered.write_parquet(os.path.join(root, \"eleicao18_turno_01.parquet\"))\n",
    "df_poll_22_filtered.write_parquet(os.path.join(root, \"eleicao22_turno_01.parquet\"))"
   ]
  },
  {
   "cell_type": "markdown",
   "id": "55c0aae5-de4d-4079-a96b-f9b84d39a9df",
   "metadata": {},
   "source": [
    "#### Criar integração entre partidos que mudaram de nome ou se aglutinaram ou foram absorvidos por outros"
   ]
  },
  {
   "cell_type": "markdown",
   "id": "85bec948-8ca2-4da4-8260-c95dc453493c",
   "metadata": {},
   "source": [
    "Para 2018"
   ]
  },
  {
   "cell_type": "code",
   "execution_count": 23,
   "id": "316f1360-8ceb-4de1-92fb-7d2cc4e216d8",
   "metadata": {},
   "outputs": [
    {
     "data": {
      "text/plain": [
       "{'DEM',\n",
       " 'PATRI',\n",
       " 'PC do B',\n",
       " 'PHS',\n",
       " 'PMN',\n",
       " 'PPS',\n",
       " 'PR',\n",
       " 'PRB',\n",
       " 'PROS',\n",
       " 'PRP',\n",
       " 'PSC',\n",
       " 'PSL',\n",
       " 'PTB',\n",
       " 'PTC'}"
      ]
     },
     "execution_count": 23,
     "metadata": {},
     "output_type": "execute_result"
    }
   ],
   "source": [
    "set(df_poll_18_filtered.get_column(\"SG_PARTIDO\")).difference(set(df_partidos.get_column(\"SG_PARTIDO\")))"
   ]
  },
  {
   "cell_type": "markdown",
   "id": "5db9e381-fb9b-44c3-8d8b-fe34316f8248",
   "metadata": {},
   "source": [
    "_Alguns partidos da aleição de 2018 não estão na lista de partidos carregada, cada partido destes será analisado individualmente para classificação ideológica._\n",
    "\n",
    "* **DEM** _fundiu-se com o **PSL** e gerou o **União Brasil**_;\n",
    "* **PATRI**, _também conhecido como Patriota, fundiu-se com o **PTB** e gerou o **PRD**_;\n",
    "* **PC do B** _está na lista porque a sigla no dataset de partidos está **PCdoB**_;\n",
    "* **PHS** _foi incorporado ao **PODE(Podemos)**_;\n",
    "* **PPL** _foi extinto em 2019_;\n",
    "* **PPS** _virou **CIDADANIA** em 2019_;\n",
    "* **PR** _virou **PL** em 2019_;\n",
    "* **PRB** _virou **REPUBLICANOS** em 2019_;\n",
    "* **PROS** _foi incorporado ao **SOLIDARIEDADE** em 2022_;\n",
    "* **PRP** _foi incorporado ao **PATRIOTA** que se juntou ao **PTB** para formar o **PRD**_;\n",
    "* **PSC** _foi incorporado ao **PODE(Podemos)** em 2022_;\n",
    "* **PSL** _fundiu-se com o **DEM** e gerou o **União Brasil**_;\n",
    "* **PTB** _fundiu-se com o **PATRIOTA** e gerou o **PRD**_;\n",
    "* **PTC** _virou o **Agir** em 2022._"
   ]
  },
  {
   "cell_type": "markdown",
   "id": "d52c976b-aef2-4303-80e1-dd65e72eb276",
   "metadata": {},
   "source": [
    "_Função para criação da coluna de integração entre partidos_"
   ]
  },
  {
   "cell_type": "code",
   "execution_count": 24,
   "id": "fd154e1c-7e70-425b-b97d-b076c5f247b4",
   "metadata": {},
   "outputs": [],
   "source": [
    "def create_integ_col(df:pl.DataFrame)-> pl.DataFrame:\n",
    "    return (\n",
    "        df\n",
    "        .with_columns(\n",
    "            SIGLA_2022 = pl.when(pl.col(\"SG_PARTIDO\").is_in([\"DEM\",\"PSL\"])).then(pl.lit(\"UNIÃO\")).otherwise(\n",
    "                                pl.when(pl.col(\"SG_PARTIDO\").is_in([\"PATRI\", \"PATRIOTA\", \"PTB\", \"PRP\"])).then(pl.lit(\"PRD\")).otherwise(\n",
    "                                    pl.when(pl.col(\"SG_PARTIDO\")==\"PC do B\").then(pl.lit(\"PCdoB\")).otherwise(\n",
    "                                        pl.when(pl.col(\"SG_PARTIDO\").is_in([\"PHS\",\"PSC\"])).then(pl.lit(\"PODE\")).otherwise(\n",
    "                                            pl.when(pl.col(\"SG_PARTIDO\")==\"PPS\").then(pl.lit(\"CIDADANIA\")).otherwise(\n",
    "                                                pl.when(pl.col(\"SG_PARTIDO\")==\"PR\").then(pl.lit(\"PL\")).otherwise(\n",
    "                                                    pl.when(pl.col(\"SG_PARTIDO\")==\"PRB\").then(pl.lit(\"REPUBLICANOS\")).otherwise(\n",
    "                                                        pl.when(pl.col(\"SG_PARTIDO\")==\"PROS\").then(pl.lit(\"SOLIDARIEDADE\")).otherwise(\n",
    "                                                            pl.when(pl.col(\"SG_PARTIDO\")==\"PTC\").then(pl.lit(\"AGIR\")).otherwise(\n",
    "                                                                pl.when(pl.col(\"SG_PARTIDO\")==\"PMN\").then(pl.lit(\"MOBILIZA\")).otherwise(\n",
    "                                                                    pl.col(\"SG_PARTIDO\")\n",
    "                                                                )\n",
    "                                                            )\n",
    "                                                        )\n",
    "                                                    )\n",
    "                                                )\n",
    "                                            )\n",
    "                                        )\n",
    "                                    )\n",
    "                                )\n",
    "                            )\n",
    "                        )\n",
    "    )"
   ]
  },
  {
   "cell_type": "code",
   "execution_count": 25,
   "id": "2484d8d9-023f-48ae-b044-463045f3d7f4",
   "metadata": {},
   "outputs": [],
   "source": [
    "df_poll_18_filtered = create_integ_col(df_poll_18_filtered)"
   ]
  },
  {
   "cell_type": "code",
   "execution_count": 26,
   "id": "438b3671-3e35-4354-9c72-684a6c524fa9",
   "metadata": {},
   "outputs": [
    {
     "name": "stdout",
     "output_type": "stream",
     "text": [
      "shape: (586_244, 15)\n",
      "┌─────────────┬────────────────┬───────┬───────┬───┬───────────────┬──────────────────────┬──────────────────┬───────────────┐\n",
      "│ ANO_ELEICAO ┆ TP_ABRANGENCIA ┆ SG_UF ┆ SG_UE ┆ … ┆ SG_PARTIDO    ┆ NM_PARTIDO           ┆ QT_VOTOS_VALIDOS ┆ SIGLA_2022    │\n",
      "│ ---         ┆ ---            ┆ ---   ┆ ---   ┆   ┆ ---           ┆ ---                  ┆ ---              ┆ ---           │\n",
      "│ i64         ┆ str            ┆ str   ┆ str   ┆   ┆ str           ┆ str                  ┆ i64              ┆ str           │\n",
      "╞═════════════╪════════════════╪═══════╪═══════╪═══╪═══════════════╪══════════════════════╪══════════════════╪═══════════════╡\n",
      "│ 2018        ┆ E              ┆ PE    ┆ PE    ┆ … ┆ SOLIDARIEDADE ┆ Solidariedade        ┆ 148              ┆ SOLIDARIEDADE │\n",
      "│ 2018        ┆ E              ┆ PE    ┆ PE    ┆ … ┆ SOLIDARIEDADE ┆ Solidariedade        ┆ 32               ┆ SOLIDARIEDADE │\n",
      "│ 2018        ┆ E              ┆ PE    ┆ PE    ┆ … ┆ SOLIDARIEDADE ┆ Solidariedade        ┆ 38               ┆ SOLIDARIEDADE │\n",
      "│ 2018        ┆ E              ┆ PE    ┆ PE    ┆ … ┆ SOLIDARIEDADE ┆ Solidariedade        ┆ 15               ┆ SOLIDARIEDADE │\n",
      "│ 2018        ┆ E              ┆ PE    ┆ PE    ┆ … ┆ SOLIDARIEDADE ┆ Solidariedade        ┆ 212              ┆ SOLIDARIEDADE │\n",
      "│ …           ┆ …              ┆ …     ┆ …     ┆ … ┆ …             ┆ …                    ┆ …                ┆ …             │\n",
      "│ 2018        ┆ E              ┆ TO    ┆ TO    ┆ … ┆ PP            ┆ Partido Progressista ┆ 237              ┆ PP            │\n",
      "│ 2018        ┆ E              ┆ TO    ┆ TO    ┆ … ┆ PP            ┆ Partido Progressista ┆ 748              ┆ PP            │\n",
      "│ 2018        ┆ E              ┆ TO    ┆ TO    ┆ … ┆ PP            ┆ Partido Progressista ┆ 12               ┆ PP            │\n",
      "│ 2018        ┆ E              ┆ TO    ┆ TO    ┆ … ┆ PP            ┆ Partido Progressista ┆ 10               ┆ PP            │\n",
      "│ 2018        ┆ E              ┆ TO    ┆ TO    ┆ … ┆ PP            ┆ Partido Progressista ┆ 319              ┆ PP            │\n",
      "└─────────────┴────────────────┴───────┴───────┴───┴───────────────┴──────────────────────┴──────────────────┴───────────────┘\n"
     ]
    }
   ],
   "source": [
    "print(df_poll_18_filtered)"
   ]
  },
  {
   "cell_type": "code",
   "execution_count": 27,
   "id": "98c6a73d-8931-4fb8-9141-1fe0065d936c",
   "metadata": {},
   "outputs": [
    {
     "data": {
      "text/plain": [
       "set()"
      ]
     },
     "execution_count": 27,
     "metadata": {},
     "output_type": "execute_result"
    }
   ],
   "source": [
    "set(df_poll_18_filtered.get_column(\"SIGLA_2022\")).difference(set(df_partidos.get_column(\"SG_PARTIDO\")))"
   ]
  },
  {
   "cell_type": "markdown",
   "id": "86d01ccc-4a2c-4aeb-958a-a8471cc78066",
   "metadata": {},
   "source": [
    "_Integração entre legendas que mudaram ao longo tempo executada para eleições de **2018**._\n",
    "\n",
    "_Todos os partidos na coluna **_SIGLA_2022_** estão na base dos partidos._"
   ]
  },
  {
   "cell_type": "markdown",
   "id": "beb20492-64e5-4b2c-9f4e-0efaca287d48",
   "metadata": {},
   "source": [
    "Para 2022"
   ]
  },
  {
   "cell_type": "code",
   "execution_count": 28,
   "id": "ed9f8e89-4c6d-431a-979e-38d998a856ee",
   "metadata": {},
   "outputs": [
    {
     "data": {
      "text/plain": [
       "{'PATRIOTA', 'PC do B', 'PMN', 'PROS', 'PSC', 'PTB'}"
      ]
     },
     "execution_count": 28,
     "metadata": {},
     "output_type": "execute_result"
    }
   ],
   "source": [
    "set(df_poll_22_filtered.get_column(\"SG_PARTIDO\")).difference(set(df_partidos.get_column(\"SG_PARTIDO\")))"
   ]
  },
  {
   "cell_type": "markdown",
   "id": "531b2e65-dd6d-44b1-a7ae-3dfaaa918340",
   "metadata": {},
   "source": [
    "_Em 2022, a única regra nova aplicada será transformar o **PATRIOTA** em **PRD**._"
   ]
  },
  {
   "cell_type": "code",
   "execution_count": 29,
   "id": "b8dd7066-2744-468e-a06d-652b97c309f0",
   "metadata": {},
   "outputs": [],
   "source": [
    "df_poll_22_filtered = create_integ_col(df_poll_22_filtered)"
   ]
  },
  {
   "cell_type": "code",
   "execution_count": 30,
   "id": "d79dcbcd-979b-4bb8-8df2-12e03350763e",
   "metadata": {},
   "outputs": [
    {
     "name": "stdout",
     "output_type": "stream",
     "text": [
      "shape: (5, 15)\n",
      "┌─────────────┬────────────────┬───────┬───────┬───┬────────────┬─────────────────────────────────┬──────────────────┬────────────┐\n",
      "│ ANO_ELEICAO ┆ TP_ABRANGENCIA ┆ SG_UF ┆ SG_UE ┆ … ┆ SG_PARTIDO ┆ NM_PARTIDO                      ┆ QT_VOTOS_VALIDOS ┆ SIGLA_2022 │\n",
      "│ ---         ┆ ---            ┆ ---   ┆ ---   ┆   ┆ ---        ┆ ---                             ┆ ---              ┆ ---        │\n",
      "│ i64         ┆ str            ┆ str   ┆ str   ┆   ┆ str        ┆ str                             ┆ i64              ┆ str        │\n",
      "╞═════════════╪════════════════╪═══════╪═══════╪═══╪════════════╪═════════════════════════════════╪══════════════════╪════════════╡\n",
      "│ 2022        ┆ E              ┆ RS    ┆ RS    ┆ … ┆ NOVO       ┆ Partido Novo                    ┆ 69               ┆ NOVO       │\n",
      "│ 2022        ┆ E              ┆ MT    ┆ MT    ┆ … ┆ PSB        ┆ Partido Socialista Brasileiro   ┆ 641              ┆ PSB        │\n",
      "│ 2022        ┆ E              ┆ SC    ┆ SC    ┆ … ┆ PL         ┆ Partido Liberal                 ┆ 608              ┆ PL         │\n",
      "│ 2022        ┆ E              ┆ RS    ┆ RS    ┆ … ┆ CIDADANIA  ┆ Cidadania                       ┆ 156              ┆ CIDADANIA  │\n",
      "│ 2022        ┆ E              ┆ MT    ┆ MT    ┆ … ┆ MDB        ┆ Movimento Democrático Brasilei… ┆ 1764             ┆ MDB        │\n",
      "└─────────────┴────────────────┴───────┴───────┴───┴────────────┴─────────────────────────────────┴──────────────────┴────────────┘\n"
     ]
    }
   ],
   "source": [
    "print(df_poll_22_filtered.head())"
   ]
  },
  {
   "cell_type": "code",
   "execution_count": 31,
   "id": "4d330a08-e384-42b6-89a3-ed8c759a84b5",
   "metadata": {},
   "outputs": [
    {
     "data": {
      "text/plain": [
       "set()"
      ]
     },
     "execution_count": 31,
     "metadata": {},
     "output_type": "execute_result"
    }
   ],
   "source": [
    "set(df_poll_22_filtered.get_column(\"SIGLA_2022\")).difference(set(df_partidos.get_column(\"SG_PARTIDO\")))"
   ]
  },
  {
   "cell_type": "markdown",
   "id": "9725557b-10bc-4e8b-866c-69cc761d7307",
   "metadata": {},
   "source": [
    "_Integração entre legendas que mudaram ao longo tempo executada para eleições de **2022**._\n",
    "\n",
    "_Todos os partidos na coluna **_SIGLA_2022_** estão na base dos partidos._"
   ]
  },
  {
   "cell_type": "markdown",
   "id": "45c152a0-f41b-4df3-a7b4-69db015aacd7",
   "metadata": {},
   "source": [
    "#### Guardar os datasets da eleições com os tratamentos até aqui"
   ]
  },
  {
   "cell_type": "code",
   "execution_count": 32,
   "id": "64069d8a-9536-4297-8be9-402707cc5562",
   "metadata": {},
   "outputs": [],
   "source": [
    "#salvar o processamento até aqui\n",
    "df_poll_18_filtered.write_parquet(os.path.join(root, \"eleicao18_turno_01.parquet\"))\n",
    "df_poll_22_filtered.write_parquet(os.path.join(root, \"eleicao22_turno_01.parquet\"))"
   ]
  },
  {
   "cell_type": "markdown",
   "id": "04f8bf3d-910b-49ee-9238-9d65b3c55590",
   "metadata": {},
   "source": [
    "#### Adição do posicionamento ideológico nos datasets das eleições"
   ]
  },
  {
   "cell_type": "code",
   "execution_count": 33,
   "id": "7db101ff-91a5-4eb2-bbfb-c1ee75f5d828",
   "metadata": {},
   "outputs": [
    {
     "name": "stdout",
     "output_type": "stream",
     "text": [
      "(586244, 15)\n",
      "(506959, 15)\n"
     ]
    }
   ],
   "source": [
    "print(df_poll_18_filtered.shape)\n",
    "print(df_poll_22_filtered.shape)"
   ]
  },
  {
   "cell_type": "code",
   "execution_count": 34,
   "id": "665746fe-8a94-449e-ac35-1a9204d0896a",
   "metadata": {},
   "outputs": [],
   "source": [
    "# Precisamos apenas das 3 colunas\n",
    "df_parties = df_partidos.select(pl.col(\"SG_PARTIDO\"), pl.col(\"POSIC_IDEOLOGICO\"), pl.col(\"SG_POSIC_IDEOLOGICO\"))"
   ]
  },
  {
   "cell_type": "code",
   "execution_count": 35,
   "id": "e25a0a83-c216-4cf8-b8e5-8055c87bcbb6",
   "metadata": {},
   "outputs": [],
   "source": [
    "# Este join garante a associação entre o posicionamento político do partido e o voto\n",
    "df_poll_18_filtered = (df_poll_18_filtered\n",
    "    .join(df_parties, left_on=\"SIGLA_2022\", right_on=\"SG_PARTIDO\", how=\"inner\")\n",
    ")"
   ]
  },
  {
   "cell_type": "code",
   "execution_count": 36,
   "id": "a0b60e40-3160-4ee8-9696-476bff93c109",
   "metadata": {},
   "outputs": [
    {
     "data": {
      "text/plain": [
       "(586244, 17)"
      ]
     },
     "execution_count": 36,
     "metadata": {},
     "output_type": "execute_result"
    }
   ],
   "source": [
    "df_poll_18_filtered.shape"
   ]
  },
  {
   "cell_type": "code",
   "execution_count": 37,
   "id": "9411e76e-c1c8-4806-bd20-2a8bd551788d",
   "metadata": {},
   "outputs": [
    {
     "name": "stdout",
     "output_type": "stream",
     "text": [
      "shape: (586_244, 17)\n",
      "┌─────────────┬────────────────┬───────┬───────┬────────────┬───┬──────────────────────┬──────────────────┬───────────────┬──────────────────┬─────────────────────┐\n",
      "│ ANO_ELEICAO ┆ TP_ABRANGENCIA ┆ SG_UF ┆ SG_UE ┆ NM_UE      ┆ … ┆ NM_PARTIDO           ┆ QT_VOTOS_VALIDOS ┆ SIGLA_2022    ┆ POSIC_IDEOLOGICO ┆ SG_POSIC_IDEOLOGICO │\n",
      "│ ---         ┆ ---            ┆ ---   ┆ ---   ┆ ---        ┆   ┆ ---                  ┆ ---              ┆ ---           ┆ ---              ┆ ---                 │\n",
      "│ i64         ┆ str            ┆ str   ┆ str   ┆ str        ┆   ┆ str                  ┆ i64              ┆ str           ┆ str              ┆ str                 │\n",
      "╞═════════════╪════════════════╪═══════╪═══════╪════════════╪═══╪══════════════════════╪══════════════════╪═══════════════╪══════════════════╪═════════════════════╡\n",
      "│ 2018        ┆ E              ┆ PE    ┆ PE    ┆ PERNAMBUCO ┆ … ┆ Solidariedade        ┆ 148              ┆ SOLIDARIEDADE ┆ Centro Direita   ┆ CD                  │\n",
      "│ 2018        ┆ E              ┆ PE    ┆ PE    ┆ PERNAMBUCO ┆ … ┆ Solidariedade        ┆ 32               ┆ SOLIDARIEDADE ┆ Centro Direita   ┆ CD                  │\n",
      "│ 2018        ┆ E              ┆ PE    ┆ PE    ┆ PERNAMBUCO ┆ … ┆ Solidariedade        ┆ 38               ┆ SOLIDARIEDADE ┆ Centro Direita   ┆ CD                  │\n",
      "│ 2018        ┆ E              ┆ PE    ┆ PE    ┆ PERNAMBUCO ┆ … ┆ Solidariedade        ┆ 15               ┆ SOLIDARIEDADE ┆ Centro Direita   ┆ CD                  │\n",
      "│ 2018        ┆ E              ┆ PE    ┆ PE    ┆ PERNAMBUCO ┆ … ┆ Solidariedade        ┆ 212              ┆ SOLIDARIEDADE ┆ Centro Direita   ┆ CD                  │\n",
      "│ …           ┆ …              ┆ …     ┆ …     ┆ …          ┆ … ┆ …                    ┆ …                ┆ …             ┆ …                ┆ …                   │\n",
      "│ 2018        ┆ E              ┆ TO    ┆ TO    ┆ TOCANTINS  ┆ … ┆ Partido Progressista ┆ 237              ┆ PP            ┆ Direita          ┆ D                   │\n",
      "│ 2018        ┆ E              ┆ TO    ┆ TO    ┆ TOCANTINS  ┆ … ┆ Partido Progressista ┆ 748              ┆ PP            ┆ Direita          ┆ D                   │\n",
      "│ 2018        ┆ E              ┆ TO    ┆ TO    ┆ TOCANTINS  ┆ … ┆ Partido Progressista ┆ 12               ┆ PP            ┆ Direita          ┆ D                   │\n",
      "│ 2018        ┆ E              ┆ TO    ┆ TO    ┆ TOCANTINS  ┆ … ┆ Partido Progressista ┆ 10               ┆ PP            ┆ Direita          ┆ D                   │\n",
      "│ 2018        ┆ E              ┆ TO    ┆ TO    ┆ TOCANTINS  ┆ … ┆ Partido Progressista ┆ 319              ┆ PP            ┆ Direita          ┆ D                   │\n",
      "└─────────────┴────────────────┴───────┴───────┴────────────┴───┴──────────────────────┴──────────────────┴───────────────┴──────────────────┴─────────────────────┘\n"
     ]
    }
   ],
   "source": [
    "with pl.Config() as cfg:\n",
    "    cfg.set_tbl_cols(10)\n",
    "    print(df_poll_18_filtered)"
   ]
  },
  {
   "cell_type": "markdown",
   "id": "e802ed74-bdd0-4b54-909a-1ddb35f853b8",
   "metadata": {},
   "source": [
    "_Duas novas colunas foram adicionadas: POSIC_IDEOLOGICO e SG_POSIC_IDEOLOGICO._"
   ]
  },
  {
   "cell_type": "code",
   "execution_count": 38,
   "id": "fdc34cf4-6427-4166-8dbc-854325cce242",
   "metadata": {},
   "outputs": [],
   "source": [
    "# Este join garante a associação entre o posicionamento político do partido e o voto\n",
    "df_poll_22_filtered = (df_poll_22_filtered\n",
    "    .join(df_parties, left_on=\"SIGLA_2022\", right_on=\"SG_PARTIDO\", how=\"inner\")\n",
    ")"
   ]
  },
  {
   "cell_type": "code",
   "execution_count": 39,
   "id": "7e6e5a8f-5e77-4311-b8eb-eb3df75e044e",
   "metadata": {},
   "outputs": [
    {
     "data": {
      "text/plain": [
       "(506959, 17)"
      ]
     },
     "execution_count": 39,
     "metadata": {},
     "output_type": "execute_result"
    }
   ],
   "source": [
    "df_poll_22_filtered.shape"
   ]
  },
  {
   "cell_type": "code",
   "execution_count": 40,
   "id": "38d5dabc-cae8-4ace-af00-6a8f57a77051",
   "metadata": {},
   "outputs": [
    {
     "name": "stdout",
     "output_type": "stream",
     "text": [
      "shape: (506_959, 17)\n",
      "┌─────────────┬────────────────┬───────┬───────┬───────────────────┬───┬──────────────────┬────────────┬──────────────────┬─────────────────────┐\n",
      "│ ANO_ELEICAO ┆ TP_ABRANGENCIA ┆ SG_UF ┆ SG_UE ┆ NM_UE             ┆ … ┆ QT_VOTOS_VALIDOS ┆ SIGLA_2022 ┆ POSIC_IDEOLOGICO ┆ SG_POSIC_IDEOLOGICO │\n",
      "│ ---         ┆ ---            ┆ ---   ┆ ---   ┆ ---               ┆   ┆ ---              ┆ ---        ┆ ---              ┆ ---                 │\n",
      "│ i64         ┆ str            ┆ str   ┆ str   ┆ str               ┆   ┆ i64              ┆ str        ┆ str              ┆ str                 │\n",
      "╞═════════════╪════════════════╪═══════╪═══════╪═══════════════════╪═══╪══════════════════╪════════════╪══════════════════╪═════════════════════╡\n",
      "│ 2022        ┆ E              ┆ RS    ┆ RS    ┆ RIO GRANDE DO SUL ┆ … ┆ 69               ┆ NOVO       ┆ Direita          ┆ D                   │\n",
      "│ 2022        ┆ E              ┆ MT    ┆ MT    ┆ MATO GROSSO       ┆ … ┆ 641              ┆ PSB        ┆ Centro Esquerda  ┆ CE                  │\n",
      "│ 2022        ┆ E              ┆ SC    ┆ SC    ┆ SANTA CATARINA    ┆ … ┆ 608              ┆ PL         ┆ Direita          ┆ D                   │\n",
      "│ 2022        ┆ E              ┆ RS    ┆ RS    ┆ RIO GRANDE DO SUL ┆ … ┆ 156              ┆ CIDADANIA  ┆ Centro           ┆ C                   │\n",
      "│ 2022        ┆ E              ┆ MT    ┆ MT    ┆ MATO GROSSO       ┆ … ┆ 1764             ┆ MDB        ┆ Centro Direita   ┆ CD                  │\n",
      "│ …           ┆ …              ┆ …     ┆ …     ┆ …                 ┆ … ┆ …                ┆ …          ┆ …                ┆ …                   │\n",
      "│ 2022        ┆ E              ┆ PR    ┆ PR    ┆ PARANÁ            ┆ … ┆ 38               ┆ AGIR       ┆ Direita          ┆ D                   │\n",
      "│ 2022        ┆ E              ┆ PE    ┆ PE    ┆ PERNAMBUCO        ┆ … ┆ 5                ┆ AGIR       ┆ Direita          ┆ D                   │\n",
      "│ 2022        ┆ E              ┆ PR    ┆ PR    ┆ PARANÁ            ┆ … ┆ 1597             ┆ PL         ┆ Direita          ┆ D                   │\n",
      "│ 2022        ┆ E              ┆ SP    ┆ SP    ┆ SÃO PAULO         ┆ … ┆ 10               ┆ DC         ┆ Direita          ┆ D                   │\n",
      "│ 2022        ┆ E              ┆ MG    ┆ MG    ┆ MINAS GERAIS      ┆ … ┆ 4                ┆ PV         ┆ Centro           ┆ C                   │\n",
      "└─────────────┴────────────────┴───────┴───────┴───────────────────┴───┴──────────────────┴────────────┴──────────────────┴─────────────────────┘\n"
     ]
    }
   ],
   "source": [
    "with pl.Config() as cfg:\n",
    "    cfg.set_tbl_cols(9)\n",
    "    print(df_poll_22_filtered)"
   ]
  },
  {
   "cell_type": "markdown",
   "id": "671eb661-71d7-4d0f-a116-58ae8715ad2b",
   "metadata": {},
   "source": [
    "_Número de registros não mudou, logo, os inner join foram executados com sucesso._"
   ]
  },
  {
   "cell_type": "markdown",
   "id": "b46a89de-f1b8-4bf0-bbc7-e185bcf81a04",
   "metadata": {},
   "source": [
    "#### Guardar os datasets da eleições com os tratamentos até aqui"
   ]
  },
  {
   "cell_type": "code",
   "execution_count": 41,
   "id": "5daad7b9-a8c3-4679-b55c-943ec61f998c",
   "metadata": {},
   "outputs": [],
   "source": [
    "#salvar o processamento até aqui\n",
    "df_poll_18_filtered.write_parquet(os.path.join(root, \"eleicao18_turno_01.parquet\"))\n",
    "df_poll_22_filtered.write_parquet(os.path.join(root, \"eleicao22_turno_01.parquet\"))"
   ]
  },
  {
   "cell_type": "markdown",
   "id": "5e093997-3964-4637-8832-9b76c30ad38d",
   "metadata": {},
   "source": [
    "### 2.2 Regiões\n",
    "\n",
    "Carga do dataset das reigões e estados\n",
    "\n",
    "---"
   ]
  },
  {
   "cell_type": "code",
   "execution_count": 42,
   "id": "99447615-0392-4ac3-a70e-158e4fd06d33",
   "metadata": {},
   "outputs": [
    {
     "data": {
      "text/plain": [
       "(27, 3)"
      ]
     },
     "execution_count": 42,
     "metadata": {},
     "output_type": "execute_result"
    }
   ],
   "source": [
    "df_regioes:pl.DataFrame = sdt_f.load_parquet(os.path.join(root, regions))\n",
    "df_regioes.shape"
   ]
  },
  {
   "cell_type": "code",
   "execution_count": 43,
   "id": "d2ea9d4b-4df3-43e6-9777-52c357b10ffd",
   "metadata": {},
   "outputs": [
    {
     "name": "stdout",
     "output_type": "stream",
     "text": [
      "shape: (27, 3)\n",
      "┌─────┬───────────┬───────────┐\n",
      "│ UF  ┆ SG_REGIAO ┆ NM_REGIAO │\n",
      "│ --- ┆ ---       ┆ ---       │\n",
      "│ str ┆ str       ┆ str       │\n",
      "╞═════╪═══════════╪═══════════╡\n",
      "│ AM  ┆ N         ┆ Norte     │\n",
      "│ RR  ┆ N         ┆ Norte     │\n",
      "│ AP  ┆ N         ┆ Norte     │\n",
      "│ PA  ┆ N         ┆ Norte     │\n",
      "│ TO  ┆ N         ┆ Norte     │\n",
      "│ …   ┆ …         ┆ …         │\n",
      "│ ES  ┆ SE        ┆ Sudeste   │\n",
      "│ MG  ┆ SE        ┆ Sudeste   │\n",
      "│ PR  ┆ S         ┆ Sul       │\n",
      "│ RS  ┆ S         ┆ Sul       │\n",
      "│ SC  ┆ S         ┆ Sul       │\n",
      "└─────┴───────────┴───────────┘\n"
     ]
    }
   ],
   "source": [
    "print(df_regioes)"
   ]
  },
  {
   "cell_type": "markdown",
   "id": "64b4c21e-d7d0-40ff-ac7a-b58e9f9a1f1d",
   "metadata": {},
   "source": [
    "#### Registros duplicados"
   ]
  },
  {
   "cell_type": "code",
   "execution_count": 44,
   "id": "0c7f5171-5036-4800-bf5d-5c3e316c62b0",
   "metadata": {},
   "outputs": [
    {
     "data": {
      "text/plain": [
       "0"
      ]
     },
     "execution_count": 44,
     "metadata": {},
     "output_type": "execute_result"
    }
   ],
   "source": [
    "df_regioes.is_duplicated().sum()"
   ]
  },
  {
   "cell_type": "markdown",
   "id": "63d05011-df5f-43b3-9caa-8431f86521f4",
   "metadata": {},
   "source": [
    "_Sem registros duplicados._"
   ]
  },
  {
   "cell_type": "markdown",
   "id": "fd62949d-c1ee-4fb9-92bb-233f45785ee4",
   "metadata": {},
   "source": [
    "#### Valores nulos"
   ]
  },
  {
   "cell_type": "code",
   "execution_count": 45,
   "id": "84ea6f5d-0789-4df4-88a1-fc863988de59",
   "metadata": {},
   "outputs": [
    {
     "data": {
      "text/plain": [
       "{'UF': 0, 'SG_REGIAO': 0, 'NM_REGIAO': 0}"
      ]
     },
     "execution_count": 45,
     "metadata": {},
     "output_type": "execute_result"
    }
   ],
   "source": [
    "df_regioes.select(pl.all().is_null().sum()).to_dicts()[0]"
   ]
  },
  {
   "cell_type": "markdown",
   "id": "b05d8e02-f8d9-4d03-a0ba-28be9ece1c5b",
   "metadata": {},
   "source": [
    "_Nenhum valor nulo._"
   ]
  },
  {
   "cell_type": "markdown",
   "id": "18916057-6c68-4b91-aaba-1fca41241c9e",
   "metadata": {},
   "source": [
    "#### Adicionar região \"exterior\" às regiões"
   ]
  },
  {
   "cell_type": "code",
   "execution_count": 46,
   "id": "953bbafd-7b56-4aef-ad72-19410d678d42",
   "metadata": {},
   "outputs": [],
   "source": [
    "df_regioes = pl.concat([df_regioes, pl.DataFrame([{\"UF\":\"ZZ\", \"SG_REGIAO\":\"ZZ\", \"NM_REGIAO\":\"Exterior\"}])])"
   ]
  },
  {
   "cell_type": "code",
   "execution_count": 47,
   "id": "2ef79a90-92cf-406b-8d70-a6b32285bd9d",
   "metadata": {},
   "outputs": [
    {
     "name": "stdout",
     "output_type": "stream",
     "text": [
      "shape: (28, 3)\n",
      "┌─────┬───────────┬───────────┐\n",
      "│ UF  ┆ SG_REGIAO ┆ NM_REGIAO │\n",
      "│ --- ┆ ---       ┆ ---       │\n",
      "│ str ┆ str       ┆ str       │\n",
      "╞═════╪═══════════╪═══════════╡\n",
      "│ AM  ┆ N         ┆ Norte     │\n",
      "│ RR  ┆ N         ┆ Norte     │\n",
      "│ AP  ┆ N         ┆ Norte     │\n",
      "│ PA  ┆ N         ┆ Norte     │\n",
      "│ TO  ┆ N         ┆ Norte     │\n",
      "│ …   ┆ …         ┆ …         │\n",
      "│ MG  ┆ SE        ┆ Sudeste   │\n",
      "│ PR  ┆ S         ┆ Sul       │\n",
      "│ RS  ┆ S         ┆ Sul       │\n",
      "│ SC  ┆ S         ┆ Sul       │\n",
      "│ ZZ  ┆ ZZ        ┆ Exterior  │\n",
      "└─────┴───────────┴───────────┘\n"
     ]
    }
   ],
   "source": [
    "print(df_regioes)"
   ]
  },
  {
   "cell_type": "markdown",
   "id": "ee55c712-082d-4384-a9fd-6af2f10943bf",
   "metadata": {},
   "source": [
    "#### Juntar votação com as regiões"
   ]
  },
  {
   "cell_type": "code",
   "execution_count": 48,
   "id": "9fc211a0-95dd-4232-8c4c-97e72680f8d5",
   "metadata": {},
   "outputs": [
    {
     "name": "stdout",
     "output_type": "stream",
     "text": [
      "(586244, 17)\n",
      "(506959, 17)\n"
     ]
    }
   ],
   "source": [
    "print(df_poll_18_filtered.shape)\n",
    "print(df_poll_22_filtered.shape)"
   ]
  },
  {
   "cell_type": "code",
   "execution_count": 49,
   "id": "912795fc-68f2-4917-a47b-d27494e90b8d",
   "metadata": {},
   "outputs": [],
   "source": [
    "df_poll_18_filtered = df_poll_18_filtered.join(df_regioes, left_on=\"SG_UF\", right_on=\"UF\")\n",
    "df_poll_22_filtered = df_poll_22_filtered.join(df_regioes, left_on=\"SG_UF\", right_on=\"UF\")"
   ]
  },
  {
   "cell_type": "code",
   "execution_count": 50,
   "id": "f839cf41-d37a-4580-9ce0-42f62f0c1b4f",
   "metadata": {},
   "outputs": [
    {
     "name": "stdout",
     "output_type": "stream",
     "text": [
      "shape: (586_244, 19)\n",
      "┌─────────────┬────────────────┬───────┬───────┬───┬──────────────────┬─────────────────────┬───────────┬───────────┐\n",
      "│ ANO_ELEICAO ┆ TP_ABRANGENCIA ┆ SG_UF ┆ SG_UE ┆ … ┆ POSIC_IDEOLOGICO ┆ SG_POSIC_IDEOLOGICO ┆ SG_REGIAO ┆ NM_REGIAO │\n",
      "│ ---         ┆ ---            ┆ ---   ┆ ---   ┆   ┆ ---              ┆ ---                 ┆ ---       ┆ ---       │\n",
      "│ i64         ┆ str            ┆ str   ┆ str   ┆   ┆ str              ┆ str                 ┆ str       ┆ str       │\n",
      "╞═════════════╪════════════════╪═══════╪═══════╪═══╪══════════════════╪═════════════════════╪═══════════╪═══════════╡\n",
      "│ 2018        ┆ E              ┆ PE    ┆ PE    ┆ … ┆ Centro Direita   ┆ CD                  ┆ NE        ┆ Nordeste  │\n",
      "│ 2018        ┆ E              ┆ PE    ┆ PE    ┆ … ┆ Centro Direita   ┆ CD                  ┆ NE        ┆ Nordeste  │\n",
      "│ 2018        ┆ E              ┆ PE    ┆ PE    ┆ … ┆ Centro Direita   ┆ CD                  ┆ NE        ┆ Nordeste  │\n",
      "│ 2018        ┆ E              ┆ PE    ┆ PE    ┆ … ┆ Centro Direita   ┆ CD                  ┆ NE        ┆ Nordeste  │\n",
      "│ 2018        ┆ E              ┆ PE    ┆ PE    ┆ … ┆ Centro Direita   ┆ CD                  ┆ NE        ┆ Nordeste  │\n",
      "│ …           ┆ …              ┆ …     ┆ …     ┆ … ┆ …                ┆ …                   ┆ …         ┆ …         │\n",
      "│ 2018        ┆ E              ┆ TO    ┆ TO    ┆ … ┆ Direita          ┆ D                   ┆ N         ┆ Norte     │\n",
      "│ 2018        ┆ E              ┆ TO    ┆ TO    ┆ … ┆ Direita          ┆ D                   ┆ N         ┆ Norte     │\n",
      "│ 2018        ┆ E              ┆ TO    ┆ TO    ┆ … ┆ Direita          ┆ D                   ┆ N         ┆ Norte     │\n",
      "│ 2018        ┆ E              ┆ TO    ┆ TO    ┆ … ┆ Direita          ┆ D                   ┆ N         ┆ Norte     │\n",
      "│ 2018        ┆ E              ┆ TO    ┆ TO    ┆ … ┆ Direita          ┆ D                   ┆ N         ┆ Norte     │\n",
      "└─────────────┴────────────────┴───────┴───────┴───┴──────────────────┴─────────────────────┴───────────┴───────────┘\n",
      "shape: (506_959, 19)\n",
      "┌─────────────┬────────────────┬───────┬───────┬───┬──────────────────┬─────────────────────┬───────────┬──────────────┐\n",
      "│ ANO_ELEICAO ┆ TP_ABRANGENCIA ┆ SG_UF ┆ SG_UE ┆ … ┆ POSIC_IDEOLOGICO ┆ SG_POSIC_IDEOLOGICO ┆ SG_REGIAO ┆ NM_REGIAO    │\n",
      "│ ---         ┆ ---            ┆ ---   ┆ ---   ┆   ┆ ---              ┆ ---                 ┆ ---       ┆ ---          │\n",
      "│ i64         ┆ str            ┆ str   ┆ str   ┆   ┆ str              ┆ str                 ┆ str       ┆ str          │\n",
      "╞═════════════╪════════════════╪═══════╪═══════╪═══╪══════════════════╪═════════════════════╪═══════════╪══════════════╡\n",
      "│ 2022        ┆ E              ┆ RS    ┆ RS    ┆ … ┆ Direita          ┆ D                   ┆ S         ┆ Sul          │\n",
      "│ 2022        ┆ E              ┆ MT    ┆ MT    ┆ … ┆ Centro Esquerda  ┆ CE                  ┆ CO        ┆ Centro-Oeste │\n",
      "│ 2022        ┆ E              ┆ SC    ┆ SC    ┆ … ┆ Direita          ┆ D                   ┆ S         ┆ Sul          │\n",
      "│ 2022        ┆ E              ┆ RS    ┆ RS    ┆ … ┆ Centro           ┆ C                   ┆ S         ┆ Sul          │\n",
      "│ 2022        ┆ E              ┆ MT    ┆ MT    ┆ … ┆ Centro Direita   ┆ CD                  ┆ CO        ┆ Centro-Oeste │\n",
      "│ …           ┆ …              ┆ …     ┆ …     ┆ … ┆ …                ┆ …                   ┆ …         ┆ …            │\n",
      "│ 2022        ┆ E              ┆ PR    ┆ PR    ┆ … ┆ Direita          ┆ D                   ┆ S         ┆ Sul          │\n",
      "│ 2022        ┆ E              ┆ PE    ┆ PE    ┆ … ┆ Direita          ┆ D                   ┆ NE        ┆ Nordeste     │\n",
      "│ 2022        ┆ E              ┆ PR    ┆ PR    ┆ … ┆ Direita          ┆ D                   ┆ S         ┆ Sul          │\n",
      "│ 2022        ┆ E              ┆ SP    ┆ SP    ┆ … ┆ Direita          ┆ D                   ┆ SE        ┆ Sudeste      │\n",
      "│ 2022        ┆ E              ┆ MG    ┆ MG    ┆ … ┆ Centro           ┆ C                   ┆ SE        ┆ Sudeste      │\n",
      "└─────────────┴────────────────┴───────┴───────┴───┴──────────────────┴─────────────────────┴───────────┴──────────────┘\n"
     ]
    }
   ],
   "source": [
    "print(df_poll_18_filtered)\n",
    "print(df_poll_22_filtered)"
   ]
  },
  {
   "cell_type": "markdown",
   "id": "df458c12-6d00-4259-9960-6d8013a18daf",
   "metadata": {},
   "source": [
    "_O número de registros não mudou nos dois datasets, join executado com sucesso._"
   ]
  },
  {
   "cell_type": "code",
   "execution_count": 51,
   "id": "9519ffd9-62ff-4e86-a25e-9803602f94c5",
   "metadata": {},
   "outputs": [],
   "source": [
    "#salvar o processamento até aqui\n",
    "df_poll_18_filtered.write_parquet(os.path.join(root, \"eleicao18_turno_01.parquet\"))\n",
    "df_poll_22_filtered.write_parquet(os.path.join(root, \"eleicao22_turno_01.parquet\"))"
   ]
  },
  {
   "cell_type": "markdown",
   "id": "5c17daf5-0555-493f-9428-fb44d9141bff",
   "metadata": {},
   "source": [
    "### 2.3 Municípios\n",
    "\n",
    "Carga dos dois datasets municípios. Precisa-se dos dois, pois a tabela do TSE não tem a localização geográfica enquanto esta informação está na tabela do IBGE.\n",
    "\n",
    "---"
   ]
  },
  {
   "cell_type": "code",
   "execution_count": 52,
   "id": "cb463f58-0eda-4b9d-89e9-8df59c187457",
   "metadata": {},
   "outputs": [
    {
     "data": {
      "text/plain": [
       "(5570, 9)"
      ]
     },
     "execution_count": 52,
     "metadata": {},
     "output_type": "execute_result"
    }
   ],
   "source": [
    "#municípios do igbe\n",
    "df_munic_ibge:pl.DataFrame = sdt_f.load_parquet(os.path.join(root, ibge_cities))\n",
    "df_munic_ibge.shape"
   ]
  },
  {
   "cell_type": "code",
   "execution_count": 53,
   "id": "e4153cc8-cc6f-45ff-956b-d19b3624560e",
   "metadata": {},
   "outputs": [
    {
     "name": "stdout",
     "output_type": "stream",
     "text": [
      "shape: (5_570, 9)\n",
      "┌─────────────┬─────────────────────┬──────────┬───────────┬─────────┬───────────┬──────────┬─────┬───────────────────┐\n",
      "│ codigo_ibge ┆ nome                ┆ latitude ┆ longitude ┆ capital ┆ codigo_uf ┆ siafi_id ┆ ddd ┆ fuso_horario      │\n",
      "│ ---         ┆ ---                 ┆ ---      ┆ ---       ┆ ---     ┆ ---       ┆ ---      ┆ --- ┆ ---               │\n",
      "│ i64         ┆ str                 ┆ f64      ┆ f64       ┆ i64     ┆ i64       ┆ i64      ┆ i64 ┆ str               │\n",
      "╞═════════════╪═════════════════════╪══════════╪═══════════╪═════════╪═══════════╪══════════╪═════╪═══════════════════╡\n",
      "│ 5200050     ┆ Abadia de Goiás     ┆ -16.7573 ┆ -49.4412  ┆ 0       ┆ 52        ┆ 1050     ┆ 62  ┆ America/Sao_Paulo │\n",
      "│ 3100104     ┆ Abadia dos Dourados ┆ -18.4831 ┆ -47.3916  ┆ 0       ┆ 31        ┆ 4001     ┆ 34  ┆ America/Sao_Paulo │\n",
      "│ 5200100     ┆ Abadiânia           ┆ -16.197  ┆ -48.7057  ┆ 0       ┆ 52        ┆ 9201     ┆ 62  ┆ America/Sao_Paulo │\n",
      "│ 3100203     ┆ Abaeté              ┆ -19.1551 ┆ -45.4444  ┆ 0       ┆ 31        ┆ 4003     ┆ 37  ┆ America/Sao_Paulo │\n",
      "│ 1500107     ┆ Abaetetuba          ┆ -1.72183 ┆ -48.8788  ┆ 0       ┆ 15        ┆ 401      ┆ 91  ┆ America/Sao_Paulo │\n",
      "│ …           ┆ …                   ┆ …        ┆ …         ┆ …       ┆ …         ┆ …        ┆ …   ┆ …                 │\n",
      "│ 2933604     ┆ Xique-Xique         ┆ -10.823  ┆ -42.7245  ┆ 0       ┆ 29        ┆ 3971     ┆ 74  ┆ America/Sao_Paulo │\n",
      "│ 2517407     ┆ Zabelê              ┆ -8.07901 ┆ -37.1057  ┆ 0       ┆ 25        ┆ 542      ┆ 83  ┆ America/Sao_Paulo │\n",
      "│ 3557154     ┆ Zacarias            ┆ -21.0506 ┆ -50.0552  ┆ 0       ┆ 35        ┆ 2973     ┆ 18  ┆ America/Sao_Paulo │\n",
      "│ 2114007     ┆ Zé Doca             ┆ -3.27014 ┆ -45.6553  ┆ 0       ┆ 21        ┆ 1287     ┆ 98  ┆ America/Sao_Paulo │\n",
      "│ 4219853     ┆ Zortéa              ┆ -27.4521 ┆ -51.552   ┆ 0       ┆ 42        ┆ 950      ┆ 49  ┆ America/Sao_Paulo │\n",
      "└─────────────┴─────────────────────┴──────────┴───────────┴─────────┴───────────┴──────────┴─────┴───────────────────┘\n"
     ]
    }
   ],
   "source": [
    "with pl.Config() as cfg:\n",
    "    cfg.set_tbl_cols(9)\n",
    "    print(df_munic_ibge)"
   ]
  },
  {
   "cell_type": "code",
   "execution_count": 54,
   "id": "06379e49-9489-45cc-87f1-54ff85b523ee",
   "metadata": {},
   "outputs": [
    {
     "data": {
      "text/plain": [
       "(5570, 5)"
      ]
     },
     "execution_count": 54,
     "metadata": {},
     "output_type": "execute_result"
    }
   ],
   "source": [
    "df_munic_tse:pl.DataFrame = sdt_f.load_parquet(os.path.join(root, tse_cities))\n",
    "df_munic_tse.shape"
   ]
  },
  {
   "cell_type": "code",
   "execution_count": 55,
   "id": "a258fdf0-5ef6-4a3b-b5d6-4fdee4718853",
   "metadata": {},
   "outputs": [
    {
     "name": "stdout",
     "output_type": "stream",
     "text": [
      "shape: (5_570, 5)\n",
      "┌────────────┬─────┬────────────────┬─────────┬─────────────┐\n",
      "│ codigo_tse ┆ uf  ┆ nome_municipio ┆ capital ┆ codigo_ibge │\n",
      "│ ---        ┆ --- ┆ ---            ┆ ---     ┆ ---         │\n",
      "│ i64        ┆ str ┆ str            ┆ i64     ┆ i64         │\n",
      "╞════════════╪═════╪════════════════╪═════════╪═════════════╡\n",
      "│ 1120       ┆ AC  ┆ ACRELÂNDIA     ┆ 0       ┆ 1200013     │\n",
      "│ 1570       ┆ AC  ┆ ASSIS BRASIL   ┆ 0       ┆ 1200054     │\n",
      "│ 1058       ┆ AC  ┆ BRASILÉIA      ┆ 0       ┆ 1200104     │\n",
      "│ 1007       ┆ AC  ┆ BUJARI         ┆ 0       ┆ 1200138     │\n",
      "│ 1015       ┆ AC  ┆ CAPIXABA       ┆ 0       ┆ 1200179     │\n",
      "│ …          ┆ …   ┆ …              ┆ …       ┆ …           │\n",
      "│ 96199      ┆ TO  ┆ TOCANTÍNIA     ┆ 0       ┆ 1721109     │\n",
      "│ 73458      ┆ TO  ┆ TUPIRAMA       ┆ 0       ┆ 1721257     │\n",
      "│ 73237      ┆ TO  ┆ TUPIRATINS     ┆ 0       ┆ 1721307     │\n",
      "│ 96652      ┆ TO  ┆ WANDERLÂNDIA   ┆ 0       ┆ 1722081     │\n",
      "│ 96431      ┆ TO  ┆ XAMBIOÁ        ┆ 0       ┆ 1722107     │\n",
      "└────────────┴─────┴────────────────┴─────────┴─────────────┘\n"
     ]
    }
   ],
   "source": [
    "with pl.Config() as cfg:\n",
    "    cfg.set_tbl_cols(9)\n",
    "    print(df_munic_tse)"
   ]
  },
  {
   "cell_type": "markdown",
   "id": "665c450e-9cf3-4ea5-a4a2-f2220f6bd119",
   "metadata": {},
   "source": [
    "_O join entre as tabelas será feito \"codigo_ibge\"._\n",
    "\n",
    "_A tabela final de municípios terá os campos:_\n",
    "\n",
    "- _codigo_tse pois este campo será feito o join com as tabelas de eleições;_\n",
    "- _uf pois será usado para pegar a região e estado de cada cidade;_\n",
    "- _capital;_\n",
    "- _nome;_\n",
    "- _latitude e longitude para plotarmos em mapa;_\n",
    "- _ddd pois pode ser útil para um divisão dentro dos estados._"
   ]
  },
  {
   "cell_type": "code",
   "execution_count": 56,
   "id": "cda134a6-bbe6-45be-8ab1-f034ebd25189",
   "metadata": {},
   "outputs": [],
   "source": [
    "df_municipios = (df_munic_tse\n",
    "    .join(df_munic_ibge, on=\"codigo_ibge\", how=\"inner\")\n",
    "    .select(pl.col(\"codigo_tse\"), pl.col(\"codigo_ibge\"), pl.col(\"nome\"), pl.col(\"uf\"), pl.col(\"capital\"), pl.col(\"latitude\"), pl.col(\"longitude\"), pl.col(\"ddd\"))\n",
    ")"
   ]
  },
  {
   "cell_type": "code",
   "execution_count": 57,
   "id": "92996968-f266-4503-9c0d-07836f9507f9",
   "metadata": {},
   "outputs": [
    {
     "name": "stdout",
     "output_type": "stream",
     "text": [
      "shape: (5_570, 8)\n",
      "┌────────────┬─────────────┬─────────────────────┬─────┬─────────┬──────────┬───────────┬─────┐\n",
      "│ codigo_tse ┆ codigo_ibge ┆ nome                ┆ uf  ┆ capital ┆ latitude ┆ longitude ┆ ddd │\n",
      "│ ---        ┆ ---         ┆ ---                 ┆ --- ┆ ---     ┆ ---      ┆ ---       ┆ --- │\n",
      "│ i64        ┆ i64         ┆ str                 ┆ str ┆ i64     ┆ f64      ┆ f64       ┆ i64 │\n",
      "╞════════════╪═════════════╪═════════════════════╪═════╪═════════╪══════════╪═══════════╪═════╡\n",
      "│ 93360      ┆ 5200050     ┆ Abadia de Goiás     ┆ GO  ┆ 0       ┆ -16.7573 ┆ -49.4412  ┆ 62  │\n",
      "│ 40010      ┆ 3100104     ┆ Abadia dos Dourados ┆ MG  ┆ 0       ┆ -18.4831 ┆ -47.3916  ┆ 34  │\n",
      "│ 92010      ┆ 5200100     ┆ Abadiânia           ┆ GO  ┆ 0       ┆ -16.197  ┆ -48.7057  ┆ 62  │\n",
      "│ 40037      ┆ 3100203     ┆ Abaeté              ┆ MG  ┆ 0       ┆ -19.1551 ┆ -45.4444  ┆ 37  │\n",
      "│ 4014       ┆ 1500107     ┆ Abaetetuba          ┆ PA  ┆ 0       ┆ -1.72183 ┆ -48.8788  ┆ 91  │\n",
      "│ …          ┆ …           ┆ …                   ┆ …   ┆ …       ┆ …        ┆ …         ┆ …   │\n",
      "│ 39713      ┆ 2933604     ┆ Xique-Xique         ┆ BA  ┆ 0       ┆ -10.823  ┆ -42.7245  ┆ 74  │\n",
      "│ 19348      ┆ 2517407     ┆ Zabelê              ┆ PB  ┆ 0       ┆ -8.07901 ┆ -37.1057  ┆ 83  │\n",
      "│ 61921      ┆ 3557154     ┆ Zacarias            ┆ SP  ┆ 0       ┆ -21.0506 ┆ -50.0552  ┆ 18  │\n",
      "│ 9717       ┆ 2114007     ┆ Zé Doca             ┆ MA  ┆ 0       ┆ -3.27014 ┆ -45.6553  ┆ 98  │\n",
      "│ 81825      ┆ 4219853     ┆ Zortéa              ┆ SC  ┆ 0       ┆ -27.4521 ┆ -51.552   ┆ 49  │\n",
      "└────────────┴─────────────┴─────────────────────┴─────┴─────────┴──────────┴───────────┴─────┘\n"
     ]
    }
   ],
   "source": [
    "print(df_municipios)"
   ]
  },
  {
   "cell_type": "markdown",
   "id": "16c78038-53dd-4787-bbbf-218b73e07c9d",
   "metadata": {},
   "source": [
    "#### Registros duplicados"
   ]
  },
  {
   "cell_type": "code",
   "execution_count": 58,
   "id": "46f7a04d-647c-4601-9a56-5784f167baca",
   "metadata": {},
   "outputs": [
    {
     "data": {
      "text/plain": [
       "0"
      ]
     },
     "execution_count": 58,
     "metadata": {},
     "output_type": "execute_result"
    }
   ],
   "source": [
    "df_municipios.is_duplicated().sum()"
   ]
  },
  {
   "cell_type": "markdown",
   "id": "08b273ca-1a50-4d45-bcb8-876ceea44ea4",
   "metadata": {},
   "source": [
    "_Não há valores duplicados. Isto é normal pois trata-se de tabelas oficias de órgãos governamentais._"
   ]
  },
  {
   "cell_type": "markdown",
   "id": "9615566b-c04a-42b9-86bf-194272945aee",
   "metadata": {},
   "source": [
    "#### Valores nulos"
   ]
  },
  {
   "cell_type": "code",
   "execution_count": 59,
   "id": "a57c709b-5f6b-4288-b8a9-8b5aa711ec80",
   "metadata": {},
   "outputs": [
    {
     "data": {
      "text/plain": [
       "{'codigo_tse': 0,\n",
       " 'codigo_ibge': 0,\n",
       " 'nome': 0,\n",
       " 'uf': 0,\n",
       " 'capital': 0,\n",
       " 'latitude': 0,\n",
       " 'longitude': 0,\n",
       " 'ddd': 0}"
      ]
     },
     "execution_count": 59,
     "metadata": {},
     "output_type": "execute_result"
    }
   ],
   "source": [
    "df_municipios.select(pl.all().is_null().sum()).to_dicts()[0]"
   ]
  },
  {
   "cell_type": "markdown",
   "id": "9339c5c0-0065-4b48-a008-19d36b0b4895",
   "metadata": {},
   "source": [
    "#### Guardar o dataset dos municípios"
   ]
  },
  {
   "cell_type": "code",
   "execution_count": 60,
   "id": "51837652-f27d-4bc1-aa2a-f1251f015437",
   "metadata": {},
   "outputs": [],
   "source": [
    "df_municipios.write_parquet(os.path.join(root, \"municipios.parquet\"))"
   ]
  },
  {
   "cell_type": "markdown",
   "id": "71e4e5bb-ae63-4f24-9e27-551b48369f93",
   "metadata": {},
   "source": [
    "_Sem valores nulos._"
   ]
  },
  {
   "cell_type": "markdown",
   "id": "938c74d1-21bd-4433-91cf-167e6ec5f352",
   "metadata": {},
   "source": [
    "#### Salvar um arquivo com as capitais"
   ]
  },
  {
   "cell_type": "code",
   "execution_count": 61,
   "id": "fe9dd86d-83db-4be9-a1c3-2b1392fba6c8",
   "metadata": {},
   "outputs": [],
   "source": [
    "# filtrando apenas as capitais\n",
    "df_capitais = df_municipios.filter(pl.col(\"capital\")==1)"
   ]
  },
  {
   "cell_type": "code",
   "execution_count": 62,
   "id": "e20b2ac1-34db-4366-8456-e6de7475a49f",
   "metadata": {},
   "outputs": [
    {
     "name": "stdout",
     "output_type": "stream",
     "text": [
      "shape: (27, 8)\n",
      "┌────────────┬─────────────┬────────────────┬─────┬─────────┬──────────┬───────────┬─────┐\n",
      "│ codigo_tse ┆ codigo_ibge ┆ nome           ┆ uf  ┆ capital ┆ latitude ┆ longitude ┆ ddd │\n",
      "│ ---        ┆ ---         ┆ ---            ┆ --- ┆ ---     ┆ ---      ┆ ---       ┆ --- │\n",
      "│ i64        ┆ i64         ┆ str            ┆ str ┆ i64     ┆ f64      ┆ f64       ┆ i64 │\n",
      "╞════════════╪═════════════╪════════════════╪═════╪═════════╪══════════╪═══════════╪═════╡\n",
      "│ 31054      ┆ 2800308     ┆ Aracaju        ┆ SE  ┆ 1       ┆ -10.9091 ┆ -37.0677  ┆ 79  │\n",
      "│ 4278       ┆ 1501402     ┆ Belém          ┆ PA  ┆ 1       ┆ -1.4554  ┆ -48.4898  ┆ 91  │\n",
      "│ 41238      ┆ 3106200     ┆ Belo Horizonte ┆ MG  ┆ 1       ┆ -19.9102 ┆ -43.9266  ┆ 31  │\n",
      "│ 3018       ┆ 1400100     ┆ Boa Vista      ┆ RR  ┆ 1       ┆ 2.82384  ┆ -60.6753  ┆ 95  │\n",
      "│ 97012      ┆ 5300108     ┆ Brasília       ┆ DF  ┆ 1       ┆ -15.7795 ┆ -47.9297  ┆ 61  │\n",
      "│ …          ┆ …           ┆ …              ┆ …   ┆ …       ┆ …        ┆ …         ┆ …   │\n",
      "│ 38490      ┆ 2927408     ┆ Salvador       ┆ BA  ┆ 1       ┆ -12.9718 ┆ -38.5011  ┆ 71  │\n",
      "│ 9210       ┆ 2111300     ┆ São Luís       ┆ MA  ┆ 1       ┆ -2.53874 ┆ -44.2825  ┆ 98  │\n",
      "│ 71072      ┆ 3550308     ┆ São Paulo      ┆ SP  ┆ 1       ┆ -23.5329 ┆ -46.6395  ┆ 11  │\n",
      "│ 12190      ┆ 2211001     ┆ Teresina       ┆ PI  ┆ 1       ┆ -5.09194 ┆ -42.8034  ┆ 86  │\n",
      "│ 57053      ┆ 3205309     ┆ Vitória        ┆ ES  ┆ 1       ┆ -20.3155 ┆ -40.3128  ┆ 27  │\n",
      "└────────────┴─────────────┴────────────────┴─────┴─────────┴──────────┴───────────┴─────┘\n"
     ]
    }
   ],
   "source": [
    "print(df_capitais)"
   ]
  },
  {
   "cell_type": "markdown",
   "id": "9b2acd1b-c542-43a1-abc7-263115e68438",
   "metadata": {},
   "source": [
    "_Apenas 27 capitais, como seria esperado._"
   ]
  },
  {
   "cell_type": "code",
   "execution_count": 63,
   "id": "7ed8a485-79b5-415d-bd24-c236ccc6f458",
   "metadata": {},
   "outputs": [],
   "source": [
    "df_capitais.write_parquet(os.path.join(root, \"capitais.parquet\"))"
   ]
  },
  {
   "cell_type": "markdown",
   "id": "973c2150-43c5-4268-9a46-3ca0b5ebc9fc",
   "metadata": {},
   "source": [
    "## FIM"
   ]
  }
 ],
 "metadata": {
  "kernelspec": {
   "display_name": "Python 3 (ipykernel)",
   "language": "python",
   "name": "python3"
  },
  "language_info": {
   "codemirror_mode": {
    "name": "ipython",
    "version": 3
   },
   "file_extension": ".py",
   "mimetype": "text/x-python",
   "name": "python",
   "nbconvert_exporter": "python",
   "pygments_lexer": "ipython3",
   "version": "3.10.13"
  }
 },
 "nbformat": 4,
 "nbformat_minor": 5
}
