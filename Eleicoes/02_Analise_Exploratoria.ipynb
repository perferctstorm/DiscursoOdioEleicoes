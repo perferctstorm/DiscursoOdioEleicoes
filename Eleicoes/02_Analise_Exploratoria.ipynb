{
 "cells": [
  {
   "cell_type": "markdown",
   "id": "0ae52d98-8139-4212-92b8-618ce6cc5d6a",
   "metadata": {},
   "source": [
    "# **Especialização em Ciência de Dados - INF/UFRGS e SERPRO**\n",
    "# **Análise Visual e Interativa Sobre o Discurso de Ódio nas Redes Sociais e Influência nas Eleições Brasileiras**\n",
    "#### *Prof <sup>as</sup>. Viviane P. Moreira e Lisiane Selau*\n",
    "<br>\n",
    "\n",
    "---\n",
    "\n",
    "***Trabalho de Conclusão de Curso – Turma 03***\n",
    "\n",
    "*Aluno:*\n",
    "\n",
    "* Antonio Fagner Santos de Oliveira 576637\n",
    "---\n",
    "\n",
    "_Este notebook trabalha análise exploratória dos dados das eleições gerais brasileiras de 2018 e 2022._\n",
    "\n",
    "_Na análise exploratória devem-se usar técnicas estatísticas e visualização, seão identificadas tendências, padrões, relações e insights iniciais que podem orientar as próximas etapas do processo._\n",
    "\n",
    "https://www.linkedin.com/pulse/criando-mapas-com-python-de-uma-forma-bastante-simples-mauro-ferreira/\n",
    "\n",
    "https://medium.com/@maurynho/coletando-dados-de-regi%C3%B5es-e-estados-com-python-c7b965fa7694\n",
    "\n",
    "https://www.pluralsight.com/tech-blog/synthwave-styling-data-visualizations-in-python-with-altair/"
   ]
  },
  {
   "cell_type": "markdown",
   "id": "48194547-db96-4ec4-afa0-69e5ccbccfe0",
   "metadata": {},
   "source": [
    "## 1 Carga dos Dados Pré-processados"
   ]
  },
  {
   "cell_type": "code",
   "execution_count": 1,
   "id": "1b5072b4-fd36-4e74-945b-ff3acc0b37ac",
   "metadata": {},
   "outputs": [],
   "source": [
    "import polars as pl\n",
    "import os\n",
    "import altair as alt\n",
    "import numpy as np\n",
    "import standards as sdt_f"
   ]
  },
  {
   "cell_type": "code",
   "execution_count": 2,
   "id": "2c37ef6f-eb51-4773-893c-5f787b8fd832",
   "metadata": {},
   "outputs": [],
   "source": [
    "root:str = \"../Dados/Eleicoes/\"\n",
    "poll_18:str = \"eleicao18_turno_01.parquet\"\n",
    "poll_22:str = \"eleicao22_turno_01.parquet\"\n",
    "parties:str = \"partidos_br.parquet\"\n",
    "cities:str = \"municipios.parquet\""
   ]
  },
  {
   "cell_type": "code",
   "execution_count": 3,
   "id": "f44b884e-9179-4407-b62b-2aeca4d29d80",
   "metadata": {},
   "outputs": [],
   "source": [
    "#carga dos partidos políticos\n",
    "df_partidos:pl.DataFrame = sdt_f.load_parquet(os.path.join(root, parties))"
   ]
  },
  {
   "cell_type": "code",
   "execution_count": 4,
   "id": "28e7fe83-89e5-4ebe-aa17-8bb98f6e58a0",
   "metadata": {},
   "outputs": [],
   "source": [
    "#carga dos municípios\n",
    "df_municipios = sdt_f.load_parquet(os.path.join(root, cities))"
   ]
  },
  {
   "cell_type": "code",
   "execution_count": 5,
   "id": "5cdf6c69-0c2a-4a8c-8b6b-2798f30b3514",
   "metadata": {},
   "outputs": [],
   "source": [
    "#Carregas dados das eleições de 2018 e 2022 já ajustados\n",
    "df_poll_18 = sdt_f.load_parquet(os.path.join(root, poll_18))\n",
    "df_poll_22 = sdt_f.load_parquet(os.path.join(root, poll_22))"
   ]
  },
  {
   "cell_type": "markdown",
   "id": "c1d81e48-6c57-43d5-8652-174dbc4be0c5",
   "metadata": {},
   "source": [
    "## 2 Análise Exploratória\n",
    "\n",
    "Entender e explorar os dados por meio de técnicas estatísticas e visualização. Tendências, padrões, relações e insights iniciais que podem orientar as próximas etapas do processo.\n",
    "\n",
    "https://ebaconline.com.br/blog/analise-exploratoria-de-dados-o-que-e\n",
    "\n",
    "---"
   ]
  },
  {
   "cell_type": "markdown",
   "id": "7c89a58d-6229-41a6-b0ca-9fdb0367e8ef",
   "metadata": {},
   "source": [
    "### 2.1 Classificação Ideológica dos Partidos Políticos Brasileiros Conforme _Bolognesi[2018]_\n",
    "\n",
    "---"
   ]
  },
  {
   "cell_type": "code",
   "execution_count": 6,
   "id": "e18e9adc-f4fc-4a15-998f-f5bfb001326b",
   "metadata": {},
   "outputs": [],
   "source": [
    "df_colors = sdt_f.parties_colors(df_partidos) #define uma cor para cada partido político baseado na sua ideologia"
   ]
  },
  {
   "cell_type": "code",
   "execution_count": 7,
   "id": "5ef7b9cc-2885-4266-a29c-6c41a81956ae",
   "metadata": {},
   "outputs": [
    {
     "data": {
      "text/html": [
       "\n",
       "<style>\n",
       "  #altair-viz-a9fb1e8f95fa410ab5383bdb6648a49c.vega-embed {\n",
       "    width: 100%;\n",
       "    display: flex;\n",
       "  }\n",
       "\n",
       "  #altair-viz-a9fb1e8f95fa410ab5383bdb6648a49c.vega-embed details,\n",
       "  #altair-viz-a9fb1e8f95fa410ab5383bdb6648a49c.vega-embed details summary {\n",
       "    position: relative;\n",
       "  }\n",
       "</style>\n",
       "<div id=\"altair-viz-a9fb1e8f95fa410ab5383bdb6648a49c\"></div>\n",
       "<script type=\"text/javascript\">\n",
       "  var VEGA_DEBUG = (typeof VEGA_DEBUG == \"undefined\") ? {} : VEGA_DEBUG;\n",
       "  (function(spec, embedOpt){\n",
       "    let outputDiv = document.currentScript.previousElementSibling;\n",
       "    if (outputDiv.id !== \"altair-viz-a9fb1e8f95fa410ab5383bdb6648a49c\") {\n",
       "      outputDiv = document.getElementById(\"altair-viz-a9fb1e8f95fa410ab5383bdb6648a49c\");\n",
       "    }\n",
       "    const paths = {\n",
       "      \"vega\": \"https://cdn.jsdelivr.net/npm/vega@5?noext\",\n",
       "      \"vega-lib\": \"https://cdn.jsdelivr.net/npm/vega-lib?noext\",\n",
       "      \"vega-lite\": \"https://cdn.jsdelivr.net/npm/vega-lite@5.20.1?noext\",\n",
       "      \"vega-embed\": \"https://cdn.jsdelivr.net/npm/vega-embed@6?noext\",\n",
       "    };\n",
       "\n",
       "    function maybeLoadScript(lib, version) {\n",
       "      var key = `${lib.replace(\"-\", \"\")}_version`;\n",
       "      return (VEGA_DEBUG[key] == version) ?\n",
       "        Promise.resolve(paths[lib]) :\n",
       "        new Promise(function(resolve, reject) {\n",
       "          var s = document.createElement('script');\n",
       "          document.getElementsByTagName(\"head\")[0].appendChild(s);\n",
       "          s.async = true;\n",
       "          s.onload = () => {\n",
       "            VEGA_DEBUG[key] = version;\n",
       "            return resolve(paths[lib]);\n",
       "          };\n",
       "          s.onerror = () => reject(`Error loading script: ${paths[lib]}`);\n",
       "          s.src = paths[lib];\n",
       "        });\n",
       "    }\n",
       "\n",
       "    function showError(err) {\n",
       "      outputDiv.innerHTML = `<div class=\"error\" style=\"color:red;\">${err}</div>`;\n",
       "      throw err;\n",
       "    }\n",
       "\n",
       "    function displayChart(vegaEmbed) {\n",
       "      vegaEmbed(outputDiv, spec, embedOpt)\n",
       "        .catch(err => showError(`Javascript Error: ${err.message}<br>This usually means there's a typo in your chart specification. See the javascript console for the full traceback.`));\n",
       "    }\n",
       "\n",
       "    if(typeof define === \"function\" && define.amd) {\n",
       "      requirejs.config({paths});\n",
       "      require([\"vega-embed\"], displayChart, err => showError(`Error loading script: ${err.message}`));\n",
       "    } else {\n",
       "      maybeLoadScript(\"vega\", \"5\")\n",
       "        .then(() => maybeLoadScript(\"vega-lite\", \"5.20.1\"))\n",
       "        .then(() => maybeLoadScript(\"vega-embed\", \"6\"))\n",
       "        .catch(showError)\n",
       "        .then(() => displayChart(vegaEmbed));\n",
       "    }\n",
       "  })({\"config\": {\"view\": {\"continuousWidth\": 300, \"continuousHeight\": 300, \"strokeWidth\": 0}, \"title\": {\"fontSize\": 14}}, \"layer\": [{\"mark\": {\"type\": \"point\", \"filled\": true, \"opacity\": 0.6, \"size\": 100}, \"encoding\": {\"color\": {\"field\": \"SG_POSIC_IDEOLOGICO\", \"scale\": {\"domain\": [\"EE\", \"E\", \"CE\", \"C\", \"CD\", \"D\", \"ED\"], \"range\": [\"#7F0000\", \"#FF0000\", \"#C54B53\", \"#FFD966\", \"#97A3FF\", \"#262DDA\", \"#030886\"]}, \"title\": \"Ideologia\", \"type\": \"ordinal\"}, \"shape\": {\"value\": \"M1.7 -1.7h-0.8c0.3 -0.2 0.6 -0.5 0.6 -0.9c0 -0.6 -0.4 -1 -1 -1c-0.6 0 -1 0.4 -1 1c0 0.4 0.2 0.7 0.6 0.9h-0.8c-0.4 0 -0.7 0.3 -0.7 0.6v1.9c0 0.3 0.3 0.6 0.6 0.6h0.2c0 0 0 0.1 0 0.1v1.9c0 0.3 0.2 0.6 0.3 0.6h1.3c0.2 0 0.3 -0.3 0.3 -0.6v-1.8c0 0 0 -0.1 0 -0.1h0.2c0.3 0 0.6 -0.3 0.6 -0.6v-2c0.2 -0.3 -0.1 -0.6 -0.4 -0.6z\"}, \"tooltip\": [{\"field\": \"SG_PARTIDO\", \"title\": \"Partido\", \"type\": \"ordinal\"}, {\"field\": \"MEDIA_IDEOL\", \"format\": \".2f\", \"title\": \"M\\u00e9dia Ideol\\u00f3gica\", \"type\": \"quantitative\"}], \"x\": {\"field\": \"MEDIA_IDEOL\", \"scale\": {\"nice\": true}, \"title\": \"M\\u00e9dia Ideol\\u00f3gica\", \"type\": \"quantitative\"}}, \"title\": \"Classifica\\u00e7\\u00e3o ideol\\u00f3gica dos partidos pol\\u00edticos brasileiros\"}, {\"mark\": {\"type\": \"text\", \"align\": \"left\", \"angle\": 270, \"baseline\": \"top\", \"dx\": 30, \"dy\": -3, \"fontSize\": 8, \"fontWeight\": \"bold\", \"opacity\": 1}, \"encoding\": {\"color\": {\"field\": \"SG_POSIC_IDEOLOGICO\", \"scale\": {\"domain\": [\"EE\", \"E\", \"CE\", \"C\", \"CD\", \"D\", \"ED\"], \"range\": [\"#7F0000\", \"#FF0000\", \"#C54B53\", \"#FFD966\", \"#97A3FF\", \"#262DDA\", \"#030886\"]}, \"title\": \"Ideologia\", \"type\": \"ordinal\"}, \"shape\": {\"value\": \"M1.7 -1.7h-0.8c0.3 -0.2 0.6 -0.5 0.6 -0.9c0 -0.6 -0.4 -1 -1 -1c-0.6 0 -1 0.4 -1 1c0 0.4 0.2 0.7 0.6 0.9h-0.8c-0.4 0 -0.7 0.3 -0.7 0.6v1.9c0 0.3 0.3 0.6 0.6 0.6h0.2c0 0 0 0.1 0 0.1v1.9c0 0.3 0.2 0.6 0.3 0.6h1.3c0.2 0 0.3 -0.3 0.3 -0.6v-1.8c0 0 0 -0.1 0 -0.1h0.2c0.3 0 0.6 -0.3 0.6 -0.6v-2c0.2 -0.3 -0.1 -0.6 -0.4 -0.6z\"}, \"text\": {\"field\": \"SG_PARTIDO\", \"type\": \"ordinal\"}, \"tooltip\": [{\"field\": \"SG_PARTIDO\", \"title\": \"Partido\", \"type\": \"ordinal\"}, {\"field\": \"MEDIA_IDEOL\", \"format\": \".2f\", \"title\": \"M\\u00e9dia Ideol\\u00f3gica\", \"type\": \"quantitative\"}], \"x\": {\"field\": \"MEDIA_IDEOL\", \"scale\": {\"nice\": true}, \"title\": \"M\\u00e9dia Ideol\\u00f3gica\", \"type\": \"quantitative\"}}, \"title\": \"Classifica\\u00e7\\u00e3o ideol\\u00f3gica dos partidos pol\\u00edticos brasileiros\"}], \"data\": {\"name\": \"data-a4712164d115e2f6d5604ab7a08c3d5e\"}, \"height\": 45, \"width\": 1000, \"$schema\": \"https://vega.github.io/schema/vega-lite/v5.20.1.json\", \"datasets\": {\"data-a4712164d115e2f6d5604ab7a08c3d5e\": [{\"SG_PARTIDO\": \"PT\", \"SG_POSIC_IDEOLOGICO\": \"CE\", \"MEDIA_IDEOL\": 2.9700000286102295, \"cor\": \"#C54B53\"}, {\"SG_PARTIDO\": \"PMB\", \"SG_POSIC_IDEOLOGICO\": \"CD\", \"MEDIA_IDEOL\": 6.900000095367432, \"cor\": \"#97A3FF\"}, {\"SG_PARTIDO\": \"PSTU\", \"SG_POSIC_IDEOLOGICO\": \"EE\", \"MEDIA_IDEOL\": 0.5099999904632568, \"cor\": \"#7F0000\"}, {\"SG_PARTIDO\": \"NOVO\", \"SG_POSIC_IDEOLOGICO\": \"D\", \"MEDIA_IDEOL\": 8.130000114440918, \"cor\": \"#262DDA\"}, {\"SG_PARTIDO\": \"REPUBLICANOS\", \"SG_POSIC_IDEOLOGICO\": \"D\", \"MEDIA_IDEOL\": 7.78000020980835, \"cor\": \"#262DDA\"}, {\"SG_PARTIDO\": \"PP\", \"SG_POSIC_IDEOLOGICO\": \"D\", \"MEDIA_IDEOL\": 8.199999809265137, \"cor\": \"#262DDA\"}, {\"SG_PARTIDO\": \"SOLIDARIEDADE\", \"SG_POSIC_IDEOLOGICO\": \"CD\", \"MEDIA_IDEOL\": 6.5, \"cor\": \"#97A3FF\"}, {\"SG_PARTIDO\": \"CIDADANIA\", \"SG_POSIC_IDEOLOGICO\": \"C\", \"MEDIA_IDEOL\": 4.920000076293945, \"cor\": \"#FFD966\"}, {\"SG_PARTIDO\": \"PSOL\", \"SG_POSIC_IDEOLOGICO\": \"EE\", \"MEDIA_IDEOL\": 1.2799999713897705, \"cor\": \"#7F0000\"}, {\"SG_PARTIDO\": \"PCB\", \"SG_POSIC_IDEOLOGICO\": \"EE\", \"MEDIA_IDEOL\": 0.9100000262260437, \"cor\": \"#7F0000\"}, {\"SG_PARTIDO\": \"PL\", \"SG_POSIC_IDEOLOGICO\": \"D\", \"MEDIA_IDEOL\": 7.78000020980835, \"cor\": \"#262DDA\"}, {\"SG_PARTIDO\": \"UNI\\u00c3O\", \"SG_POSIC_IDEOLOGICO\": \"ED\", \"MEDIA_IDEOL\": 8.569999694824219, \"cor\": \"#030886\"}, {\"SG_PARTIDO\": \"PSDB\", \"SG_POSIC_IDEOLOGICO\": \"CD\", \"MEDIA_IDEOL\": 7.110000133514404, \"cor\": \"#97A3FF\"}, {\"SG_PARTIDO\": \"PV\", \"SG_POSIC_IDEOLOGICO\": \"C\", \"MEDIA_IDEOL\": 5.289999961853027, \"cor\": \"#FFD966\"}, {\"SG_PARTIDO\": \"MOBILIZA\", \"SG_POSIC_IDEOLOGICO\": \"CD\", \"MEDIA_IDEOL\": 6.880000114440918, \"cor\": \"#97A3FF\"}, {\"SG_PARTIDO\": \"PPL\", \"SG_POSIC_IDEOLOGICO\": \"D\", \"MEDIA_IDEOL\": 7.269999980926514, \"cor\": \"#262DDA\"}, {\"SG_PARTIDO\": \"AVANTE\", \"SG_POSIC_IDEOLOGICO\": \"CD\", \"MEDIA_IDEOL\": 6.320000171661377, \"cor\": \"#97A3FF\"}, {\"SG_PARTIDO\": \"PSB\", \"SG_POSIC_IDEOLOGICO\": \"CE\", \"MEDIA_IDEOL\": 4.050000190734863, \"cor\": \"#C54B53\"}, {\"SG_PARTIDO\": \"REDE\", \"SG_POSIC_IDEOLOGICO\": \"C\", \"MEDIA_IDEOL\": 4.769999980926514, \"cor\": \"#FFD966\"}, {\"SG_PARTIDO\": \"UP\", \"SG_POSIC_IDEOLOGICO\": \"EE\", \"MEDIA_IDEOL\": 0.7599999904632568, \"cor\": \"#7F0000\"}, {\"SG_PARTIDO\": \"AGIR\", \"SG_POSIC_IDEOLOGICO\": \"D\", \"MEDIA_IDEOL\": 7.860000133514404, \"cor\": \"#262DDA\"}, {\"SG_PARTIDO\": \"PODE\", \"SG_POSIC_IDEOLOGICO\": \"D\", \"MEDIA_IDEOL\": 7.239999771118164, \"cor\": \"#262DDA\"}, {\"SG_PARTIDO\": \"PSD\", \"SG_POSIC_IDEOLOGICO\": \"CD\", \"MEDIA_IDEOL\": 7.090000152587891, \"cor\": \"#97A3FF\"}, {\"SG_PARTIDO\": \"DC\", \"SG_POSIC_IDEOLOGICO\": \"D\", \"MEDIA_IDEOL\": 8.109999656677246, \"cor\": \"#262DDA\"}, {\"SG_PARTIDO\": \"PCO\", \"SG_POSIC_IDEOLOGICO\": \"EE\", \"MEDIA_IDEOL\": 0.6100000143051147, \"cor\": \"#7F0000\"}, {\"SG_PARTIDO\": \"PRTB\", \"SG_POSIC_IDEOLOGICO\": \"D\", \"MEDIA_IDEOL\": 7.449999809265137, \"cor\": \"#262DDA\"}, {\"SG_PARTIDO\": \"MDB\", \"SG_POSIC_IDEOLOGICO\": \"CD\", \"MEDIA_IDEOL\": 7.010000228881836, \"cor\": \"#97A3FF\"}, {\"SG_PARTIDO\": \"PDT\", \"SG_POSIC_IDEOLOGICO\": \"CE\", \"MEDIA_IDEOL\": 3.9200000762939453, \"cor\": \"#C54B53\"}, {\"SG_PARTIDO\": \"PCdoB\", \"SG_POSIC_IDEOLOGICO\": \"E\", \"MEDIA_IDEOL\": 1.9199999570846558, \"cor\": \"#FF0000\"}, {\"SG_PARTIDO\": \"PRD\", \"SG_POSIC_IDEOLOGICO\": \"D\", \"MEDIA_IDEOL\": 7.329999923706055, \"cor\": \"#262DDA\"}]}}, {\"mode\": \"vega-lite\"});\n",
       "</script>"
      ],
      "text/plain": [
       "alt.LayerChart(...)"
      ]
     },
     "execution_count": 7,
     "metadata": {},
     "output_type": "execute_result"
    }
   ],
   "source": [
    "sdt_f.class_ideologica_chart(df_partidos, df_colors)"
   ]
  },
  {
   "cell_type": "markdown",
   "id": "b7297f8f-5e2e-4c5f-874c-3eada922c807",
   "metadata": {},
   "source": [
    "_Através de um survey aplicado à comunidade de cientistas políticos em 2018, Bolognesi(2018) pediu que classificassem os partidos na dimensão esquerda-direita e também quanto ao seu principal objetivo: a persecução de votos, de posições de governo ou de políticas._\n",
    "\n",
    "_Os resultados apontam para um movimento centrífugo do sistema partidário, com a maioria dos partidos caminhando para a direita, e para o predomínio de partidos que podem ser classificados como fisiológicos, priorizando a díade votos-cargos e desprezando a programaticidade._"
   ]
  },
  {
   "cell_type": "markdown",
   "id": "80e9198c-84f6-4edb-9c73-6039a1af6395",
   "metadata": {},
   "source": [
    "### 2.2 Variação da votação por partidos e cargos entre 2018 e 2022\n",
    "\n",
    "---"
   ]
  },
  {
   "cell_type": "code",
   "execution_count": 8,
   "id": "662f5478-9378-4cf4-9a91-819944b87581",
   "metadata": {},
   "outputs": [
    {
     "data": {
      "text/plain": [
       "DataTransformerRegistry.enable('default')"
      ]
     },
     "execution_count": 8,
     "metadata": {},
     "output_type": "execute_result"
    }
   ],
   "source": [
    "#disabilita o limite de 5.000 para processamento imposto pelo altair\n",
    "alt.data_transformers.disable_max_rows()"
   ]
  },
  {
   "cell_type": "code",
   "execution_count": 9,
   "id": "570df04a-6752-4688-b5c6-ad0db1c288c5",
   "metadata": {},
   "outputs": [
    {
     "data": {
      "text/html": [
       "\n",
       "<style>\n",
       "  #altair-viz-4cd378ac6cbc4a018712568649248d18.vega-embed {\n",
       "    width: 100%;\n",
       "    display: flex;\n",
       "  }\n",
       "\n",
       "  #altair-viz-4cd378ac6cbc4a018712568649248d18.vega-embed details,\n",
       "  #altair-viz-4cd378ac6cbc4a018712568649248d18.vega-embed details summary {\n",
       "    position: relative;\n",
       "  }\n",
       "</style>\n",
       "<div id=\"altair-viz-4cd378ac6cbc4a018712568649248d18\"></div>\n",
       "<script type=\"text/javascript\">\n",
       "  var VEGA_DEBUG = (typeof VEGA_DEBUG == \"undefined\") ? {} : VEGA_DEBUG;\n",
       "  (function(spec, embedOpt){\n",
       "    let outputDiv = document.currentScript.previousElementSibling;\n",
       "    if (outputDiv.id !== \"altair-viz-4cd378ac6cbc4a018712568649248d18\") {\n",
       "      outputDiv = document.getElementById(\"altair-viz-4cd378ac6cbc4a018712568649248d18\");\n",
       "    }\n",
       "    const paths = {\n",
       "      \"vega\": \"https://cdn.jsdelivr.net/npm/vega@5?noext\",\n",
       "      \"vega-lib\": \"https://cdn.jsdelivr.net/npm/vega-lib?noext\",\n",
       "      \"vega-lite\": \"https://cdn.jsdelivr.net/npm/vega-lite@5.20.1?noext\",\n",
       "      \"vega-embed\": \"https://cdn.jsdelivr.net/npm/vega-embed@6?noext\",\n",
       "    };\n",
       "\n",
       "    function maybeLoadScript(lib, version) {\n",
       "      var key = `${lib.replace(\"-\", \"\")}_version`;\n",
       "      return (VEGA_DEBUG[key] == version) ?\n",
       "        Promise.resolve(paths[lib]) :\n",
       "        new Promise(function(resolve, reject) {\n",
       "          var s = document.createElement('script');\n",
       "          document.getElementsByTagName(\"head\")[0].appendChild(s);\n",
       "          s.async = true;\n",
       "          s.onload = () => {\n",
       "            VEGA_DEBUG[key] = version;\n",
       "            return resolve(paths[lib]);\n",
       "          };\n",
       "          s.onerror = () => reject(`Error loading script: ${paths[lib]}`);\n",
       "          s.src = paths[lib];\n",
       "        });\n",
       "    }\n",
       "\n",
       "    function showError(err) {\n",
       "      outputDiv.innerHTML = `<div class=\"error\" style=\"color:red;\">${err}</div>`;\n",
       "      throw err;\n",
       "    }\n",
       "\n",
       "    function displayChart(vegaEmbed) {\n",
       "      vegaEmbed(outputDiv, spec, embedOpt)\n",
       "        .catch(err => showError(`Javascript Error: ${err.message}<br>This usually means there's a typo in your chart specification. See the javascript console for the full traceback.`));\n",
       "    }\n",
       "\n",
       "    if(typeof define === \"function\" && define.amd) {\n",
       "      requirejs.config({paths});\n",
       "      require([\"vega-embed\"], displayChart, err => showError(`Error loading script: ${err.message}`));\n",
       "    } else {\n",
       "      maybeLoadScript(\"vega\", \"5\")\n",
       "        .then(() => maybeLoadScript(\"vega-lite\", \"5.20.1\"))\n",
       "        .then(() => maybeLoadScript(\"vega-embed\", \"6\"))\n",
       "        .catch(showError)\n",
       "        .then(() => displayChart(vegaEmbed));\n",
       "    }\n",
       "  })({\"config\": {\"view\": {\"continuousWidth\": 300, \"continuousHeight\": 300}}, \"vconcat\": [{\"hconcat\": [{\"data\": {\"name\": \"data-9a74fecba38480e6b3fbe57298a35827\"}, \"mark\": {\"type\": \"bar\"}, \"encoding\": {\"color\": {\"field\": \"ANO_ELEICAO\", \"legend\": null, \"scale\": {\"domain\": [2018, 2022], \"range\": [\"#F58518\", \"#4C78A8\"]}, \"type\": \"ordinal\"}, \"opacity\": {\"value\": 0.75}, \"row\": {\"field\": \"SIGLA_2022\", \"header\": {\"labelAlign\": \"left\", \"labelAngle\": 0, \"title\": \"Deputado Estadual/Distrital - 2018/2022\", \"titleFontSize\": 12}, \"sort\": {\"field\": \"QT_ORDER\", \"order\": \"descending\"}, \"spacing\": 5, \"title\": \"\", \"type\": \"nominal\"}, \"tooltip\": [{\"field\": \"SIGLA_2022\", \"title\": \"Partido\", \"type\": \"nominal\"}, {\"field\": \"ANO_ELEICAO\", \"title\": \"Ano Elei\\u00e7\\u00e3o\", \"type\": \"ordinal\"}, {\"field\": \"QT_VOTOS_VALIDOS\", \"format\": \",d\", \"title\": \"Votos\", \"type\": \"quantitative\"}], \"x\": {\"axis\": {\"labelAngle\": -90}, \"field\": \"QT_VOTOS_VALIDOS\", \"title\": \"Vota\\u00e7\\u00e3o\", \"type\": \"quantitative\"}, \"y\": {\"field\": \"ANO_ELEICAO\", \"title\": \"\", \"type\": \"ordinal\"}}, \"width\": 300}, {\"data\": {\"name\": \"data-9cf5c4f14ddf0c2f42401161edc0633a\"}, \"mark\": {\"type\": \"bar\"}, \"encoding\": {\"color\": {\"field\": \"ANO_ELEICAO\", \"legend\": null, \"scale\": {\"domain\": [2018, 2022], \"range\": [\"#F58518\", \"#4C78A8\"]}, \"type\": \"ordinal\"}, \"opacity\": {\"value\": 0.75}, \"row\": {\"field\": \"SIGLA_2022\", \"header\": {\"labelAlign\": \"left\", \"labelAngle\": 0, \"title\": \"Deputado Federal - 2018/2022\", \"titleFontSize\": 12}, \"sort\": {\"field\": \"QT_ORDER\", \"order\": \"descending\"}, \"spacing\": 5, \"title\": \"\", \"type\": \"nominal\"}, \"tooltip\": [{\"field\": \"SIGLA_2022\", \"title\": \"Partido\", \"type\": \"nominal\"}, {\"field\": \"ANO_ELEICAO\", \"title\": \"Ano Elei\\u00e7\\u00e3o\", \"type\": \"ordinal\"}, {\"field\": \"QT_VOTOS_VALIDOS\", \"format\": \",d\", \"title\": \"Votos\", \"type\": \"quantitative\"}], \"x\": {\"axis\": {\"labelAngle\": -90}, \"field\": \"QT_VOTOS_VALIDOS\", \"title\": \"Vota\\u00e7\\u00e3o\", \"type\": \"quantitative\"}, \"y\": {\"field\": \"ANO_ELEICAO\", \"title\": \"\", \"type\": \"ordinal\"}}, \"width\": 300}]}, {\"hconcat\": [{\"data\": {\"name\": \"data-60e8d91be146cd9be0f787ad08d66348\"}, \"mark\": {\"type\": \"bar\"}, \"encoding\": {\"color\": {\"field\": \"ANO_ELEICAO\", \"legend\": null, \"scale\": {\"domain\": [2018, 2022], \"range\": [\"#F58518\", \"#4C78A8\"]}, \"type\": \"ordinal\"}, \"opacity\": {\"value\": 0.75}, \"row\": {\"field\": \"SIGLA_2022\", \"header\": {\"labelAlign\": \"left\", \"labelAngle\": 0, \"title\": \"Senador - 2018/2022\", \"titleFontSize\": 12}, \"sort\": {\"field\": \"QT_ORDER\", \"order\": \"descending\"}, \"spacing\": 5, \"title\": \"\", \"type\": \"nominal\"}, \"tooltip\": [{\"field\": \"SIGLA_2022\", \"title\": \"Partido\", \"type\": \"nominal\"}, {\"field\": \"ANO_ELEICAO\", \"title\": \"Ano Elei\\u00e7\\u00e3o\", \"type\": \"ordinal\"}, {\"field\": \"QT_VOTOS_VALIDOS\", \"format\": \",d\", \"title\": \"Votos\", \"type\": \"quantitative\"}], \"x\": {\"axis\": {\"labelAngle\": -90}, \"field\": \"QT_VOTOS_VALIDOS\", \"title\": \"Vota\\u00e7\\u00e3o\", \"type\": \"quantitative\"}, \"y\": {\"field\": \"ANO_ELEICAO\", \"title\": \"\", \"type\": \"ordinal\"}}, \"width\": 300}, {\"data\": {\"name\": \"data-9dad7206e0f5012620ac44cc0080f718\"}, \"mark\": {\"type\": \"bar\"}, \"encoding\": {\"color\": {\"field\": \"ANO_ELEICAO\", \"legend\": null, \"scale\": {\"domain\": [2018, 2022], \"range\": [\"#F58518\", \"#4C78A8\"]}, \"type\": \"ordinal\"}, \"opacity\": {\"value\": 0.75}, \"row\": {\"field\": \"SIGLA_2022\", \"header\": {\"labelAlign\": \"left\", \"labelAngle\": 0, \"title\": \"Governador - 2018/2022\", \"titleFontSize\": 12}, \"sort\": {\"field\": \"QT_ORDER\", \"order\": \"descending\"}, \"spacing\": 5, \"title\": \"\", \"type\": \"nominal\"}, \"tooltip\": [{\"field\": \"SIGLA_2022\", \"title\": \"Partido\", \"type\": \"nominal\"}, {\"field\": \"ANO_ELEICAO\", \"title\": \"Ano Elei\\u00e7\\u00e3o\", \"type\": \"ordinal\"}, {\"field\": \"QT_VOTOS_VALIDOS\", \"format\": \",d\", \"title\": \"Votos\", \"type\": \"quantitative\"}], \"x\": {\"axis\": {\"labelAngle\": -90}, \"field\": \"QT_VOTOS_VALIDOS\", \"title\": \"Vota\\u00e7\\u00e3o\", \"type\": \"quantitative\"}, \"y\": {\"field\": \"ANO_ELEICAO\", \"title\": \"\", \"type\": \"ordinal\"}}, \"width\": 300}]}, {\"data\": {\"name\": \"data-9d58d1839f980463139f5b527e713969\"}, \"mark\": {\"type\": \"bar\"}, \"encoding\": {\"color\": {\"field\": \"ANO_ELEICAO\", \"legend\": null, \"scale\": {\"domain\": [2018, 2022], \"range\": [\"#F58518\", \"#4C78A8\"]}, \"type\": \"ordinal\"}, \"opacity\": {\"value\": 0.75}, \"row\": {\"field\": \"SIGLA_2022\", \"header\": {\"labelAlign\": \"left\", \"labelAngle\": 0, \"title\": \"Presidente - 2018/2022\", \"titleFontSize\": 12}, \"sort\": {\"field\": \"QT_ORDER\", \"order\": \"descending\"}, \"spacing\": 5, \"title\": \"\", \"type\": \"nominal\"}, \"tooltip\": [{\"field\": \"SIGLA_2022\", \"title\": \"Partido\", \"type\": \"nominal\"}, {\"field\": \"ANO_ELEICAO\", \"title\": \"Ano Elei\\u00e7\\u00e3o\", \"type\": \"ordinal\"}, {\"field\": \"QT_VOTOS_VALIDOS\", \"format\": \",d\", \"title\": \"Votos\", \"type\": \"quantitative\"}], \"x\": {\"axis\": {\"labelAngle\": -90}, \"field\": \"QT_VOTOS_VALIDOS\", \"title\": \"Vota\\u00e7\\u00e3o\", \"type\": \"quantitative\"}, \"y\": {\"field\": \"ANO_ELEICAO\", \"title\": \"\", \"type\": \"ordinal\"}}, \"width\": 300}], \"$schema\": \"https://vega.github.io/schema/vega-lite/v5.20.1.json\", \"datasets\": {\"data-9a74fecba38480e6b3fbe57298a35827\": [{\"ANO_ELEICAO\": 2022, \"SIGLA_2022\": \"PT\", \"SG_POSIC_IDEOLOGICO\": \"CE\", \"QT_VOTOS_VALIDOS\": 13396406, \"MEDIA_IDEOL\": 2.9700000286102295, \"cor\": \"#C54B53\", \"QT_ORDER\": 13396406}, {\"ANO_ELEICAO\": 2022, \"SIGLA_2022\": \"PL\", \"SG_POSIC_IDEOLOGICO\": \"D\", \"QT_VOTOS_VALIDOS\": 13527495, \"MEDIA_IDEOL\": 7.78000020980835, \"cor\": \"#262DDA\", \"QT_ORDER\": 13527495}, {\"ANO_ELEICAO\": 2022, \"SIGLA_2022\": \"UNI\\u00c3O\", \"SG_POSIC_IDEOLOGICO\": \"ED\", \"QT_VOTOS_VALIDOS\": 9097661, \"MEDIA_IDEOL\": 8.569999694824219, \"cor\": \"#030886\", \"QT_ORDER\": 9097661}, {\"ANO_ELEICAO\": 2022, \"SIGLA_2022\": \"PSD\", \"SG_POSIC_IDEOLOGICO\": \"CD\", \"QT_VOTOS_VALIDOS\": 7820614, \"MEDIA_IDEOL\": 7.090000152587891, \"cor\": \"#97A3FF\", \"QT_ORDER\": 7820614}, {\"ANO_ELEICAO\": 2022, \"SIGLA_2022\": \"MDB\", \"SG_POSIC_IDEOLOGICO\": \"CD\", \"QT_VOTOS_VALIDOS\": 7875801, \"MEDIA_IDEOL\": 7.010000228881836, \"cor\": \"#97A3FF\", \"QT_ORDER\": 7875801}, {\"ANO_ELEICAO\": 2018, \"SIGLA_2022\": \"PT\", \"SG_POSIC_IDEOLOGICO\": \"CE\", \"QT_VOTOS_VALIDOS\": 8666866, \"MEDIA_IDEOL\": 2.9700000286102295, \"cor\": \"#C54B53\", \"QT_ORDER\": 13396406}, {\"ANO_ELEICAO\": 2018, \"SIGLA_2022\": \"PL\", \"SG_POSIC_IDEOLOGICO\": \"D\", \"QT_VOTOS_VALIDOS\": 3822192, \"MEDIA_IDEOL\": 7.78000020980835, \"cor\": \"#262DDA\", \"QT_ORDER\": 13527495}, {\"ANO_ELEICAO\": 2018, \"SIGLA_2022\": \"UNI\\u00c3O\", \"SG_POSIC_IDEOLOGICO\": \"ED\", \"QT_VOTOS_VALIDOS\": 13535800, \"MEDIA_IDEOL\": 8.569999694824219, \"cor\": \"#030886\", \"QT_ORDER\": 9097661}, {\"ANO_ELEICAO\": 2018, \"SIGLA_2022\": \"PSD\", \"SG_POSIC_IDEOLOGICO\": \"CD\", \"QT_VOTOS_VALIDOS\": 5132837, \"MEDIA_IDEOL\": 7.090000152587891, \"cor\": \"#97A3FF\", \"QT_ORDER\": 7820614}, {\"ANO_ELEICAO\": 2018, \"SIGLA_2022\": \"MDB\", \"SG_POSIC_IDEOLOGICO\": \"CD\", \"QT_VOTOS_VALIDOS\": 6765451, \"MEDIA_IDEOL\": 7.010000228881836, \"cor\": \"#97A3FF\", \"QT_ORDER\": 7875801}], \"data-9cf5c4f14ddf0c2f42401161edc0633a\": [{\"ANO_ELEICAO\": 2022, \"SIGLA_2022\": \"PT\", \"SG_POSIC_IDEOLOGICO\": \"CE\", \"QT_VOTOS_VALIDOS\": 13236698, \"MEDIA_IDEOL\": 2.9700000286102295, \"cor\": \"#C54B53\", \"QT_ORDER\": 13236698}, {\"ANO_ELEICAO\": 2022, \"SIGLA_2022\": \"PP\", \"SG_POSIC_IDEOLOGICO\": \"D\", \"QT_VOTOS_VALIDOS\": 8692918, \"MEDIA_IDEOL\": 8.199999809265137, \"cor\": \"#262DDA\", \"QT_ORDER\": 8692918}, {\"ANO_ELEICAO\": 2022, \"SIGLA_2022\": \"PL\", \"SG_POSIC_IDEOLOGICO\": \"D\", \"QT_VOTOS_VALIDOS\": 18286211, \"MEDIA_IDEOL\": 7.78000020980835, \"cor\": \"#262DDA\", \"QT_ORDER\": 18286211}, {\"ANO_ELEICAO\": 2022, \"SIGLA_2022\": \"UNI\\u00c3O\", \"SG_POSIC_IDEOLOGICO\": \"ED\", \"QT_VOTOS_VALIDOS\": 10215433, \"MEDIA_IDEOL\": 8.569999694824219, \"cor\": \"#030886\", \"QT_ORDER\": 10215433}, {\"ANO_ELEICAO\": 2022, \"SIGLA_2022\": \"PSD\", \"SG_POSIC_IDEOLOGICO\": \"CD\", \"QT_VOTOS_VALIDOS\": 8293956, \"MEDIA_IDEOL\": 7.090000152587891, \"cor\": \"#97A3FF\", \"QT_ORDER\": 8293956}, {\"ANO_ELEICAO\": 2018, \"SIGLA_2022\": \"PT\", \"SG_POSIC_IDEOLOGICO\": \"CE\", \"QT_VOTOS_VALIDOS\": 10251258, \"MEDIA_IDEOL\": 2.9700000286102295, \"cor\": \"#C54B53\", \"QT_ORDER\": 13236698}, {\"ANO_ELEICAO\": 2018, \"SIGLA_2022\": \"PP\", \"SG_POSIC_IDEOLOGICO\": \"D\", \"QT_VOTOS_VALIDOS\": 5446136, \"MEDIA_IDEOL\": 8.199999809265137, \"cor\": \"#262DDA\", \"QT_ORDER\": 8692918}, {\"ANO_ELEICAO\": 2018, \"SIGLA_2022\": \"PL\", \"SG_POSIC_IDEOLOGICO\": \"D\", \"QT_VOTOS_VALIDOS\": 5224591, \"MEDIA_IDEOL\": 7.78000020980835, \"cor\": \"#262DDA\", \"QT_ORDER\": 18286211}, {\"ANO_ELEICAO\": 2018, \"SIGLA_2022\": \"UNI\\u00c3O\", \"SG_POSIC_IDEOLOGICO\": \"ED\", \"QT_VOTOS_VALIDOS\": 16031609, \"MEDIA_IDEOL\": 8.569999694824219, \"cor\": \"#030886\", \"QT_ORDER\": 10215433}, {\"ANO_ELEICAO\": 2018, \"SIGLA_2022\": \"PSD\", \"SG_POSIC_IDEOLOGICO\": \"CD\", \"QT_VOTOS_VALIDOS\": 5749010, \"MEDIA_IDEOL\": 7.090000152587891, \"cor\": \"#97A3FF\", \"QT_ORDER\": 8293956}], \"data-60e8d91be146cd9be0f787ad08d66348\": [{\"ANO_ELEICAO\": 2022, \"SIGLA_2022\": \"PT\", \"SG_POSIC_IDEOLOGICO\": \"CE\", \"QT_VOTOS_VALIDOS\": 12024696, \"MEDIA_IDEOL\": 2.9700000286102295, \"cor\": \"#C54B53\", \"QT_ORDER\": 12024696}, {\"ANO_ELEICAO\": 2022, \"SIGLA_2022\": \"PP\", \"SG_POSIC_IDEOLOGICO\": \"D\", \"QT_VOTOS_VALIDOS\": 7592391, \"MEDIA_IDEOL\": 8.199999809265137, \"cor\": \"#262DDA\", \"QT_ORDER\": 7592391}, {\"ANO_ELEICAO\": 2022, \"SIGLA_2022\": \"PL\", \"SG_POSIC_IDEOLOGICO\": \"D\", \"QT_VOTOS_VALIDOS\": 25278764, \"MEDIA_IDEOL\": 7.78000020980835, \"cor\": \"#262DDA\", \"QT_ORDER\": 25278764}, {\"ANO_ELEICAO\": 2022, \"SIGLA_2022\": \"PSB\", \"SG_POSIC_IDEOLOGICO\": \"CE\", \"QT_VOTOS_VALIDOS\": 13615846, \"MEDIA_IDEOL\": 4.050000190734863, \"cor\": \"#C54B53\", \"QT_ORDER\": 13615846}, {\"ANO_ELEICAO\": 2022, \"SIGLA_2022\": \"PSD\", \"SG_POSIC_IDEOLOGICO\": \"CD\", \"QT_VOTOS_VALIDOS\": 11312512, \"MEDIA_IDEOL\": 7.090000152587891, \"cor\": \"#97A3FF\", \"QT_ORDER\": 11312512}, {\"ANO_ELEICAO\": 2018, \"SIGLA_2022\": \"PT\", \"SG_POSIC_IDEOLOGICO\": \"CE\", \"QT_VOTOS_VALIDOS\": 24785670, \"MEDIA_IDEOL\": 2.9700000286102295, \"cor\": \"#C54B53\", \"QT_ORDER\": 12024696}, {\"ANO_ELEICAO\": 2018, \"SIGLA_2022\": \"PP\", \"SG_POSIC_IDEOLOGICO\": \"D\", \"QT_VOTOS_VALIDOS\": 7529901, \"MEDIA_IDEOL\": 8.199999809265137, \"cor\": \"#262DDA\", \"QT_ORDER\": 7592391}, {\"ANO_ELEICAO\": 2018, \"SIGLA_2022\": \"PL\", \"SG_POSIC_IDEOLOGICO\": \"D\", \"QT_VOTOS_VALIDOS\": 3130082, \"MEDIA_IDEOL\": 7.78000020980835, \"cor\": \"#262DDA\", \"QT_ORDER\": 25278764}, {\"ANO_ELEICAO\": 2018, \"SIGLA_2022\": \"PSB\", \"SG_POSIC_IDEOLOGICO\": \"CE\", \"QT_VOTOS_VALIDOS\": 8109072, \"MEDIA_IDEOL\": 4.050000190734863, \"cor\": \"#C54B53\", \"QT_ORDER\": 13615846}, {\"ANO_ELEICAO\": 2018, \"SIGLA_2022\": \"PSD\", \"SG_POSIC_IDEOLOGICO\": \"CD\", \"QT_VOTOS_VALIDOS\": 8202342, \"MEDIA_IDEOL\": 7.090000152587891, \"cor\": \"#97A3FF\", \"QT_ORDER\": 11312512}], \"data-9dad7206e0f5012620ac44cc0080f718\": [{\"ANO_ELEICAO\": 2022, \"SIGLA_2022\": \"PT\", \"SG_POSIC_IDEOLOGICO\": \"CE\", \"QT_VOTOS_VALIDOS\": 22265662, \"MEDIA_IDEOL\": 2.9700000286102295, \"cor\": \"#C54B53\", \"QT_ORDER\": 22265662}, {\"ANO_ELEICAO\": 2022, \"SIGLA_2022\": \"REPUBLICANOS\", \"SG_POSIC_IDEOLOGICO\": \"D\", \"QT_VOTOS_VALIDOS\": 11056917, \"MEDIA_IDEOL\": 7.78000020980835, \"cor\": \"#262DDA\", \"QT_ORDER\": 11056917}, {\"ANO_ELEICAO\": 2022, \"SIGLA_2022\": \"PL\", \"SG_POSIC_IDEOLOGICO\": \"D\", \"QT_VOTOS_VALIDOS\": 14726813, \"MEDIA_IDEOL\": 7.78000020980835, \"cor\": \"#262DDA\", \"QT_ORDER\": 14726813}, {\"ANO_ELEICAO\": 2022, \"SIGLA_2022\": \"UNI\\u00c3O\", \"SG_POSIC_IDEOLOGICO\": \"ED\", \"QT_VOTOS_VALIDOS\": 11880759, \"MEDIA_IDEOL\": 8.569999694824219, \"cor\": \"#030886\", \"QT_ORDER\": 11880759}, {\"ANO_ELEICAO\": 2022, \"SIGLA_2022\": \"PSD\", \"SG_POSIC_IDEOLOGICO\": \"CD\", \"QT_VOTOS_VALIDOS\": 9249065, \"MEDIA_IDEOL\": 7.090000152587891, \"cor\": \"#97A3FF\", \"QT_ORDER\": 9249065}, {\"ANO_ELEICAO\": 2018, \"SIGLA_2022\": \"PT\", \"SG_POSIC_IDEOLOGICO\": \"CE\", \"QT_VOTOS_VALIDOS\": 18908791, \"MEDIA_IDEOL\": 2.9700000286102295, \"cor\": \"#C54B53\", \"QT_ORDER\": 22265662}, {\"ANO_ELEICAO\": 2018, \"SIGLA_2022\": \"PL\", \"SG_POSIC_IDEOLOGICO\": \"D\", \"QT_VOTOS_VALIDOS\": 280055, \"MEDIA_IDEOL\": 7.78000020980835, \"cor\": \"#262DDA\", \"QT_ORDER\": 14726813}, {\"ANO_ELEICAO\": 2018, \"SIGLA_2022\": \"UNI\\u00c3O\", \"SG_POSIC_IDEOLOGICO\": \"ED\", \"QT_VOTOS_VALIDOS\": 9747868, \"MEDIA_IDEOL\": 8.569999694824219, \"cor\": \"#030886\", \"QT_ORDER\": 11880759}, {\"ANO_ELEICAO\": 2018, \"SIGLA_2022\": \"PSD\", \"SG_POSIC_IDEOLOGICO\": \"CD\", \"QT_VOTOS_VALIDOS\": 5695387, \"MEDIA_IDEOL\": 7.090000152587891, \"cor\": \"#97A3FF\", \"QT_ORDER\": 9249065}], \"data-9d58d1839f980463139f5b527e713969\": [{\"ANO_ELEICAO\": 2022, \"SIGLA_2022\": \"PT\", \"SG_POSIC_IDEOLOGICO\": \"CE\", \"QT_VOTOS_VALIDOS\": 57259504, \"MEDIA_IDEOL\": 2.9700000286102295, \"cor\": \"#C54B53\", \"QT_ORDER\": 57259504}, {\"ANO_ELEICAO\": 2022, \"SIGLA_2022\": \"PL\", \"SG_POSIC_IDEOLOGICO\": \"D\", \"QT_VOTOS_VALIDOS\": 51072345, \"MEDIA_IDEOL\": 7.78000020980835, \"cor\": \"#262DDA\", \"QT_ORDER\": 51072345}, {\"ANO_ELEICAO\": 2022, \"SIGLA_2022\": \"UNI\\u00c3O\", \"SG_POSIC_IDEOLOGICO\": \"ED\", \"QT_VOTOS_VALIDOS\": 600955, \"MEDIA_IDEOL\": 8.569999694824219, \"cor\": \"#030886\", \"QT_ORDER\": 600955}, {\"ANO_ELEICAO\": 2022, \"SIGLA_2022\": \"MDB\", \"SG_POSIC_IDEOLOGICO\": \"CD\", \"QT_VOTOS_VALIDOS\": 4915423, \"MEDIA_IDEOL\": 7.010000228881836, \"cor\": \"#97A3FF\", \"QT_ORDER\": 4915423}, {\"ANO_ELEICAO\": 2022, \"SIGLA_2022\": \"PDT\", \"SG_POSIC_IDEOLOGICO\": \"CE\", \"QT_VOTOS_VALIDOS\": 3599287, \"MEDIA_IDEOL\": 3.9200000762939453, \"cor\": \"#C54B53\", \"QT_ORDER\": 3599287}, {\"ANO_ELEICAO\": 2018, \"SIGLA_2022\": \"PT\", \"SG_POSIC_IDEOLOGICO\": \"CE\", \"QT_VOTOS_VALIDOS\": 31342051, \"MEDIA_IDEOL\": 2.9700000286102295, \"cor\": \"#C54B53\", \"QT_ORDER\": 57259504}, {\"ANO_ELEICAO\": 2018, \"SIGLA_2022\": \"UNI\\u00c3O\", \"SG_POSIC_IDEOLOGICO\": \"ED\", \"QT_VOTOS_VALIDOS\": 49277010, \"MEDIA_IDEOL\": 8.569999694824219, \"cor\": \"#030886\", \"QT_ORDER\": 600955}, {\"ANO_ELEICAO\": 2018, \"SIGLA_2022\": \"MDB\", \"SG_POSIC_IDEOLOGICO\": \"CD\", \"QT_VOTOS_VALIDOS\": 1288950, \"MEDIA_IDEOL\": 7.010000228881836, \"cor\": \"#97A3FF\", \"QT_ORDER\": 4915423}, {\"ANO_ELEICAO\": 2018, \"SIGLA_2022\": \"PDT\", \"SG_POSIC_IDEOLOGICO\": \"CE\", \"QT_VOTOS_VALIDOS\": 13344371, \"MEDIA_IDEOL\": 3.9200000762939453, \"cor\": \"#C54B53\", \"QT_ORDER\": 3599287}]}}, {\"mode\": \"vega-lite\"});\n",
       "</script>"
      ],
      "text/plain": [
       "alt.VConcatChart(...)"
      ]
     },
     "execution_count": 9,
     "metadata": {},
     "output_type": "execute_result"
    }
   ],
   "source": [
    "grouped_depe = sdt_f.grouped_bar_chart(df_poll_18, df_poll_22, df_colors, list([7,8]), 'Deputado Estadual/Distrital - 2018/2022')\n",
    "grouped_depf = sdt_f.grouped_bar_chart(df_poll_18, df_poll_22, df_colors, list([6]), 'Deputado Federal - 2018/2022')\n",
    "grouped_sen = sdt_f.grouped_bar_chart(df_poll_18, df_poll_22, df_colors, list([5]), 'Senador - 2018/2022')\n",
    "grouped_gov = sdt_f.grouped_bar_chart(df_poll_18, df_poll_22, df_colors, list([3]), 'Governador - 2018/2022')\n",
    "grouped_pres = sdt_f.grouped_bar_chart(df_poll_18, df_poll_22, df_colors, list([1]), 'Presidente - 2018/2022')\n",
    "\n",
    "((grouped_depe|grouped_depf) & (grouped_sen|grouped_gov) & grouped_pres)"
   ]
  },
  {
   "cell_type": "markdown",
   "id": "d67758fe-b347-4c9e-bcd3-de2ff0f858e9",
   "metadata": {},
   "source": [
    "- _Basicamento, não importa para qual cargo se olhe, fica muito evidente que o **PL** e o **PT** foram os partidos que rivalizaram os votos em 2022, sendo que o crescimento do **PL** é algo a se considerar e mostra que ele aglutinou as forças da direita no Brasil;_\n",
    "\n",
    "- _Levando em consideração cargos do executivo, tanto governador como presidente, o **PT** cresceu em número de votos entre 2018 e 2022, mas o **PL** também elegeu como nunca antes;_\n",
    "\n",
    "- _**PT** e **PL** elegeram as maiores bancadas do congresso nacional em 2022, porém, mais uma vez, o destaque é o **PL** que recebeu 5 milhoes de votos em 2018 e 18 milhões em 2022;_\n",
    "\n",
    "- _Pode-se observar que o **UNIÃO** teve uma queda vertiginosa no número de votos, entre 2018 e 2022, provavelvemtente, isto deveu-se ao fato que, em 2022, o ex-presidente Jair Bolsoro migrou do antigo **PSL** que se juntou ao **DEM** e formando o atual **UNIÃO**. Como foi feita a integração das bases eleitorais de 2018 e 2022, os votos dos antigos **PSL** e **DEM** estão sendo contabilizados no atual **UNIÃO**.  Isso e a migração do ex presidente Bolsonaro, explicam que houve uma migração em massa dos votos da direita do antigo **PSL** para o **PL**, mostrando a força do ex-presidente;_\n",
    "\n",
    "- _Mais um insight interessante de se destacar é a derrocatada do **PSDB**, um partido que que sempre disputava a presidência, elegia muitos governadores e deputados e que virou um partido nanico, mas isto precisa ser analisado em outro trabalho._"
   ]
  }
 ],
 "metadata": {
  "kernelspec": {
   "display_name": "Python 3 (ipykernel)",
   "language": "python",
   "name": "python3"
  },
  "language_info": {
   "codemirror_mode": {
    "name": "ipython",
    "version": 3
   },
   "file_extension": ".py",
   "mimetype": "text/x-python",
   "name": "python",
   "nbconvert_exporter": "python",
   "pygments_lexer": "ipython3",
   "version": "3.10.13"
  }
 },
 "nbformat": 4,
 "nbformat_minor": 5
}
